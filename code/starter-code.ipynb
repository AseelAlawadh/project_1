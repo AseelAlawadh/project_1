{
 "cells": [
  {
   "cell_type": "markdown",
   "metadata": {},
   "source": [
    "# Project 1: Driving Licenses, Traffic Accidents and Casualties Analysis"
   ]
  },
  {
   "cell_type": "markdown",
   "metadata": {},
   "source": [
    "## Problem Statment\n",
    "\n",
    "Craft your problem statement here using the prompt from the README and other sources you find during your investigation."
   ]
  },
  {
   "cell_type": "markdown",
   "metadata": {},
   "source": []
  },
  {
   "cell_type": "markdown",
   "metadata": {},
   "source": [
    "## Executive Summary\n",
    "Write an executive summary that summarizes the problem and your key findings."
   ]
  },
  {
   "cell_type": "markdown",
   "metadata": {},
   "source": []
  },
  {
   "cell_type": "markdown",
   "metadata": {},
   "source": [
    "### Contents:\n",
    "- [Datasets Description](#Datasets-Description)\n",
    "- [Data Import & Cleaning](#Data-Import-and-Cleaning)\n",
    "- [Exploratory Data Analysis](#Exploratory-Data-Analysis)\n",
    "- [Data Visualization](#Visualize-the-data)\n",
    "- [Descriptive and Inferential Statistics](#Descriptive-and-Inferential-Statistics)\n",
    "- [Outside Research](#Outside-Research)\n",
    "- [Conclusions and Recommendations](#Conclusions-and-Recommendations)"
   ]
  },
  {
   "cell_type": "markdown",
   "metadata": {},
   "source": [
    "**If you combine your problem statement, executive summary, data dictionary, and conclusions/recommendations, you have an amazing README.md file that quickly aligns your audience to the contents of your project.** Don't forget to cite your data sources!"
   ]
  },
  {
   "cell_type": "markdown",
   "metadata": {},
   "source": [
    "*All libraries used should be added here, including any Jupyter magic commands*"
   ]
  },
  {
   "cell_type": "code",
   "execution_count": 1450,
   "metadata": {},
   "outputs": [],
   "source": [
    "#Imports\n",
    "import pandas as pd\n",
    "from math import sqrt\n",
    "import numpy as np \n",
    "from scipy import stats\n",
    "import seaborn as sns\n",
    "import matplotlib.pyplot as plt\n",
    "%matplotlib inline"
   ]
  },
  {
   "cell_type": "markdown",
   "metadata": {},
   "source": [
    "## Datasets Description\n",
    "\n",
    "[Driving Licenses](https://datasource.kapsarc.org/explore/dataset/saudi-arabia-driving-licenses-issued-in-the-kingdom-2004-2008/information/?disjunctive.administritive_area&sort=time_period&location=5,24.37495,45.08024&basemap=jawg.streets)\n",
    "This dataset contains Saudi Arabia Driving Licenses Issued By Administrative Area for 1993 - 2016. Data from General Authority for Statistics . Follow datasource.kapsarc.org for timely data to advance energy economics research.\n",
    "\n",
    "[Traffic Accidents and Casualties](https://datasource.kapsarc.org/explore/dataset/saudi-arabia-traffic-accidents-and-casualties-injured-dead-2008/export/?disjunctive.region&disjunctive.indicator&sort=time_period)\n",
    "This dataset contains Saudi Arabia Traffic Accidents and Casualties by Region for 2016. Data from General Authority for Statistics. Follow datasource.kapsarc.org for timely data to advance energy economics research.\n"
   ]
  },
  {
   "cell_type": "markdown",
   "metadata": {},
   "source": [
    "## Data Import and Cleaning"
   ]
  },
  {
   "cell_type": "markdown",
   "metadata": {},
   "source": [
    "#### 1. Read In Driving Licenses & Traffic Accidents Data\n",
    "Read in the `saudi-arabia-traffic-accidents-2008.csv` and `saudi-arabia-driving-licenses-2004-2008.csv` files and assign them to appropriately named pandas dataframes."
   ]
  },
  {
   "cell_type": "code",
   "execution_count": 1451,
   "metadata": {},
   "outputs": [],
   "source": [
    "#imports dataset\n",
    "traffic_accidents = pd.read_csv('../data/saudi-arabia-traffic-accidents-2008.csv', sep=';')\n",
    "driving_license = pd.read_csv('../data/saudi-arabia-driving-licenses-2004-2008.csv',sep=';')"
   ]
  },
  {
   "cell_type": "markdown",
   "metadata": {},
   "source": [
    "#### 2. Display data\n",
    "\n",
    "Print the first 10 rows of each dataframe to your jupyter notebook"
   ]
  },
  {
   "cell_type": "code",
   "execution_count": 1452,
   "metadata": {},
   "outputs": [
    {
     "data": {
      "text/html": [
       "<div>\n",
       "<style scoped>\n",
       "    .dataframe tbody tr th:only-of-type {\n",
       "        vertical-align: middle;\n",
       "    }\n",
       "\n",
       "    .dataframe tbody tr th {\n",
       "        vertical-align: top;\n",
       "    }\n",
       "\n",
       "    .dataframe thead th {\n",
       "        text-align: right;\n",
       "    }\n",
       "</style>\n",
       "<table border=\"1\" class=\"dataframe\">\n",
       "  <thead>\n",
       "    <tr style=\"text-align: right;\">\n",
       "      <th></th>\n",
       "      <th>Unnamed: 0</th>\n",
       "      <th>Unnamed: 0.1</th>\n",
       "      <th>Year</th>\n",
       "      <th>Region</th>\n",
       "      <th>Indicator</th>\n",
       "      <th>Value</th>\n",
       "      <th>geo_point_2d</th>\n",
       "    </tr>\n",
       "  </thead>\n",
       "  <tbody>\n",
       "    <tr>\n",
       "      <th>0</th>\n",
       "      <td>0</td>\n",
       "      <td>0</td>\n",
       "      <td>(2016)</td>\n",
       "      <td>Makkah</td>\n",
       "      <td>No. of Casualties - Injured</td>\n",
       "      <td>12383n</td>\n",
       "      <td>21.628962766, 41.2636898334</td>\n",
       "    </tr>\n",
       "    <tr>\n",
       "      <th>1</th>\n",
       "      <td>1</td>\n",
       "      <td>1</td>\n",
       "      <td>(2016)</td>\n",
       "      <td>Eastern Region</td>\n",
       "      <td>No. of Casualties - Dead</td>\n",
       "      <td>1113n</td>\n",
       "      <td>23.2883307307, 50.1478302439</td>\n",
       "    </tr>\n",
       "    <tr>\n",
       "      <th>2</th>\n",
       "      <td>2</td>\n",
       "      <td>2</td>\n",
       "      <td>(2016)</td>\n",
       "      <td>Tabouk</td>\n",
       "      <td>No. of Casualties - Dead</td>\n",
       "      <td>434n</td>\n",
       "      <td>27.90165499, 37.2598581394</td>\n",
       "    </tr>\n",
       "    <tr>\n",
       "      <th>3</th>\n",
       "      <td>3</td>\n",
       "      <td>3</td>\n",
       "      <td>(2016)</td>\n",
       "      <td>Hail</td>\n",
       "      <td>No. of Casualties - Dead</td>\n",
       "      <td>299n</td>\n",
       "      <td>27.400845724, 41.4406960508</td>\n",
       "    </tr>\n",
       "    <tr>\n",
       "      <th>4</th>\n",
       "      <td>4</td>\n",
       "      <td>4</td>\n",
       "      <td>(2016)</td>\n",
       "      <td>Hail</td>\n",
       "      <td>No. of Accidents</td>\n",
       "      <td>10199n</td>\n",
       "      <td>27.400845724, 41.4406960508</td>\n",
       "    </tr>\n",
       "    <tr>\n",
       "      <th>5</th>\n",
       "      <td>5</td>\n",
       "      <td>5</td>\n",
       "      <td>(2016)</td>\n",
       "      <td>Northern Boarder</td>\n",
       "      <td>No. of Casualties - Dead</td>\n",
       "      <td>193n</td>\n",
       "      <td>30.197074783, 41.8171186952</td>\n",
       "    </tr>\n",
       "    <tr>\n",
       "      <th>6</th>\n",
       "      <td>6</td>\n",
       "      <td>6</td>\n",
       "      <td>(2017)</td>\n",
       "      <td>Jazan</td>\n",
       "      <td>No. of Accidents</td>\n",
       "      <td>22161n</td>\n",
       "      <td>17.2072313962, 42.6525807422</td>\n",
       "    </tr>\n",
       "    <tr>\n",
       "      <th>7</th>\n",
       "      <td>7</td>\n",
       "      <td>7</td>\n",
       "      <td>(2017)</td>\n",
       "      <td>Al-Jouf</td>\n",
       "      <td>No. of Accidents</td>\n",
       "      <td>10469n</td>\n",
       "      <td>29.9677445762, 39.5570371172</td>\n",
       "    </tr>\n",
       "    <tr>\n",
       "      <th>8</th>\n",
       "      <td>8</td>\n",
       "      <td>8</td>\n",
       "      <td>(2017)</td>\n",
       "      <td>Total</td>\n",
       "      <td>No. of Casualties - Dead</td>\n",
       "      <td>7489n</td>\n",
       "      <td>NaN</td>\n",
       "    </tr>\n",
       "    <tr>\n",
       "      <th>9</th>\n",
       "      <td>9</td>\n",
       "      <td>9</td>\n",
       "      <td>(2016)</td>\n",
       "      <td>Northern Boarder</td>\n",
       "      <td>No. of Casualties - Injured</td>\n",
       "      <td>631n</td>\n",
       "      <td>30.197074783, 41.8171186952</td>\n",
       "    </tr>\n",
       "  </tbody>\n",
       "</table>\n",
       "</div>"
      ],
      "text/plain": [
       "   Unnamed: 0  Unnamed: 0.1    Year            Region  \\\n",
       "0           0             0  (2016)            Makkah   \n",
       "1           1             1  (2016)    Eastern Region   \n",
       "2           2             2  (2016)            Tabouk   \n",
       "3           3             3  (2016)              Hail   \n",
       "4           4             4  (2016)              Hail   \n",
       "5           5             5  (2016)  Northern Boarder   \n",
       "6           6             6  (2017)             Jazan   \n",
       "7           7             7  (2017)           Al-Jouf   \n",
       "8           8             8  (2017)             Total   \n",
       "9           9             9  (2016)  Northern Boarder   \n",
       "\n",
       "                     Indicator   Value                  geo_point_2d  \n",
       "0  No. of Casualties - Injured  12383n   21.628962766, 41.2636898334  \n",
       "1     No. of Casualties - Dead   1113n  23.2883307307, 50.1478302439  \n",
       "2     No. of Casualties - Dead    434n    27.90165499, 37.2598581394  \n",
       "3     No. of Casualties - Dead    299n   27.400845724, 41.4406960508  \n",
       "4             No. of Accidents  10199n   27.400845724, 41.4406960508  \n",
       "5     No. of Casualties - Dead    193n   30.197074783, 41.8171186952  \n",
       "6             No. of Accidents  22161n  17.2072313962, 42.6525807422  \n",
       "7             No. of Accidents  10469n  29.9677445762, 39.5570371172  \n",
       "8     No. of Casualties - Dead   7489n                           NaN  \n",
       "9  No. of Casualties - Injured    631n   30.197074783, 41.8171186952  "
      ]
     },
     "execution_count": 1452,
     "metadata": {},
     "output_type": "execute_result"
    }
   ],
   "source": [
    "traffic_accidents.head(10)"
   ]
  },
  {
   "cell_type": "code",
   "execution_count": 1453,
   "metadata": {},
   "outputs": [
    {
     "data": {
      "text/html": [
       "<div>\n",
       "<style scoped>\n",
       "    .dataframe tbody tr th:only-of-type {\n",
       "        vertical-align: middle;\n",
       "    }\n",
       "\n",
       "    .dataframe tbody tr th {\n",
       "        vertical-align: top;\n",
       "    }\n",
       "\n",
       "    .dataframe thead th {\n",
       "        text-align: right;\n",
       "    }\n",
       "</style>\n",
       "<table border=\"1\" class=\"dataframe\">\n",
       "  <thead>\n",
       "    <tr style=\"text-align: right;\">\n",
       "      <th></th>\n",
       "      <th>Unnamed: 0</th>\n",
       "      <th>Year</th>\n",
       "      <th>Administritive Area</th>\n",
       "      <th>Driving Liceses</th>\n",
       "      <th>geo_point_2d</th>\n",
       "    </tr>\n",
       "  </thead>\n",
       "  <tbody>\n",
       "    <tr>\n",
       "      <th>0</th>\n",
       "      <td>0</td>\n",
       "      <td>(2012)</td>\n",
       "      <td>Makkah</td>\n",
       "      <td>143954n</td>\n",
       "      <td>21.628962766, 41.2636898334</td>\n",
       "    </tr>\n",
       "    <tr>\n",
       "      <th>1</th>\n",
       "      <td>1</td>\n",
       "      <td>(1994)</td>\n",
       "      <td>Makkah</td>\n",
       "      <td>75349n</td>\n",
       "      <td>21.628962766, 41.2636898334</td>\n",
       "    </tr>\n",
       "    <tr>\n",
       "      <th>2</th>\n",
       "      <td>2</td>\n",
       "      <td>(1998)</td>\n",
       "      <td>Makkah</td>\n",
       "      <td>86082n</td>\n",
       "      <td>21.628962766, 41.2636898334</td>\n",
       "    </tr>\n",
       "    <tr>\n",
       "      <th>3</th>\n",
       "      <td>3</td>\n",
       "      <td>(2004)</td>\n",
       "      <td>Makkah</td>\n",
       "      <td>86636n</td>\n",
       "      <td>21.628962766, 41.2636898334</td>\n",
       "    </tr>\n",
       "    <tr>\n",
       "      <th>4</th>\n",
       "      <td>4</td>\n",
       "      <td>(2005)</td>\n",
       "      <td>Makkah</td>\n",
       "      <td>65099n</td>\n",
       "      <td>21.628962766, 41.2636898334</td>\n",
       "    </tr>\n",
       "    <tr>\n",
       "      <th>5</th>\n",
       "      <td>5</td>\n",
       "      <td>(2008)</td>\n",
       "      <td>Makkah</td>\n",
       "      <td>77013n</td>\n",
       "      <td>21.628962766, 41.2636898334</td>\n",
       "    </tr>\n",
       "    <tr>\n",
       "      <th>6</th>\n",
       "      <td>6</td>\n",
       "      <td>(2014)</td>\n",
       "      <td>Madinah</td>\n",
       "      <td>31447n</td>\n",
       "      <td>24.927534539, 39.4918237173</td>\n",
       "    </tr>\n",
       "    <tr>\n",
       "      <th>7</th>\n",
       "      <td>7</td>\n",
       "      <td>(2013)</td>\n",
       "      <td>Madinah</td>\n",
       "      <td>28513n</td>\n",
       "      <td>24.927534539, 39.4918237173</td>\n",
       "    </tr>\n",
       "    <tr>\n",
       "      <th>8</th>\n",
       "      <td>8</td>\n",
       "      <td>(2012)</td>\n",
       "      <td>Madinah</td>\n",
       "      <td>14459n</td>\n",
       "      <td>24.927534539, 39.4918237173</td>\n",
       "    </tr>\n",
       "    <tr>\n",
       "      <th>9</th>\n",
       "      <td>9</td>\n",
       "      <td>(1994)</td>\n",
       "      <td>Madinah</td>\n",
       "      <td>3767n</td>\n",
       "      <td>24.927534539, 39.4918237173</td>\n",
       "    </tr>\n",
       "  </tbody>\n",
       "</table>\n",
       "</div>"
      ],
      "text/plain": [
       "   Unnamed: 0    Year Administritive Area Driving Liceses  \\\n",
       "0           0  (2012)              Makkah         143954n   \n",
       "1           1  (1994)              Makkah          75349n   \n",
       "2           2  (1998)              Makkah          86082n   \n",
       "3           3  (2004)              Makkah          86636n   \n",
       "4           4  (2005)              Makkah          65099n   \n",
       "5           5  (2008)              Makkah          77013n   \n",
       "6           6  (2014)             Madinah          31447n   \n",
       "7           7  (2013)             Madinah          28513n   \n",
       "8           8  (2012)             Madinah          14459n   \n",
       "9           9  (1994)             Madinah           3767n   \n",
       "\n",
       "                  geo_point_2d  \n",
       "0  21.628962766, 41.2636898334  \n",
       "1  21.628962766, 41.2636898334  \n",
       "2  21.628962766, 41.2636898334  \n",
       "3  21.628962766, 41.2636898334  \n",
       "4  21.628962766, 41.2636898334  \n",
       "5  21.628962766, 41.2636898334  \n",
       "6  24.927534539, 39.4918237173  \n",
       "7  24.927534539, 39.4918237173  \n",
       "8  24.927534539, 39.4918237173  \n",
       "9  24.927534539, 39.4918237173  "
      ]
     },
     "execution_count": 1453,
     "metadata": {},
     "output_type": "execute_result"
    }
   ],
   "source": [
    "driving_license.head(10)"
   ]
  },
  {
   "cell_type": "markdown",
   "metadata": {},
   "source": [
    "#### 3. Briefly describe the data\n",
    "\n",
    "Take your time looking through the data and briefly describe the data in the markdown cell below. Note things about what the columns might mean, and the general information that is conveyed in the dataframe."
   ]
  },
  {
   "cell_type": "markdown",
   "metadata": {},
   "source": [
    "Answer: in Traffic accidents dataset they have columns unnecessary and missing value and some confuse values in region column and value column had a string type rather int value \n",
    "driving license dataset have unnecessary column unnamed and value columns had a string value "
   ]
  },
  {
   "cell_type": "markdown",
   "metadata": {},
   "source": [
    "#### 4a. How complete is the data?\n",
    "\n",
    "Investigate missing values etc."
   ]
  },
  {
   "cell_type": "code",
   "execution_count": 1454,
   "metadata": {},
   "outputs": [
    {
     "name": "stdout",
     "output_type": "stream",
     "text": [
      "<class 'pandas.core.frame.DataFrame'>\n",
      "RangeIndex: 84 entries, 0 to 83\n",
      "Data columns (total 7 columns):\n",
      "Unnamed: 0      84 non-null int64\n",
      "Unnamed: 0.1    84 non-null int64\n",
      "Year            84 non-null object\n",
      "Region          84 non-null object\n",
      "Indicator       84 non-null object\n",
      "Value           84 non-null object\n",
      "geo_point_2d    78 non-null object\n",
      "dtypes: int64(2), object(5)\n",
      "memory usage: 4.7+ KB\n"
     ]
    }
   ],
   "source": [
    "# display information about our dataset\n",
    "traffic_accidents.info()"
   ]
  },
  {
   "cell_type": "code",
   "execution_count": 1455,
   "metadata": {},
   "outputs": [
    {
     "name": "stdout",
     "output_type": "stream",
     "text": [
      "<class 'pandas.core.frame.DataFrame'>\n",
      "RangeIndex: 350 entries, 0 to 349\n",
      "Data columns (total 5 columns):\n",
      "Unnamed: 0             350 non-null int64\n",
      "Year                   350 non-null object\n",
      "Administritive Area    350 non-null object\n",
      "Driving Liceses        350 non-null object\n",
      "geo_point_2d           325 non-null object\n",
      "dtypes: int64(1), object(4)\n",
      "memory usage: 13.8+ KB\n"
     ]
    }
   ],
   "source": [
    "driving_license.info()"
   ]
  },
  {
   "cell_type": "code",
   "execution_count": 1456,
   "metadata": {},
   "outputs": [
    {
     "data": {
      "text/plain": [
       "(84, 7)"
      ]
     },
     "execution_count": 1456,
     "metadata": {},
     "output_type": "execute_result"
    }
   ],
   "source": [
    "#check the shape of our dataset\n",
    "traffic_accidents.shape"
   ]
  },
  {
   "cell_type": "code",
   "execution_count": 1457,
   "metadata": {},
   "outputs": [
    {
     "data": {
      "text/plain": [
       "(350, 5)"
      ]
     },
     "execution_count": 1457,
     "metadata": {},
     "output_type": "execute_result"
    }
   ],
   "source": [
    "driving_license.shape "
   ]
  },
  {
   "cell_type": "code",
   "execution_count": 1458,
   "metadata": {},
   "outputs": [
    {
     "data": {
      "text/plain": [
       "Unnamed: 0      0\n",
       "Unnamed: 0.1    0\n",
       "Year            0\n",
       "Region          0\n",
       "Indicator       0\n",
       "Value           0\n",
       "geo_point_2d    6\n",
       "dtype: int64"
      ]
     },
     "execution_count": 1458,
     "metadata": {},
     "output_type": "execute_result"
    }
   ],
   "source": [
    "traffic_accidents.isnull().sum() # to show where value is missing and how many value is missing"
   ]
  },
  {
   "cell_type": "code",
   "execution_count": 1459,
   "metadata": {},
   "outputs": [
    {
     "data": {
      "text/plain": [
       "Unnamed: 0              0\n",
       "Year                    0\n",
       "Administritive Area     0\n",
       "Driving Liceses         0\n",
       "geo_point_2d           25\n",
       "dtype: int64"
      ]
     },
     "execution_count": 1459,
     "metadata": {},
     "output_type": "execute_result"
    }
   ],
   "source": [
    "driving_license.isnull().sum()"
   ]
  },
  {
   "cell_type": "markdown",
   "metadata": {},
   "source": [
    "#### 4b. Are there any obvious issues with the observations?\n",
    "\n",
    "**What is the minimum *possible* value for each dataset? What is the maximum *possible* value?**"
   ]
  },
  {
   "cell_type": "code",
   "execution_count": 1460,
   "metadata": {},
   "outputs": [
    {
     "data": {
      "text/html": [
       "<div>\n",
       "<style scoped>\n",
       "    .dataframe tbody tr th:only-of-type {\n",
       "        vertical-align: middle;\n",
       "    }\n",
       "\n",
       "    .dataframe tbody tr th {\n",
       "        vertical-align: top;\n",
       "    }\n",
       "\n",
       "    .dataframe thead th {\n",
       "        text-align: right;\n",
       "    }\n",
       "</style>\n",
       "<table border=\"1\" class=\"dataframe\">\n",
       "  <thead>\n",
       "    <tr style=\"text-align: right;\">\n",
       "      <th></th>\n",
       "      <th>Unnamed: 0</th>\n",
       "      <th>Unnamed: 0.1</th>\n",
       "    </tr>\n",
       "  </thead>\n",
       "  <tbody>\n",
       "    <tr>\n",
       "      <th>count</th>\n",
       "      <td>84.000000</td>\n",
       "      <td>84.000000</td>\n",
       "    </tr>\n",
       "    <tr>\n",
       "      <th>mean</th>\n",
       "      <td>41.500000</td>\n",
       "      <td>41.500000</td>\n",
       "    </tr>\n",
       "    <tr>\n",
       "      <th>std</th>\n",
       "      <td>24.392622</td>\n",
       "      <td>24.392622</td>\n",
       "    </tr>\n",
       "    <tr>\n",
       "      <th>min</th>\n",
       "      <td>0.000000</td>\n",
       "      <td>0.000000</td>\n",
       "    </tr>\n",
       "    <tr>\n",
       "      <th>25%</th>\n",
       "      <td>20.750000</td>\n",
       "      <td>20.750000</td>\n",
       "    </tr>\n",
       "    <tr>\n",
       "      <th>50%</th>\n",
       "      <td>41.500000</td>\n",
       "      <td>41.500000</td>\n",
       "    </tr>\n",
       "    <tr>\n",
       "      <th>75%</th>\n",
       "      <td>62.250000</td>\n",
       "      <td>62.250000</td>\n",
       "    </tr>\n",
       "    <tr>\n",
       "      <th>max</th>\n",
       "      <td>83.000000</td>\n",
       "      <td>83.000000</td>\n",
       "    </tr>\n",
       "  </tbody>\n",
       "</table>\n",
       "</div>"
      ],
      "text/plain": [
       "       Unnamed: 0  Unnamed: 0.1\n",
       "count   84.000000     84.000000\n",
       "mean    41.500000     41.500000\n",
       "std     24.392622     24.392622\n",
       "min      0.000000      0.000000\n",
       "25%     20.750000     20.750000\n",
       "50%     41.500000     41.500000\n",
       "75%     62.250000     62.250000\n",
       "max     83.000000     83.000000"
      ]
     },
     "execution_count": 1460,
     "metadata": {},
     "output_type": "execute_result"
    }
   ],
   "source": [
    "# we cloud use .min() & .max() to show the minimum and maximum value of dataset , but i prefer to use .describe() to combine the steps on one step \n",
    "# and the value pf min is 0 & mix is 83\n",
    "traffic_accidents.describe()"
   ]
  },
  {
   "cell_type": "code",
   "execution_count": 1461,
   "metadata": {},
   "outputs": [
    {
     "data": {
      "text/html": [
       "<div>\n",
       "<style scoped>\n",
       "    .dataframe tbody tr th:only-of-type {\n",
       "        vertical-align: middle;\n",
       "    }\n",
       "\n",
       "    .dataframe tbody tr th {\n",
       "        vertical-align: top;\n",
       "    }\n",
       "\n",
       "    .dataframe thead th {\n",
       "        text-align: right;\n",
       "    }\n",
       "</style>\n",
       "<table border=\"1\" class=\"dataframe\">\n",
       "  <thead>\n",
       "    <tr style=\"text-align: right;\">\n",
       "      <th></th>\n",
       "      <th>Unnamed: 0</th>\n",
       "    </tr>\n",
       "  </thead>\n",
       "  <tbody>\n",
       "    <tr>\n",
       "      <th>count</th>\n",
       "      <td>350.000000</td>\n",
       "    </tr>\n",
       "    <tr>\n",
       "      <th>mean</th>\n",
       "      <td>174.500000</td>\n",
       "    </tr>\n",
       "    <tr>\n",
       "      <th>std</th>\n",
       "      <td>101.180532</td>\n",
       "    </tr>\n",
       "    <tr>\n",
       "      <th>min</th>\n",
       "      <td>0.000000</td>\n",
       "    </tr>\n",
       "    <tr>\n",
       "      <th>25%</th>\n",
       "      <td>87.250000</td>\n",
       "    </tr>\n",
       "    <tr>\n",
       "      <th>50%</th>\n",
       "      <td>174.500000</td>\n",
       "    </tr>\n",
       "    <tr>\n",
       "      <th>75%</th>\n",
       "      <td>261.750000</td>\n",
       "    </tr>\n",
       "    <tr>\n",
       "      <th>max</th>\n",
       "      <td>349.000000</td>\n",
       "    </tr>\n",
       "  </tbody>\n",
       "</table>\n",
       "</div>"
      ],
      "text/plain": [
       "       Unnamed: 0\n",
       "count  350.000000\n",
       "mean   174.500000\n",
       "std    101.180532\n",
       "min      0.000000\n",
       "25%     87.250000\n",
       "50%    174.500000\n",
       "75%    261.750000\n",
       "max    349.000000"
      ]
     },
     "execution_count": 1461,
     "metadata": {},
     "output_type": "execute_result"
    }
   ],
   "source": [
    "#we cloud use .min() & .max() to show the minimum and maximum value of dataset , but i prefer to use .describe() to combine the steps on one step \n",
    "# and the value pf min is 0 & mix is 349\n",
    "driving_license.describe()"
   ]
  },
  {
   "cell_type": "markdown",
   "metadata": {},
   "source": [
    "#### 5. What are your data types? \n",
    "Display the data types of each feature. "
   ]
  },
  {
   "cell_type": "code",
   "execution_count": 1462,
   "metadata": {},
   "outputs": [
    {
     "data": {
      "text/plain": [
       "Unnamed: 0       int64\n",
       "Unnamed: 0.1     int64\n",
       "Year            object\n",
       "Region          object\n",
       "Indicator       object\n",
       "Value           object\n",
       "geo_point_2d    object\n",
       "dtype: object"
      ]
     },
     "execution_count": 1462,
     "metadata": {},
     "output_type": "execute_result"
    }
   ],
   "source": [
    "traffic_accidents.dtypes"
   ]
  },
  {
   "cell_type": "code",
   "execution_count": 1463,
   "metadata": {
    "scrolled": true
   },
   "outputs": [
    {
     "data": {
      "text/plain": [
       "Unnamed: 0              int64\n",
       "Year                   object\n",
       "Administritive Area    object\n",
       "Driving Liceses        object\n",
       "geo_point_2d           object\n",
       "dtype: object"
      ]
     },
     "execution_count": 1463,
     "metadata": {},
     "output_type": "execute_result"
    }
   ],
   "source": [
    "#code\n",
    "driving_license.dtypes"
   ]
  },
  {
   "cell_type": "markdown",
   "metadata": {},
   "source": [
    "What did you learn?\n",
    "- Do any of them seem odd?  \n",
    "- Which ones are not as they should be?  "
   ]
  },
  {
   "cell_type": "markdown",
   "metadata": {},
   "source": [
    "Answer: yes\n",
    "traffic accidents dataset : year - value should be int\n",
    "driving license dataset : year - driving liceses should be int"
   ]
  },
  {
   "cell_type": "markdown",
   "metadata": {},
   "source": [
    "#### 6. Fix incorrect data types\n",
    "Based on what you discovered above, use appropriate methods to re-type incorrectly typed data.\n",
    "- Define a function that will allow you to convert numerical columns to an appropriate numeric type. Use `map` or `apply` to change these columns in each dataframe."
   ]
  },
  {
   "cell_type": "code",
   "execution_count": 1464,
   "metadata": {},
   "outputs": [],
   "source": [
    "def change_type(x) :\n",
    "    if pd.notnull(x) :\n",
    "        if 'n' in x:\n",
    "            x= x.replace('n','')            \n",
    "        else :\n",
    "            x= x.replace('(','')\n",
    "            x= x.replace(')','')\n",
    "        x = int(x)\n",
    "    else :\n",
    "        x \n",
    "    return x"
   ]
  },
  {
   "cell_type": "code",
   "execution_count": 1465,
   "metadata": {},
   "outputs": [],
   "source": [
    "traffic_accidents['Year'] = traffic_accidents['Year'].map(change_type)"
   ]
  },
  {
   "cell_type": "code",
   "execution_count": 1466,
   "metadata": {},
   "outputs": [],
   "source": [
    "traffic_accidents['Value'] = traffic_accidents['Value'].map(change_type)"
   ]
  },
  {
   "cell_type": "code",
   "execution_count": 1467,
   "metadata": {},
   "outputs": [
    {
     "data": {
      "text/plain": [
       "Unnamed: 0       int64\n",
       "Unnamed: 0.1     int64\n",
       "Year             int64\n",
       "Region          object\n",
       "Indicator       object\n",
       "Value            int64\n",
       "geo_point_2d    object\n",
       "dtype: object"
      ]
     },
     "execution_count": 1467,
     "metadata": {},
     "output_type": "execute_result"
    }
   ],
   "source": [
    "traffic_accidents.dtypes #check the datatype after change it"
   ]
  },
  {
   "cell_type": "code",
   "execution_count": 1468,
   "metadata": {},
   "outputs": [],
   "source": [
    "driving_license['Year'] = driving_license['Year'].map(change_type)"
   ]
  },
  {
   "cell_type": "code",
   "execution_count": 1469,
   "metadata": {},
   "outputs": [],
   "source": [
    "driving_license['Driving Liceses'] = driving_license['Driving Liceses'].map(change_type)"
   ]
  },
  {
   "cell_type": "code",
   "execution_count": 1470,
   "metadata": {},
   "outputs": [
    {
     "data": {
      "text/plain": [
       "Unnamed: 0              int64\n",
       "Year                    int64\n",
       "Administritive Area    object\n",
       "Driving Liceses         int64\n",
       "geo_point_2d           object\n",
       "dtype: object"
      ]
     },
     "execution_count": 1470,
     "metadata": {},
     "output_type": "execute_result"
    }
   ],
   "source": [
    "driving_license.dtypes"
   ]
  },
  {
   "cell_type": "markdown",
   "metadata": {},
   "source": [
    "- Make new columns `x` and `y` using `geo_point_2d`"
   ]
  },
  {
   "cell_type": "code",
   "execution_count": 1471,
   "metadata": {},
   "outputs": [],
   "source": [
    "traffic_accidents['x & y']=  traffic_accidents['geo_point_2d'].map(lambda x : [x,x] if type(x) != str else x.split(', '))"
   ]
  },
  {
   "cell_type": "code",
   "execution_count": 1472,
   "metadata": {},
   "outputs": [],
   "source": [
    "traffic_accidents['x'] = traffic_accidents['x & y'][:].apply(lambda x: x[0])"
   ]
  },
  {
   "cell_type": "code",
   "execution_count": 1473,
   "metadata": {},
   "outputs": [],
   "source": [
    "traffic_accidents['y'] = traffic_accidents['x & y'][:].apply(lambda x: x[1])                                                            "
   ]
  },
  {
   "cell_type": "code",
   "execution_count": 1474,
   "metadata": {},
   "outputs": [
    {
     "data": {
      "text/html": [
       "<div>\n",
       "<style scoped>\n",
       "    .dataframe tbody tr th:only-of-type {\n",
       "        vertical-align: middle;\n",
       "    }\n",
       "\n",
       "    .dataframe tbody tr th {\n",
       "        vertical-align: top;\n",
       "    }\n",
       "\n",
       "    .dataframe thead th {\n",
       "        text-align: right;\n",
       "    }\n",
       "</style>\n",
       "<table border=\"1\" class=\"dataframe\">\n",
       "  <thead>\n",
       "    <tr style=\"text-align: right;\">\n",
       "      <th></th>\n",
       "      <th>Unnamed: 0</th>\n",
       "      <th>Unnamed: 0.1</th>\n",
       "      <th>Year</th>\n",
       "      <th>Region</th>\n",
       "      <th>Indicator</th>\n",
       "      <th>Value</th>\n",
       "      <th>geo_point_2d</th>\n",
       "      <th>x &amp; y</th>\n",
       "      <th>x</th>\n",
       "      <th>y</th>\n",
       "    </tr>\n",
       "  </thead>\n",
       "  <tbody>\n",
       "    <tr>\n",
       "      <th>0</th>\n",
       "      <td>0</td>\n",
       "      <td>0</td>\n",
       "      <td>2016</td>\n",
       "      <td>Makkah</td>\n",
       "      <td>No. of Casualties - Injured</td>\n",
       "      <td>12383</td>\n",
       "      <td>21.628962766, 41.2636898334</td>\n",
       "      <td>[21.628962766, 41.2636898334]</td>\n",
       "      <td>21.628962766</td>\n",
       "      <td>41.2636898334</td>\n",
       "    </tr>\n",
       "    <tr>\n",
       "      <th>1</th>\n",
       "      <td>1</td>\n",
       "      <td>1</td>\n",
       "      <td>2016</td>\n",
       "      <td>Eastern Region</td>\n",
       "      <td>No. of Casualties - Dead</td>\n",
       "      <td>1113</td>\n",
       "      <td>23.2883307307, 50.1478302439</td>\n",
       "      <td>[23.2883307307, 50.1478302439]</td>\n",
       "      <td>23.2883307307</td>\n",
       "      <td>50.1478302439</td>\n",
       "    </tr>\n",
       "    <tr>\n",
       "      <th>2</th>\n",
       "      <td>2</td>\n",
       "      <td>2</td>\n",
       "      <td>2016</td>\n",
       "      <td>Tabouk</td>\n",
       "      <td>No. of Casualties - Dead</td>\n",
       "      <td>434</td>\n",
       "      <td>27.90165499, 37.2598581394</td>\n",
       "      <td>[27.90165499, 37.2598581394]</td>\n",
       "      <td>27.90165499</td>\n",
       "      <td>37.2598581394</td>\n",
       "    </tr>\n",
       "    <tr>\n",
       "      <th>3</th>\n",
       "      <td>3</td>\n",
       "      <td>3</td>\n",
       "      <td>2016</td>\n",
       "      <td>Hail</td>\n",
       "      <td>No. of Casualties - Dead</td>\n",
       "      <td>299</td>\n",
       "      <td>27.400845724, 41.4406960508</td>\n",
       "      <td>[27.400845724, 41.4406960508]</td>\n",
       "      <td>27.400845724</td>\n",
       "      <td>41.4406960508</td>\n",
       "    </tr>\n",
       "    <tr>\n",
       "      <th>4</th>\n",
       "      <td>4</td>\n",
       "      <td>4</td>\n",
       "      <td>2016</td>\n",
       "      <td>Hail</td>\n",
       "      <td>No. of Accidents</td>\n",
       "      <td>10199</td>\n",
       "      <td>27.400845724, 41.4406960508</td>\n",
       "      <td>[27.400845724, 41.4406960508]</td>\n",
       "      <td>27.400845724</td>\n",
       "      <td>41.4406960508</td>\n",
       "    </tr>\n",
       "  </tbody>\n",
       "</table>\n",
       "</div>"
      ],
      "text/plain": [
       "   Unnamed: 0  Unnamed: 0.1  Year          Region  \\\n",
       "0           0             0  2016          Makkah   \n",
       "1           1             1  2016  Eastern Region   \n",
       "2           2             2  2016          Tabouk   \n",
       "3           3             3  2016            Hail   \n",
       "4           4             4  2016            Hail   \n",
       "\n",
       "                     Indicator  Value                  geo_point_2d  \\\n",
       "0  No. of Casualties - Injured  12383   21.628962766, 41.2636898334   \n",
       "1     No. of Casualties - Dead   1113  23.2883307307, 50.1478302439   \n",
       "2     No. of Casualties - Dead    434    27.90165499, 37.2598581394   \n",
       "3     No. of Casualties - Dead    299   27.400845724, 41.4406960508   \n",
       "4             No. of Accidents  10199   27.400845724, 41.4406960508   \n",
       "\n",
       "                            x & y              x              y  \n",
       "0   [21.628962766, 41.2636898334]   21.628962766  41.2636898334  \n",
       "1  [23.2883307307, 50.1478302439]  23.2883307307  50.1478302439  \n",
       "2    [27.90165499, 37.2598581394]    27.90165499  37.2598581394  \n",
       "3   [27.400845724, 41.4406960508]   27.400845724  41.4406960508  \n",
       "4   [27.400845724, 41.4406960508]   27.400845724  41.4406960508  "
      ]
     },
     "execution_count": 1474,
     "metadata": {},
     "output_type": "execute_result"
    }
   ],
   "source": [
    "traffic_accidents.head()"
   ]
  },
  {
   "cell_type": "code",
   "execution_count": 1475,
   "metadata": {},
   "outputs": [],
   "source": [
    "driving_license['x & y']=  driving_license['geo_point_2d'].map(lambda x : [x,x] if type(x) != str else x.split(', ')) #create x&y column to save a new column and play with it rther deo_piont"
   ]
  },
  {
   "cell_type": "code",
   "execution_count": 1476,
   "metadata": {},
   "outputs": [],
   "source": [
    "driving_license['x'] = driving_license['x & y'][:].apply(lambda x: x[0])"
   ]
  },
  {
   "cell_type": "code",
   "execution_count": 1477,
   "metadata": {},
   "outputs": [],
   "source": [
    "driving_license['y'] = driving_license['x & y'][:].apply(lambda x: x[1])                                                                    "
   ]
  },
  {
   "cell_type": "code",
   "execution_count": 1478,
   "metadata": {},
   "outputs": [
    {
     "data": {
      "text/html": [
       "<div>\n",
       "<style scoped>\n",
       "    .dataframe tbody tr th:only-of-type {\n",
       "        vertical-align: middle;\n",
       "    }\n",
       "\n",
       "    .dataframe tbody tr th {\n",
       "        vertical-align: top;\n",
       "    }\n",
       "\n",
       "    .dataframe thead th {\n",
       "        text-align: right;\n",
       "    }\n",
       "</style>\n",
       "<table border=\"1\" class=\"dataframe\">\n",
       "  <thead>\n",
       "    <tr style=\"text-align: right;\">\n",
       "      <th></th>\n",
       "      <th>Unnamed: 0</th>\n",
       "      <th>Year</th>\n",
       "      <th>Administritive Area</th>\n",
       "      <th>Driving Liceses</th>\n",
       "      <th>geo_point_2d</th>\n",
       "      <th>x &amp; y</th>\n",
       "      <th>x</th>\n",
       "      <th>y</th>\n",
       "    </tr>\n",
       "  </thead>\n",
       "  <tbody>\n",
       "    <tr>\n",
       "      <th>0</th>\n",
       "      <td>0</td>\n",
       "      <td>2012</td>\n",
       "      <td>Makkah</td>\n",
       "      <td>143954</td>\n",
       "      <td>21.628962766, 41.2636898334</td>\n",
       "      <td>[21.628962766, 41.2636898334]</td>\n",
       "      <td>21.628962766</td>\n",
       "      <td>41.2636898334</td>\n",
       "    </tr>\n",
       "    <tr>\n",
       "      <th>1</th>\n",
       "      <td>1</td>\n",
       "      <td>1994</td>\n",
       "      <td>Makkah</td>\n",
       "      <td>75349</td>\n",
       "      <td>21.628962766, 41.2636898334</td>\n",
       "      <td>[21.628962766, 41.2636898334]</td>\n",
       "      <td>21.628962766</td>\n",
       "      <td>41.2636898334</td>\n",
       "    </tr>\n",
       "    <tr>\n",
       "      <th>2</th>\n",
       "      <td>2</td>\n",
       "      <td>1998</td>\n",
       "      <td>Makkah</td>\n",
       "      <td>86082</td>\n",
       "      <td>21.628962766, 41.2636898334</td>\n",
       "      <td>[21.628962766, 41.2636898334]</td>\n",
       "      <td>21.628962766</td>\n",
       "      <td>41.2636898334</td>\n",
       "    </tr>\n",
       "    <tr>\n",
       "      <th>3</th>\n",
       "      <td>3</td>\n",
       "      <td>2004</td>\n",
       "      <td>Makkah</td>\n",
       "      <td>86636</td>\n",
       "      <td>21.628962766, 41.2636898334</td>\n",
       "      <td>[21.628962766, 41.2636898334]</td>\n",
       "      <td>21.628962766</td>\n",
       "      <td>41.2636898334</td>\n",
       "    </tr>\n",
       "    <tr>\n",
       "      <th>4</th>\n",
       "      <td>4</td>\n",
       "      <td>2005</td>\n",
       "      <td>Makkah</td>\n",
       "      <td>65099</td>\n",
       "      <td>21.628962766, 41.2636898334</td>\n",
       "      <td>[21.628962766, 41.2636898334]</td>\n",
       "      <td>21.628962766</td>\n",
       "      <td>41.2636898334</td>\n",
       "    </tr>\n",
       "  </tbody>\n",
       "</table>\n",
       "</div>"
      ],
      "text/plain": [
       "   Unnamed: 0  Year Administritive Area  Driving Liceses  \\\n",
       "0           0  2012              Makkah           143954   \n",
       "1           1  1994              Makkah            75349   \n",
       "2           2  1998              Makkah            86082   \n",
       "3           3  2004              Makkah            86636   \n",
       "4           4  2005              Makkah            65099   \n",
       "\n",
       "                  geo_point_2d                          x & y             x  \\\n",
       "0  21.628962766, 41.2636898334  [21.628962766, 41.2636898334]  21.628962766   \n",
       "1  21.628962766, 41.2636898334  [21.628962766, 41.2636898334]  21.628962766   \n",
       "2  21.628962766, 41.2636898334  [21.628962766, 41.2636898334]  21.628962766   \n",
       "3  21.628962766, 41.2636898334  [21.628962766, 41.2636898334]  21.628962766   \n",
       "4  21.628962766, 41.2636898334  [21.628962766, 41.2636898334]  21.628962766   \n",
       "\n",
       "               y  \n",
       "0  41.2636898334  \n",
       "1  41.2636898334  \n",
       "2  41.2636898334  \n",
       "3  41.2636898334  \n",
       "4  41.2636898334  "
      ]
     },
     "execution_count": 1478,
     "metadata": {},
     "output_type": "execute_result"
    }
   ],
   "source": [
    "driving_license.head()"
   ]
  },
  {
   "cell_type": "markdown",
   "metadata": {},
   "source": [
    "- Fix any individual values preventing other columns from being the appropriate type."
   ]
  },
  {
   "cell_type": "code",
   "execution_count": 1479,
   "metadata": {},
   "outputs": [
    {
     "data": {
      "text/plain": [
       "Unnamed: 0       int64\n",
       "Unnamed: 0.1     int64\n",
       "Year             int64\n",
       "Region          object\n",
       "Indicator       object\n",
       "Value            int64\n",
       "geo_point_2d    object\n",
       "x & y           object\n",
       "x               object\n",
       "y               object\n",
       "dtype: object"
      ]
     },
     "execution_count": 1479,
     "metadata": {},
     "output_type": "execute_result"
    }
   ],
   "source": [
    "# all fixed above\n",
    "traffic_accidents.dtypes"
   ]
  },
  {
   "cell_type": "code",
   "execution_count": 1480,
   "metadata": {},
   "outputs": [
    {
     "data": {
      "text/plain": [
       "Unnamed: 0              int64\n",
       "Year                    int64\n",
       "Administritive Area    object\n",
       "Driving Liceses         int64\n",
       "geo_point_2d           object\n",
       "x & y                  object\n",
       "x                      object\n",
       "y                      object\n",
       "dtype: object"
      ]
     },
     "execution_count": 1480,
     "metadata": {},
     "output_type": "execute_result"
    }
   ],
   "source": [
    "driving_license.dtypes"
   ]
  },
  {
   "cell_type": "markdown",
   "metadata": {},
   "source": [
    "- Finish your data modifications by making sure the columns are now typed appropriately."
   ]
  },
  {
   "cell_type": "code",
   "execution_count": 1481,
   "metadata": {},
   "outputs": [],
   "source": [
    "# split column of indector to be more clear \n",
    "traffic_accidents['num_accidents_result'] =traffic_accidents['Indicator'].apply(lambda x: x.split(' - ')[0] if  len(x.split(' - ')) >1 else x )"
   ]
  },
  {
   "cell_type": "code",
   "execution_count": 1482,
   "metadata": {},
   "outputs": [],
   "source": [
    "traffic_accidents['accidents_result'] = traffic_accidents['Indicator'].apply(lambda x: x.split(' - ')[1] if  len(x.split(' - ')) >1 else 'not_Effict')"
   ]
  },
  {
   "cell_type": "code",
   "execution_count": 1483,
   "metadata": {},
   "outputs": [
    {
     "data": {
      "text/html": [
       "<div>\n",
       "<style scoped>\n",
       "    .dataframe tbody tr th:only-of-type {\n",
       "        vertical-align: middle;\n",
       "    }\n",
       "\n",
       "    .dataframe tbody tr th {\n",
       "        vertical-align: top;\n",
       "    }\n",
       "\n",
       "    .dataframe thead th {\n",
       "        text-align: right;\n",
       "    }\n",
       "</style>\n",
       "<table border=\"1\" class=\"dataframe\">\n",
       "  <thead>\n",
       "    <tr style=\"text-align: right;\">\n",
       "      <th></th>\n",
       "      <th>Unnamed: 0</th>\n",
       "      <th>Unnamed: 0.1</th>\n",
       "      <th>Year</th>\n",
       "      <th>Region</th>\n",
       "      <th>Indicator</th>\n",
       "      <th>Value</th>\n",
       "      <th>geo_point_2d</th>\n",
       "      <th>x &amp; y</th>\n",
       "      <th>x</th>\n",
       "      <th>y</th>\n",
       "      <th>num_accidents_result</th>\n",
       "      <th>accidents_result</th>\n",
       "    </tr>\n",
       "  </thead>\n",
       "  <tbody>\n",
       "    <tr>\n",
       "      <th>0</th>\n",
       "      <td>0</td>\n",
       "      <td>0</td>\n",
       "      <td>2016</td>\n",
       "      <td>Makkah</td>\n",
       "      <td>No. of Casualties - Injured</td>\n",
       "      <td>12383</td>\n",
       "      <td>21.628962766, 41.2636898334</td>\n",
       "      <td>[21.628962766, 41.2636898334]</td>\n",
       "      <td>21.628962766</td>\n",
       "      <td>41.2636898334</td>\n",
       "      <td>No. of Casualties</td>\n",
       "      <td>Injured</td>\n",
       "    </tr>\n",
       "    <tr>\n",
       "      <th>1</th>\n",
       "      <td>1</td>\n",
       "      <td>1</td>\n",
       "      <td>2016</td>\n",
       "      <td>Eastern Region</td>\n",
       "      <td>No. of Casualties - Dead</td>\n",
       "      <td>1113</td>\n",
       "      <td>23.2883307307, 50.1478302439</td>\n",
       "      <td>[23.2883307307, 50.1478302439]</td>\n",
       "      <td>23.2883307307</td>\n",
       "      <td>50.1478302439</td>\n",
       "      <td>No. of Casualties</td>\n",
       "      <td>Dead</td>\n",
       "    </tr>\n",
       "    <tr>\n",
       "      <th>2</th>\n",
       "      <td>2</td>\n",
       "      <td>2</td>\n",
       "      <td>2016</td>\n",
       "      <td>Tabouk</td>\n",
       "      <td>No. of Casualties - Dead</td>\n",
       "      <td>434</td>\n",
       "      <td>27.90165499, 37.2598581394</td>\n",
       "      <td>[27.90165499, 37.2598581394]</td>\n",
       "      <td>27.90165499</td>\n",
       "      <td>37.2598581394</td>\n",
       "      <td>No. of Casualties</td>\n",
       "      <td>Dead</td>\n",
       "    </tr>\n",
       "    <tr>\n",
       "      <th>3</th>\n",
       "      <td>3</td>\n",
       "      <td>3</td>\n",
       "      <td>2016</td>\n",
       "      <td>Hail</td>\n",
       "      <td>No. of Casualties - Dead</td>\n",
       "      <td>299</td>\n",
       "      <td>27.400845724, 41.4406960508</td>\n",
       "      <td>[27.400845724, 41.4406960508]</td>\n",
       "      <td>27.400845724</td>\n",
       "      <td>41.4406960508</td>\n",
       "      <td>No. of Casualties</td>\n",
       "      <td>Dead</td>\n",
       "    </tr>\n",
       "    <tr>\n",
       "      <th>4</th>\n",
       "      <td>4</td>\n",
       "      <td>4</td>\n",
       "      <td>2016</td>\n",
       "      <td>Hail</td>\n",
       "      <td>No. of Accidents</td>\n",
       "      <td>10199</td>\n",
       "      <td>27.400845724, 41.4406960508</td>\n",
       "      <td>[27.400845724, 41.4406960508]</td>\n",
       "      <td>27.400845724</td>\n",
       "      <td>41.4406960508</td>\n",
       "      <td>No. of Accidents</td>\n",
       "      <td>not_Effict</td>\n",
       "    </tr>\n",
       "  </tbody>\n",
       "</table>\n",
       "</div>"
      ],
      "text/plain": [
       "   Unnamed: 0  Unnamed: 0.1  Year          Region  \\\n",
       "0           0             0  2016          Makkah   \n",
       "1           1             1  2016  Eastern Region   \n",
       "2           2             2  2016          Tabouk   \n",
       "3           3             3  2016            Hail   \n",
       "4           4             4  2016            Hail   \n",
       "\n",
       "                     Indicator  Value                  geo_point_2d  \\\n",
       "0  No. of Casualties - Injured  12383   21.628962766, 41.2636898334   \n",
       "1     No. of Casualties - Dead   1113  23.2883307307, 50.1478302439   \n",
       "2     No. of Casualties - Dead    434    27.90165499, 37.2598581394   \n",
       "3     No. of Casualties - Dead    299   27.400845724, 41.4406960508   \n",
       "4             No. of Accidents  10199   27.400845724, 41.4406960508   \n",
       "\n",
       "                            x & y              x              y  \\\n",
       "0   [21.628962766, 41.2636898334]   21.628962766  41.2636898334   \n",
       "1  [23.2883307307, 50.1478302439]  23.2883307307  50.1478302439   \n",
       "2    [27.90165499, 37.2598581394]    27.90165499  37.2598581394   \n",
       "3   [27.400845724, 41.4406960508]   27.400845724  41.4406960508   \n",
       "4   [27.400845724, 41.4406960508]   27.400845724  41.4406960508   \n",
       "\n",
       "  num_accidents_result accidents_result  \n",
       "0    No. of Casualties          Injured  \n",
       "1    No. of Casualties             Dead  \n",
       "2    No. of Casualties             Dead  \n",
       "3    No. of Casualties             Dead  \n",
       "4     No. of Accidents       not_Effict  "
      ]
     },
     "execution_count": 1483,
     "metadata": {},
     "output_type": "execute_result"
    }
   ],
   "source": [
    "traffic_accidents.head()"
   ]
  },
  {
   "cell_type": "code",
   "execution_count": 1484,
   "metadata": {},
   "outputs": [],
   "source": [
    "#drop all columns we don't need it from our dataset\n",
    "traffic_accidents.drop(['Unnamed: 0'], axis = 1, inplace = True)"
   ]
  },
  {
   "cell_type": "code",
   "execution_count": 1485,
   "metadata": {},
   "outputs": [],
   "source": [
    "traffic_accidents.drop(['Unnamed: 0.1'], axis = 1, inplace = True)"
   ]
  },
  {
   "cell_type": "code",
   "execution_count": 1486,
   "metadata": {},
   "outputs": [],
   "source": [
    "traffic_accidents.drop(['geo_point_2d'], axis = 1, inplace = True)"
   ]
  },
  {
   "cell_type": "code",
   "execution_count": 1487,
   "metadata": {},
   "outputs": [],
   "source": [
    "traffic_accidents.drop(['Indicator'], axis = 1, inplace = True)"
   ]
  },
  {
   "cell_type": "code",
   "execution_count": 1488,
   "metadata": {},
   "outputs": [],
   "source": [
    "traffic_accidents.drop(['x & y'], axis = 1, inplace = True)"
   ]
  },
  {
   "cell_type": "code",
   "execution_count": 1489,
   "metadata": {},
   "outputs": [
    {
     "data": {
      "text/html": [
       "<div>\n",
       "<style scoped>\n",
       "    .dataframe tbody tr th:only-of-type {\n",
       "        vertical-align: middle;\n",
       "    }\n",
       "\n",
       "    .dataframe tbody tr th {\n",
       "        vertical-align: top;\n",
       "    }\n",
       "\n",
       "    .dataframe thead th {\n",
       "        text-align: right;\n",
       "    }\n",
       "</style>\n",
       "<table border=\"1\" class=\"dataframe\">\n",
       "  <thead>\n",
       "    <tr style=\"text-align: right;\">\n",
       "      <th></th>\n",
       "      <th>Year</th>\n",
       "      <th>Region</th>\n",
       "      <th>Value</th>\n",
       "      <th>x</th>\n",
       "      <th>y</th>\n",
       "      <th>num_accidents_result</th>\n",
       "      <th>accidents_result</th>\n",
       "    </tr>\n",
       "  </thead>\n",
       "  <tbody>\n",
       "    <tr>\n",
       "      <th>0</th>\n",
       "      <td>2016</td>\n",
       "      <td>Makkah</td>\n",
       "      <td>12383</td>\n",
       "      <td>21.628962766</td>\n",
       "      <td>41.2636898334</td>\n",
       "      <td>No. of Casualties</td>\n",
       "      <td>Injured</td>\n",
       "    </tr>\n",
       "    <tr>\n",
       "      <th>1</th>\n",
       "      <td>2016</td>\n",
       "      <td>Eastern Region</td>\n",
       "      <td>1113</td>\n",
       "      <td>23.2883307307</td>\n",
       "      <td>50.1478302439</td>\n",
       "      <td>No. of Casualties</td>\n",
       "      <td>Dead</td>\n",
       "    </tr>\n",
       "    <tr>\n",
       "      <th>2</th>\n",
       "      <td>2016</td>\n",
       "      <td>Tabouk</td>\n",
       "      <td>434</td>\n",
       "      <td>27.90165499</td>\n",
       "      <td>37.2598581394</td>\n",
       "      <td>No. of Casualties</td>\n",
       "      <td>Dead</td>\n",
       "    </tr>\n",
       "    <tr>\n",
       "      <th>3</th>\n",
       "      <td>2016</td>\n",
       "      <td>Hail</td>\n",
       "      <td>299</td>\n",
       "      <td>27.400845724</td>\n",
       "      <td>41.4406960508</td>\n",
       "      <td>No. of Casualties</td>\n",
       "      <td>Dead</td>\n",
       "    </tr>\n",
       "    <tr>\n",
       "      <th>4</th>\n",
       "      <td>2016</td>\n",
       "      <td>Hail</td>\n",
       "      <td>10199</td>\n",
       "      <td>27.400845724</td>\n",
       "      <td>41.4406960508</td>\n",
       "      <td>No. of Accidents</td>\n",
       "      <td>not_Effict</td>\n",
       "    </tr>\n",
       "  </tbody>\n",
       "</table>\n",
       "</div>"
      ],
      "text/plain": [
       "   Year          Region  Value              x              y  \\\n",
       "0  2016          Makkah  12383   21.628962766  41.2636898334   \n",
       "1  2016  Eastern Region   1113  23.2883307307  50.1478302439   \n",
       "2  2016          Tabouk    434    27.90165499  37.2598581394   \n",
       "3  2016            Hail    299   27.400845724  41.4406960508   \n",
       "4  2016            Hail  10199   27.400845724  41.4406960508   \n",
       "\n",
       "  num_accidents_result accidents_result  \n",
       "0    No. of Casualties          Injured  \n",
       "1    No. of Casualties             Dead  \n",
       "2    No. of Casualties             Dead  \n",
       "3    No. of Casualties             Dead  \n",
       "4     No. of Accidents       not_Effict  "
      ]
     },
     "execution_count": 1489,
     "metadata": {},
     "output_type": "execute_result"
    }
   ],
   "source": [
    "traffic_accidents.head() #check after delete our columns"
   ]
  },
  {
   "cell_type": "code",
   "execution_count": 1490,
   "metadata": {},
   "outputs": [
    {
     "data": {
      "text/html": [
       "<div>\n",
       "<style scoped>\n",
       "    .dataframe tbody tr th:only-of-type {\n",
       "        vertical-align: middle;\n",
       "    }\n",
       "\n",
       "    .dataframe tbody tr th {\n",
       "        vertical-align: top;\n",
       "    }\n",
       "\n",
       "    .dataframe thead th {\n",
       "        text-align: right;\n",
       "    }\n",
       "</style>\n",
       "<table border=\"1\" class=\"dataframe\">\n",
       "  <thead>\n",
       "    <tr style=\"text-align: right;\">\n",
       "      <th></th>\n",
       "      <th>Unnamed: 0</th>\n",
       "      <th>Year</th>\n",
       "      <th>Administritive Area</th>\n",
       "      <th>Driving Liceses</th>\n",
       "      <th>geo_point_2d</th>\n",
       "      <th>x &amp; y</th>\n",
       "      <th>x</th>\n",
       "      <th>y</th>\n",
       "    </tr>\n",
       "  </thead>\n",
       "  <tbody>\n",
       "    <tr>\n",
       "      <th>0</th>\n",
       "      <td>0</td>\n",
       "      <td>2012</td>\n",
       "      <td>Makkah</td>\n",
       "      <td>143954</td>\n",
       "      <td>21.628962766, 41.2636898334</td>\n",
       "      <td>[21.628962766, 41.2636898334]</td>\n",
       "      <td>21.628962766</td>\n",
       "      <td>41.2636898334</td>\n",
       "    </tr>\n",
       "    <tr>\n",
       "      <th>1</th>\n",
       "      <td>1</td>\n",
       "      <td>1994</td>\n",
       "      <td>Makkah</td>\n",
       "      <td>75349</td>\n",
       "      <td>21.628962766, 41.2636898334</td>\n",
       "      <td>[21.628962766, 41.2636898334]</td>\n",
       "      <td>21.628962766</td>\n",
       "      <td>41.2636898334</td>\n",
       "    </tr>\n",
       "    <tr>\n",
       "      <th>2</th>\n",
       "      <td>2</td>\n",
       "      <td>1998</td>\n",
       "      <td>Makkah</td>\n",
       "      <td>86082</td>\n",
       "      <td>21.628962766, 41.2636898334</td>\n",
       "      <td>[21.628962766, 41.2636898334]</td>\n",
       "      <td>21.628962766</td>\n",
       "      <td>41.2636898334</td>\n",
       "    </tr>\n",
       "    <tr>\n",
       "      <th>3</th>\n",
       "      <td>3</td>\n",
       "      <td>2004</td>\n",
       "      <td>Makkah</td>\n",
       "      <td>86636</td>\n",
       "      <td>21.628962766, 41.2636898334</td>\n",
       "      <td>[21.628962766, 41.2636898334]</td>\n",
       "      <td>21.628962766</td>\n",
       "      <td>41.2636898334</td>\n",
       "    </tr>\n",
       "    <tr>\n",
       "      <th>4</th>\n",
       "      <td>4</td>\n",
       "      <td>2005</td>\n",
       "      <td>Makkah</td>\n",
       "      <td>65099</td>\n",
       "      <td>21.628962766, 41.2636898334</td>\n",
       "      <td>[21.628962766, 41.2636898334]</td>\n",
       "      <td>21.628962766</td>\n",
       "      <td>41.2636898334</td>\n",
       "    </tr>\n",
       "  </tbody>\n",
       "</table>\n",
       "</div>"
      ],
      "text/plain": [
       "   Unnamed: 0  Year Administritive Area  Driving Liceses  \\\n",
       "0           0  2012              Makkah           143954   \n",
       "1           1  1994              Makkah            75349   \n",
       "2           2  1998              Makkah            86082   \n",
       "3           3  2004              Makkah            86636   \n",
       "4           4  2005              Makkah            65099   \n",
       "\n",
       "                  geo_point_2d                          x & y             x  \\\n",
       "0  21.628962766, 41.2636898334  [21.628962766, 41.2636898334]  21.628962766   \n",
       "1  21.628962766, 41.2636898334  [21.628962766, 41.2636898334]  21.628962766   \n",
       "2  21.628962766, 41.2636898334  [21.628962766, 41.2636898334]  21.628962766   \n",
       "3  21.628962766, 41.2636898334  [21.628962766, 41.2636898334]  21.628962766   \n",
       "4  21.628962766, 41.2636898334  [21.628962766, 41.2636898334]  21.628962766   \n",
       "\n",
       "               y  \n",
       "0  41.2636898334  \n",
       "1  41.2636898334  \n",
       "2  41.2636898334  \n",
       "3  41.2636898334  \n",
       "4  41.2636898334  "
      ]
     },
     "execution_count": 1490,
     "metadata": {},
     "output_type": "execute_result"
    }
   ],
   "source": [
    "driving_license.head()"
   ]
  },
  {
   "cell_type": "code",
   "execution_count": 1491,
   "metadata": {},
   "outputs": [],
   "source": [
    "driving_license.drop(['Unnamed: 0'], axis = 1, inplace = True)"
   ]
  },
  {
   "cell_type": "code",
   "execution_count": 1492,
   "metadata": {},
   "outputs": [],
   "source": [
    "driving_license.drop(['geo_point_2d'], axis = 1, inplace = True)"
   ]
  },
  {
   "cell_type": "code",
   "execution_count": 1493,
   "metadata": {},
   "outputs": [],
   "source": [
    "driving_license.drop(['x & y'], axis = 1, inplace = True)"
   ]
  },
  {
   "cell_type": "code",
   "execution_count": 1494,
   "metadata": {},
   "outputs": [
    {
     "data": {
      "text/html": [
       "<div>\n",
       "<style scoped>\n",
       "    .dataframe tbody tr th:only-of-type {\n",
       "        vertical-align: middle;\n",
       "    }\n",
       "\n",
       "    .dataframe tbody tr th {\n",
       "        vertical-align: top;\n",
       "    }\n",
       "\n",
       "    .dataframe thead th {\n",
       "        text-align: right;\n",
       "    }\n",
       "</style>\n",
       "<table border=\"1\" class=\"dataframe\">\n",
       "  <thead>\n",
       "    <tr style=\"text-align: right;\">\n",
       "      <th></th>\n",
       "      <th>Year</th>\n",
       "      <th>Administritive Area</th>\n",
       "      <th>Driving Liceses</th>\n",
       "      <th>x</th>\n",
       "      <th>y</th>\n",
       "    </tr>\n",
       "  </thead>\n",
       "  <tbody>\n",
       "    <tr>\n",
       "      <th>0</th>\n",
       "      <td>2012</td>\n",
       "      <td>Makkah</td>\n",
       "      <td>143954</td>\n",
       "      <td>21.628962766</td>\n",
       "      <td>41.2636898334</td>\n",
       "    </tr>\n",
       "    <tr>\n",
       "      <th>1</th>\n",
       "      <td>1994</td>\n",
       "      <td>Makkah</td>\n",
       "      <td>75349</td>\n",
       "      <td>21.628962766</td>\n",
       "      <td>41.2636898334</td>\n",
       "    </tr>\n",
       "    <tr>\n",
       "      <th>2</th>\n",
       "      <td>1998</td>\n",
       "      <td>Makkah</td>\n",
       "      <td>86082</td>\n",
       "      <td>21.628962766</td>\n",
       "      <td>41.2636898334</td>\n",
       "    </tr>\n",
       "    <tr>\n",
       "      <th>3</th>\n",
       "      <td>2004</td>\n",
       "      <td>Makkah</td>\n",
       "      <td>86636</td>\n",
       "      <td>21.628962766</td>\n",
       "      <td>41.2636898334</td>\n",
       "    </tr>\n",
       "    <tr>\n",
       "      <th>4</th>\n",
       "      <td>2005</td>\n",
       "      <td>Makkah</td>\n",
       "      <td>65099</td>\n",
       "      <td>21.628962766</td>\n",
       "      <td>41.2636898334</td>\n",
       "    </tr>\n",
       "  </tbody>\n",
       "</table>\n",
       "</div>"
      ],
      "text/plain": [
       "   Year Administritive Area  Driving Liceses             x              y\n",
       "0  2012              Makkah           143954  21.628962766  41.2636898334\n",
       "1  1994              Makkah            75349  21.628962766  41.2636898334\n",
       "2  1998              Makkah            86082  21.628962766  41.2636898334\n",
       "3  2004              Makkah            86636  21.628962766  41.2636898334\n",
       "4  2005              Makkah            65099  21.628962766  41.2636898334"
      ]
     },
     "execution_count": 1494,
     "metadata": {},
     "output_type": "execute_result"
    }
   ],
   "source": [
    "driving_license.head()"
   ]
  },
  {
   "cell_type": "markdown",
   "metadata": {},
   "source": [
    "- Display the data types again to confirm they are correct."
   ]
  },
  {
   "cell_type": "code",
   "execution_count": 1495,
   "metadata": {},
   "outputs": [
    {
     "data": {
      "text/plain": [
       "Year                     int64\n",
       "Region                  object\n",
       "Value                    int64\n",
       "x                       object\n",
       "y                       object\n",
       "num_accidents_result    object\n",
       "accidents_result        object\n",
       "dtype: object"
      ]
     },
     "execution_count": 1495,
     "metadata": {},
     "output_type": "execute_result"
    }
   ],
   "source": [
    "traffic_accidents.dtypes"
   ]
  },
  {
   "cell_type": "code",
   "execution_count": 1496,
   "metadata": {},
   "outputs": [
    {
     "data": {
      "text/plain": [
       "Year                    int64\n",
       "Administritive Area    object\n",
       "Driving Liceses         int64\n",
       "x                      object\n",
       "y                      object\n",
       "dtype: object"
      ]
     },
     "execution_count": 1496,
     "metadata": {},
     "output_type": "execute_result"
    }
   ],
   "source": [
    "driving_license.dtypes"
   ]
  },
  {
   "cell_type": "markdown",
   "metadata": {},
   "source": [
    "#### 7. Rename columns\n",
    "Change the names of the columns to more expressive names so that you can tell the difference the Driving Licenses  columns and the & Traffic Accidents columns. Your solution should map all column names being changed at once (no repeated singular name-changes). **We will be combining these two datasets, and so you should name columns in an appropriate way**.\n",
    "\n",
    "**Guidelines**:\n",
    "- Column names should be all lowercase (you will thank yourself when you start pushing data to SQL later in the course)\n",
    "- Column names should not contain spaces (underscores will suffice--this allows for using the `df.column_name` method to access columns in addition to `df['column_name']`.\n",
    "- Column names should be unique and informative (the only feature that we actually share between dataframes is the state).\n",
    "- Please also fix any typos you see in the column names."
   ]
  },
  {
   "cell_type": "code",
   "execution_count": 1497,
   "metadata": {},
   "outputs": [],
   "source": [
    "# I like u are encouraging us from now to SQL ♥️🙄"
   ]
  },
  {
   "cell_type": "code",
   "execution_count": 1498,
   "metadata": {},
   "outputs": [],
   "source": [
    "traffic_accidents= traffic_accidents.rename(index=str, columns={'Year': 'year', 'Region': 'region','Value':'num_traffic_accidents','x':'latitude_accidents','y':'longitude_accidents'})"
   ]
  },
  {
   "cell_type": "code",
   "execution_count": 1499,
   "metadata": {},
   "outputs": [
    {
     "data": {
      "text/html": [
       "<div>\n",
       "<style scoped>\n",
       "    .dataframe tbody tr th:only-of-type {\n",
       "        vertical-align: middle;\n",
       "    }\n",
       "\n",
       "    .dataframe tbody tr th {\n",
       "        vertical-align: top;\n",
       "    }\n",
       "\n",
       "    .dataframe thead th {\n",
       "        text-align: right;\n",
       "    }\n",
       "</style>\n",
       "<table border=\"1\" class=\"dataframe\">\n",
       "  <thead>\n",
       "    <tr style=\"text-align: right;\">\n",
       "      <th></th>\n",
       "      <th>year</th>\n",
       "      <th>region</th>\n",
       "      <th>num_traffic_accidents</th>\n",
       "      <th>latitude_accidents</th>\n",
       "      <th>longitude_accidents</th>\n",
       "      <th>num_accidents_result</th>\n",
       "      <th>accidents_result</th>\n",
       "    </tr>\n",
       "  </thead>\n",
       "  <tbody>\n",
       "    <tr>\n",
       "      <th>0</th>\n",
       "      <td>2016</td>\n",
       "      <td>Makkah</td>\n",
       "      <td>12383</td>\n",
       "      <td>21.628962766</td>\n",
       "      <td>41.2636898334</td>\n",
       "      <td>No. of Casualties</td>\n",
       "      <td>Injured</td>\n",
       "    </tr>\n",
       "    <tr>\n",
       "      <th>1</th>\n",
       "      <td>2016</td>\n",
       "      <td>Eastern Region</td>\n",
       "      <td>1113</td>\n",
       "      <td>23.2883307307</td>\n",
       "      <td>50.1478302439</td>\n",
       "      <td>No. of Casualties</td>\n",
       "      <td>Dead</td>\n",
       "    </tr>\n",
       "    <tr>\n",
       "      <th>2</th>\n",
       "      <td>2016</td>\n",
       "      <td>Tabouk</td>\n",
       "      <td>434</td>\n",
       "      <td>27.90165499</td>\n",
       "      <td>37.2598581394</td>\n",
       "      <td>No. of Casualties</td>\n",
       "      <td>Dead</td>\n",
       "    </tr>\n",
       "    <tr>\n",
       "      <th>3</th>\n",
       "      <td>2016</td>\n",
       "      <td>Hail</td>\n",
       "      <td>299</td>\n",
       "      <td>27.400845724</td>\n",
       "      <td>41.4406960508</td>\n",
       "      <td>No. of Casualties</td>\n",
       "      <td>Dead</td>\n",
       "    </tr>\n",
       "    <tr>\n",
       "      <th>4</th>\n",
       "      <td>2016</td>\n",
       "      <td>Hail</td>\n",
       "      <td>10199</td>\n",
       "      <td>27.400845724</td>\n",
       "      <td>41.4406960508</td>\n",
       "      <td>No. of Accidents</td>\n",
       "      <td>not_Effict</td>\n",
       "    </tr>\n",
       "  </tbody>\n",
       "</table>\n",
       "</div>"
      ],
      "text/plain": [
       "   year          region  num_traffic_accidents latitude_accidents  \\\n",
       "0  2016          Makkah                  12383       21.628962766   \n",
       "1  2016  Eastern Region                   1113      23.2883307307   \n",
       "2  2016          Tabouk                    434        27.90165499   \n",
       "3  2016            Hail                    299       27.400845724   \n",
       "4  2016            Hail                  10199       27.400845724   \n",
       "\n",
       "  longitude_accidents num_accidents_result accidents_result  \n",
       "0       41.2636898334    No. of Casualties          Injured  \n",
       "1       50.1478302439    No. of Casualties             Dead  \n",
       "2       37.2598581394    No. of Casualties             Dead  \n",
       "3       41.4406960508    No. of Casualties             Dead  \n",
       "4       41.4406960508     No. of Accidents       not_Effict  "
      ]
     },
     "execution_count": 1499,
     "metadata": {},
     "output_type": "execute_result"
    }
   ],
   "source": [
    "traffic_accidents.head()"
   ]
  },
  {
   "cell_type": "code",
   "execution_count": 1500,
   "metadata": {},
   "outputs": [],
   "source": [
    "driving_license= driving_license.rename(index=str, columns={'Year': 'year', 'Administritive Area': 'region','Driving Liceses':'driving_licenses', 'x':'latitude_driving_licenes','y':'longitude_driving_licenes'})"
   ]
  },
  {
   "cell_type": "code",
   "execution_count": 1501,
   "metadata": {},
   "outputs": [
    {
     "data": {
      "text/html": [
       "<div>\n",
       "<style scoped>\n",
       "    .dataframe tbody tr th:only-of-type {\n",
       "        vertical-align: middle;\n",
       "    }\n",
       "\n",
       "    .dataframe tbody tr th {\n",
       "        vertical-align: top;\n",
       "    }\n",
       "\n",
       "    .dataframe thead th {\n",
       "        text-align: right;\n",
       "    }\n",
       "</style>\n",
       "<table border=\"1\" class=\"dataframe\">\n",
       "  <thead>\n",
       "    <tr style=\"text-align: right;\">\n",
       "      <th></th>\n",
       "      <th>year</th>\n",
       "      <th>region</th>\n",
       "      <th>driving_licenses</th>\n",
       "      <th>latitude_driving_licenes</th>\n",
       "      <th>longitude_driving_licenes</th>\n",
       "    </tr>\n",
       "  </thead>\n",
       "  <tbody>\n",
       "    <tr>\n",
       "      <th>0</th>\n",
       "      <td>2012</td>\n",
       "      <td>Makkah</td>\n",
       "      <td>143954</td>\n",
       "      <td>21.628962766</td>\n",
       "      <td>41.2636898334</td>\n",
       "    </tr>\n",
       "    <tr>\n",
       "      <th>1</th>\n",
       "      <td>1994</td>\n",
       "      <td>Makkah</td>\n",
       "      <td>75349</td>\n",
       "      <td>21.628962766</td>\n",
       "      <td>41.2636898334</td>\n",
       "    </tr>\n",
       "    <tr>\n",
       "      <th>2</th>\n",
       "      <td>1998</td>\n",
       "      <td>Makkah</td>\n",
       "      <td>86082</td>\n",
       "      <td>21.628962766</td>\n",
       "      <td>41.2636898334</td>\n",
       "    </tr>\n",
       "    <tr>\n",
       "      <th>3</th>\n",
       "      <td>2004</td>\n",
       "      <td>Makkah</td>\n",
       "      <td>86636</td>\n",
       "      <td>21.628962766</td>\n",
       "      <td>41.2636898334</td>\n",
       "    </tr>\n",
       "    <tr>\n",
       "      <th>4</th>\n",
       "      <td>2005</td>\n",
       "      <td>Makkah</td>\n",
       "      <td>65099</td>\n",
       "      <td>21.628962766</td>\n",
       "      <td>41.2636898334</td>\n",
       "    </tr>\n",
       "  </tbody>\n",
       "</table>\n",
       "</div>"
      ],
      "text/plain": [
       "   year  region  driving_licenses latitude_driving_licenes  \\\n",
       "0  2012  Makkah            143954             21.628962766   \n",
       "1  1994  Makkah             75349             21.628962766   \n",
       "2  1998  Makkah             86082             21.628962766   \n",
       "3  2004  Makkah             86636             21.628962766   \n",
       "4  2005  Makkah             65099             21.628962766   \n",
       "\n",
       "  longitude_driving_licenes  \n",
       "0             41.2636898334  \n",
       "1             41.2636898334  \n",
       "2             41.2636898334  \n",
       "3             41.2636898334  \n",
       "4             41.2636898334  "
      ]
     },
     "execution_count": 1501,
     "metadata": {},
     "output_type": "execute_result"
    }
   ],
   "source": [
    "driving_license.head()"
   ]
  },
  {
   "cell_type": "markdown",
   "metadata": {},
   "source": [
    "#### 8. Create a data dictionary\n",
    "\n",
    "Now that we've fixed our data, and given it appropriate names, let's create a [data dictionary](http://library.ucmerced.edu/node/10249). \n",
    "\n",
    "A data dictionary provides a quick overview of features/variables/columns, alongside data types and descriptions. The more descriptive you can be, the more useful this document is.\n",
    "\n",
    "Example of a Fictional Data Dictionary Entry: \n",
    "\n",
    "|Feature|Type|Dataset|Description|\n",
    "|---|---|---|---|\n",
    "|**county_pop**|*integer*|2010 census|The population of the county (units in thousands, where 2.5 represents 2500 people).| \n",
    "|**per_poverty**|*float*|2010 census|The percent of the county over the age of 18 living below the 200% of official US poverty rate (units percent to two decimal places 98.10 means 98.1%)|\n",
    "\n",
    "[Here's a quick link to a short guide for formatting markdown in Jupyter notebooks](https://jupyter-notebook.readthedocs.io/en/stable/examples/Notebook/Working%20With%20Markdown%20Cells.html).\n",
    "\n",
    "Provided is the skeleton for formatting a markdown table, with columns headers that will help you create a data dictionary to quickly summarize your data, as well as some examples. **This would be a great thing to copy and paste into your custom README for this project.**"
   ]
  },
  {
   "cell_type": "markdown",
   "metadata": {},
   "source": [
    "|Feature|Type|Dataset|Description|\n",
    "|---|---|---|---|\n",
    "|column name|int/float/object|Driving_Licenses/Traffic_Accidents|This is an example| \n"
   ]
  },
  {
   "cell_type": "markdown",
   "metadata": {},
   "source": [
    "|Feature|Type|Dataset|Description|\n",
    "|---|---|---|---|\n",
    "|year|integer|Traffic_Accidents|The year when the accidents happened| \n",
    "|reigon|object|Traffic_Accidents|The cities or region of the accidents| \n",
    "|num_traffic_accidents|integer|Traffic_Accidents|The number of Traffic_Accidents happend| \n",
    "|latitude_accidents|object|Traffic_Accidents|This column present the latitude geographic coordinate of place the accidents| \n",
    "|longitude_accidents|object|Traffic_Accidents|This column present the longitude geographic coordinate of place the accidents| \n",
    "|num_accidents_result|object|Traffic_Accidents|Display the status of accidents| \n",
    "|accidents_result|object|Traffic_Accidents|The final status of the person how had an accients| \n",
    "|year|integer|Driving_Licenses|The year of driving licenses issued| \n",
    "|reigon|object|Driving_Licenses|The cities or region of driving licenses issued| \n",
    "|driving_licenses|integer|Driving_Licenses|The number of driving licenses| \n",
    "|latitude_accidents|object|Driving_Licenses|This column present the latitude geographic coordinate of place the driving licenses issued| \n",
    "|longitude_accidents|object|Driving_Licenses|This column present the longitude geographic coordinate of place the driving licenses issued| \n"
   ]
  },
  {
   "cell_type": "markdown",
   "metadata": {},
   "source": [
    "#### 9. Drop unnecessary rows\n",
    "\n",
    "This study concerns accident and license in regions/area. Please do the followings:\n",
    "0. Which rows are not associated with regions?\n",
    "1. Confirm the numbers of all regions add up to total.\n",
    "2. Remove the rows that are not associated with regions"
   ]
  },
  {
   "cell_type": "code",
   "execution_count": 1502,
   "metadata": {},
   "outputs": [
    {
     "data": {
      "text/plain": [
       "array(['Makkah', 'Eastern Region', 'Tabouk', 'Hail', 'Northern Boarder',\n",
       "       'Jazan', 'Al-Jouf', 'Total', 'Al-Baaha', 'Riyadh', 'Madinah',\n",
       "       'Qassim', 'Najran', 'Asir'], dtype=object)"
      ]
     },
     "execution_count": 1502,
     "metadata": {},
     "output_type": "execute_result"
    }
   ],
   "source": [
    "# Which rows are not associated with regions?\n",
    "traffic_accidents.region.unique() # Total "
   ]
  },
  {
   "cell_type": "code",
   "execution_count": 1503,
   "metadata": {},
   "outputs": [],
   "source": [
    "# 1. Confirm the numbers of all regions add up to total.\n",
    "traffic_accidents_total = traffic_accidents[traffic_accidents.region == 'Total']\n",
    "driving_license_total = driving_license[driving_license.region == 'Total']"
   ]
  },
  {
   "cell_type": "code",
   "execution_count": 1504,
   "metadata": {},
   "outputs": [
    {
     "data": {
      "text/html": [
       "<div>\n",
       "<style scoped>\n",
       "    .dataframe tbody tr th:only-of-type {\n",
       "        vertical-align: middle;\n",
       "    }\n",
       "\n",
       "    .dataframe tbody tr th {\n",
       "        vertical-align: top;\n",
       "    }\n",
       "\n",
       "    .dataframe thead th {\n",
       "        text-align: right;\n",
       "    }\n",
       "</style>\n",
       "<table border=\"1\" class=\"dataframe\">\n",
       "  <thead>\n",
       "    <tr style=\"text-align: right;\">\n",
       "      <th></th>\n",
       "      <th>year</th>\n",
       "      <th>region</th>\n",
       "      <th>num_traffic_accidents</th>\n",
       "      <th>latitude_accidents</th>\n",
       "      <th>longitude_accidents</th>\n",
       "      <th>num_accidents_result</th>\n",
       "      <th>accidents_result</th>\n",
       "    </tr>\n",
       "  </thead>\n",
       "  <tbody>\n",
       "    <tr>\n",
       "      <th>8</th>\n",
       "      <td>2017</td>\n",
       "      <td>Total</td>\n",
       "      <td>7489</td>\n",
       "      <td>NaN</td>\n",
       "      <td>NaN</td>\n",
       "      <td>No. of Casualties</td>\n",
       "      <td>Dead</td>\n",
       "    </tr>\n",
       "    <tr>\n",
       "      <th>29</th>\n",
       "      <td>2016</td>\n",
       "      <td>Total</td>\n",
       "      <td>533380</td>\n",
       "      <td>NaN</td>\n",
       "      <td>NaN</td>\n",
       "      <td>No. of Accidents</td>\n",
       "      <td>not_Effict</td>\n",
       "    </tr>\n",
       "    <tr>\n",
       "      <th>30</th>\n",
       "      <td>2016</td>\n",
       "      <td>Total</td>\n",
       "      <td>38120</td>\n",
       "      <td>NaN</td>\n",
       "      <td>NaN</td>\n",
       "      <td>No. of Casualties</td>\n",
       "      <td>Injured</td>\n",
       "    </tr>\n",
       "    <tr>\n",
       "      <th>68</th>\n",
       "      <td>2017</td>\n",
       "      <td>Total</td>\n",
       "      <td>460488</td>\n",
       "      <td>NaN</td>\n",
       "      <td>NaN</td>\n",
       "      <td>No. of Accidents</td>\n",
       "      <td>not_Effict</td>\n",
       "    </tr>\n",
       "    <tr>\n",
       "      <th>69</th>\n",
       "      <td>2017</td>\n",
       "      <td>Total</td>\n",
       "      <td>33199</td>\n",
       "      <td>NaN</td>\n",
       "      <td>NaN</td>\n",
       "      <td>No. of Casualties</td>\n",
       "      <td>Injured</td>\n",
       "    </tr>\n",
       "    <tr>\n",
       "      <th>77</th>\n",
       "      <td>2016</td>\n",
       "      <td>Total</td>\n",
       "      <td>9031</td>\n",
       "      <td>NaN</td>\n",
       "      <td>NaN</td>\n",
       "      <td>No. of Casualties</td>\n",
       "      <td>Dead</td>\n",
       "    </tr>\n",
       "  </tbody>\n",
       "</table>\n",
       "</div>"
      ],
      "text/plain": [
       "    year region  num_traffic_accidents latitude_accidents longitude_accidents  \\\n",
       "8   2017  Total                   7489                NaN                 NaN   \n",
       "29  2016  Total                 533380                NaN                 NaN   \n",
       "30  2016  Total                  38120                NaN                 NaN   \n",
       "68  2017  Total                 460488                NaN                 NaN   \n",
       "69  2017  Total                  33199                NaN                 NaN   \n",
       "77  2016  Total                   9031                NaN                 NaN   \n",
       "\n",
       "   num_accidents_result accidents_result  \n",
       "8     No. of Casualties             Dead  \n",
       "29     No. of Accidents       not_Effict  \n",
       "30    No. of Casualties          Injured  \n",
       "68     No. of Accidents       not_Effict  \n",
       "69    No. of Casualties          Injured  \n",
       "77    No. of Casualties             Dead  "
      ]
     },
     "execution_count": 1504,
     "metadata": {},
     "output_type": "execute_result"
    }
   ],
   "source": [
    "traffic_accidents_total"
   ]
  },
  {
   "cell_type": "code",
   "execution_count": 1505,
   "metadata": {},
   "outputs": [
    {
     "data": {
      "text/html": [
       "<div>\n",
       "<style scoped>\n",
       "    .dataframe tbody tr th:only-of-type {\n",
       "        vertical-align: middle;\n",
       "    }\n",
       "\n",
       "    .dataframe tbody tr th {\n",
       "        vertical-align: top;\n",
       "    }\n",
       "\n",
       "    .dataframe thead th {\n",
       "        text-align: right;\n",
       "    }\n",
       "</style>\n",
       "<table border=\"1\" class=\"dataframe\">\n",
       "  <thead>\n",
       "    <tr style=\"text-align: right;\">\n",
       "      <th></th>\n",
       "      <th>year</th>\n",
       "      <th>region</th>\n",
       "      <th>driving_licenses</th>\n",
       "      <th>latitude_driving_licenes</th>\n",
       "      <th>longitude_driving_licenes</th>\n",
       "    </tr>\n",
       "  </thead>\n",
       "  <tbody>\n",
       "    <tr>\n",
       "      <th>58</th>\n",
       "      <td>2015</td>\n",
       "      <td>Total</td>\n",
       "      <td>435439</td>\n",
       "      <td>NaN</td>\n",
       "      <td>NaN</td>\n",
       "    </tr>\n",
       "    <tr>\n",
       "      <th>59</th>\n",
       "      <td>2017</td>\n",
       "      <td>Total</td>\n",
       "      <td>928165</td>\n",
       "      <td>NaN</td>\n",
       "      <td>NaN</td>\n",
       "    </tr>\n",
       "    <tr>\n",
       "      <th>60</th>\n",
       "      <td>1993</td>\n",
       "      <td>Total</td>\n",
       "      <td>294893</td>\n",
       "      <td>NaN</td>\n",
       "      <td>NaN</td>\n",
       "    </tr>\n",
       "    <tr>\n",
       "      <th>61</th>\n",
       "      <td>1994</td>\n",
       "      <td>Total</td>\n",
       "      <td>303520</td>\n",
       "      <td>NaN</td>\n",
       "      <td>NaN</td>\n",
       "    </tr>\n",
       "    <tr>\n",
       "      <th>62</th>\n",
       "      <td>2003</td>\n",
       "      <td>Total</td>\n",
       "      <td>254858</td>\n",
       "      <td>NaN</td>\n",
       "      <td>NaN</td>\n",
       "    </tr>\n",
       "    <tr>\n",
       "      <th>63</th>\n",
       "      <td>2006</td>\n",
       "      <td>Total</td>\n",
       "      <td>267508</td>\n",
       "      <td>NaN</td>\n",
       "      <td>NaN</td>\n",
       "    </tr>\n",
       "    <tr>\n",
       "      <th>142</th>\n",
       "      <td>2014</td>\n",
       "      <td>Total</td>\n",
       "      <td>625414</td>\n",
       "      <td>NaN</td>\n",
       "      <td>NaN</td>\n",
       "    </tr>\n",
       "    <tr>\n",
       "      <th>143</th>\n",
       "      <td>2010</td>\n",
       "      <td>Total</td>\n",
       "      <td>386510</td>\n",
       "      <td>NaN</td>\n",
       "      <td>NaN</td>\n",
       "    </tr>\n",
       "    <tr>\n",
       "      <th>144</th>\n",
       "      <td>2012</td>\n",
       "      <td>Total</td>\n",
       "      <td>411204</td>\n",
       "      <td>NaN</td>\n",
       "      <td>NaN</td>\n",
       "    </tr>\n",
       "    <tr>\n",
       "      <th>145</th>\n",
       "      <td>1999</td>\n",
       "      <td>Total</td>\n",
       "      <td>332210</td>\n",
       "      <td>NaN</td>\n",
       "      <td>NaN</td>\n",
       "    </tr>\n",
       "    <tr>\n",
       "      <th>146</th>\n",
       "      <td>2002</td>\n",
       "      <td>Total</td>\n",
       "      <td>282038</td>\n",
       "      <td>NaN</td>\n",
       "      <td>NaN</td>\n",
       "    </tr>\n",
       "    <tr>\n",
       "      <th>147</th>\n",
       "      <td>2001</td>\n",
       "      <td>Total</td>\n",
       "      <td>264725</td>\n",
       "      <td>NaN</td>\n",
       "      <td>NaN</td>\n",
       "    </tr>\n",
       "    <tr>\n",
       "      <th>148</th>\n",
       "      <td>2004</td>\n",
       "      <td>Total</td>\n",
       "      <td>268738</td>\n",
       "      <td>NaN</td>\n",
       "      <td>NaN</td>\n",
       "    </tr>\n",
       "    <tr>\n",
       "      <th>149</th>\n",
       "      <td>2005</td>\n",
       "      <td>Total</td>\n",
       "      <td>251203</td>\n",
       "      <td>NaN</td>\n",
       "      <td>NaN</td>\n",
       "    </tr>\n",
       "    <tr>\n",
       "      <th>150</th>\n",
       "      <td>2009</td>\n",
       "      <td>Total</td>\n",
       "      <td>376275</td>\n",
       "      <td>NaN</td>\n",
       "      <td>NaN</td>\n",
       "    </tr>\n",
       "    <tr>\n",
       "      <th>162</th>\n",
       "      <td>2011</td>\n",
       "      <td>Total</td>\n",
       "      <td>400558</td>\n",
       "      <td>NaN</td>\n",
       "      <td>NaN</td>\n",
       "    </tr>\n",
       "    <tr>\n",
       "      <th>163</th>\n",
       "      <td>2000</td>\n",
       "      <td>Total</td>\n",
       "      <td>273238</td>\n",
       "      <td>NaN</td>\n",
       "      <td>NaN</td>\n",
       "    </tr>\n",
       "    <tr>\n",
       "      <th>164</th>\n",
       "      <td>2007</td>\n",
       "      <td>Total</td>\n",
       "      <td>331356</td>\n",
       "      <td>NaN</td>\n",
       "      <td>NaN</td>\n",
       "    </tr>\n",
       "    <tr>\n",
       "      <th>165</th>\n",
       "      <td>2008</td>\n",
       "      <td>Total</td>\n",
       "      <td>330158</td>\n",
       "      <td>NaN</td>\n",
       "      <td>NaN</td>\n",
       "    </tr>\n",
       "    <tr>\n",
       "      <th>239</th>\n",
       "      <td>2013</td>\n",
       "      <td>Total</td>\n",
       "      <td>565314</td>\n",
       "      <td>NaN</td>\n",
       "      <td>NaN</td>\n",
       "    </tr>\n",
       "    <tr>\n",
       "      <th>240</th>\n",
       "      <td>1995</td>\n",
       "      <td>Total</td>\n",
       "      <td>251878</td>\n",
       "      <td>NaN</td>\n",
       "      <td>NaN</td>\n",
       "    </tr>\n",
       "    <tr>\n",
       "      <th>314</th>\n",
       "      <td>2016</td>\n",
       "      <td>Total</td>\n",
       "      <td>697017</td>\n",
       "      <td>NaN</td>\n",
       "      <td>NaN</td>\n",
       "    </tr>\n",
       "    <tr>\n",
       "      <th>315</th>\n",
       "      <td>1997</td>\n",
       "      <td>Total</td>\n",
       "      <td>289296</td>\n",
       "      <td>NaN</td>\n",
       "      <td>NaN</td>\n",
       "    </tr>\n",
       "    <tr>\n",
       "      <th>316</th>\n",
       "      <td>1996</td>\n",
       "      <td>Total</td>\n",
       "      <td>237623</td>\n",
       "      <td>NaN</td>\n",
       "      <td>NaN</td>\n",
       "    </tr>\n",
       "    <tr>\n",
       "      <th>317</th>\n",
       "      <td>1998</td>\n",
       "      <td>Total</td>\n",
       "      <td>338350</td>\n",
       "      <td>NaN</td>\n",
       "      <td>NaN</td>\n",
       "    </tr>\n",
       "  </tbody>\n",
       "</table>\n",
       "</div>"
      ],
      "text/plain": [
       "     year region  driving_licenses latitude_driving_licenes  \\\n",
       "58   2015  Total            435439                      NaN   \n",
       "59   2017  Total            928165                      NaN   \n",
       "60   1993  Total            294893                      NaN   \n",
       "61   1994  Total            303520                      NaN   \n",
       "62   2003  Total            254858                      NaN   \n",
       "63   2006  Total            267508                      NaN   \n",
       "142  2014  Total            625414                      NaN   \n",
       "143  2010  Total            386510                      NaN   \n",
       "144  2012  Total            411204                      NaN   \n",
       "145  1999  Total            332210                      NaN   \n",
       "146  2002  Total            282038                      NaN   \n",
       "147  2001  Total            264725                      NaN   \n",
       "148  2004  Total            268738                      NaN   \n",
       "149  2005  Total            251203                      NaN   \n",
       "150  2009  Total            376275                      NaN   \n",
       "162  2011  Total            400558                      NaN   \n",
       "163  2000  Total            273238                      NaN   \n",
       "164  2007  Total            331356                      NaN   \n",
       "165  2008  Total            330158                      NaN   \n",
       "239  2013  Total            565314                      NaN   \n",
       "240  1995  Total            251878                      NaN   \n",
       "314  2016  Total            697017                      NaN   \n",
       "315  1997  Total            289296                      NaN   \n",
       "316  1996  Total            237623                      NaN   \n",
       "317  1998  Total            338350                      NaN   \n",
       "\n",
       "    longitude_driving_licenes  \n",
       "58                        NaN  \n",
       "59                        NaN  \n",
       "60                        NaN  \n",
       "61                        NaN  \n",
       "62                        NaN  \n",
       "63                        NaN  \n",
       "142                       NaN  \n",
       "143                       NaN  \n",
       "144                       NaN  \n",
       "145                       NaN  \n",
       "146                       NaN  \n",
       "147                       NaN  \n",
       "148                       NaN  \n",
       "149                       NaN  \n",
       "150                       NaN  \n",
       "162                       NaN  \n",
       "163                       NaN  \n",
       "164                       NaN  \n",
       "165                       NaN  \n",
       "239                       NaN  \n",
       "240                       NaN  \n",
       "314                       NaN  \n",
       "315                       NaN  \n",
       "316                       NaN  \n",
       "317                       NaN  "
      ]
     },
     "execution_count": 1505,
     "metadata": {},
     "output_type": "execute_result"
    }
   ],
   "source": [
    "driving_license_total"
   ]
  },
  {
   "cell_type": "code",
   "execution_count": 1506,
   "metadata": {},
   "outputs": [
    {
     "data": {
      "text/plain": [
       "1081707"
      ]
     },
     "execution_count": 1506,
     "metadata": {},
     "output_type": "execute_result"
    }
   ],
   "source": [
    "traffic_accidents_total.num_traffic_accidents.sum()"
   ]
  },
  {
   "cell_type": "code",
   "execution_count": 1507,
   "metadata": {},
   "outputs": [
    {
     "data": {
      "text/plain": [
       "1081707"
      ]
     },
     "execution_count": 1507,
     "metadata": {},
     "output_type": "execute_result"
    }
   ],
   "source": [
    "traffic_accidents.num_traffic_accidents.sum() - traffic_accidents_total.num_traffic_accidents.sum()"
   ]
  },
  {
   "cell_type": "code",
   "execution_count": 1508,
   "metadata": {},
   "outputs": [
    {
     "data": {
      "text/plain": [
       "9397488"
      ]
     },
     "execution_count": 1508,
     "metadata": {},
     "output_type": "execute_result"
    }
   ],
   "source": [
    "driving_license_total.driving_licenses.sum()"
   ]
  },
  {
   "cell_type": "code",
   "execution_count": 1509,
   "metadata": {},
   "outputs": [
    {
     "data": {
      "text/plain": [
       "9397488"
      ]
     },
     "execution_count": 1509,
     "metadata": {},
     "output_type": "execute_result"
    }
   ],
   "source": [
    "driving_license.driving_licenses.sum() - driving_license_total.driving_licenses.sum() "
   ]
  },
  {
   "cell_type": "code",
   "execution_count": 1510,
   "metadata": {},
   "outputs": [],
   "source": [
    "# 2. Remove the rows that are not associated with regions\n",
    "traffic_accidents = traffic_accidents[traffic_accidents.region!= 'Total']"
   ]
  },
  {
   "cell_type": "code",
   "execution_count": 1511,
   "metadata": {},
   "outputs": [
    {
     "data": {
      "text/plain": [
       "Hail                6\n",
       "Riyadh              6\n",
       "Qassim              6\n",
       "Tabouk              6\n",
       "Asir                6\n",
       "Jazan               6\n",
       "Makkah              6\n",
       "Al-Baaha            6\n",
       "Northern Boarder    6\n",
       "Madinah             6\n",
       "Eastern Region      6\n",
       "Al-Jouf             6\n",
       "Najran              6\n",
       "Name: region, dtype: int64"
      ]
     },
     "execution_count": 1511,
     "metadata": {},
     "output_type": "execute_result"
    }
   ],
   "source": [
    "traffic_accidents.region.value_counts()"
   ]
  },
  {
   "cell_type": "code",
   "execution_count": 1512,
   "metadata": {},
   "outputs": [
    {
     "data": {
      "text/plain": [
       "0"
      ]
     },
     "execution_count": 1512,
     "metadata": {},
     "output_type": "execute_result"
    }
   ],
   "source": [
    "traffic_accidents.region.isnull().sum ()"
   ]
  },
  {
   "cell_type": "code",
   "execution_count": 1513,
   "metadata": {},
   "outputs": [
    {
     "data": {
      "text/plain": [
       "(78, 7)"
      ]
     },
     "execution_count": 1513,
     "metadata": {},
     "output_type": "execute_result"
    }
   ],
   "source": [
    "traffic_accidents.shape"
   ]
  },
  {
   "cell_type": "code",
   "execution_count": 1514,
   "metadata": {},
   "outputs": [],
   "source": [
    "driving_license = driving_license[driving_license.region!= 'Total']"
   ]
  },
  {
   "cell_type": "code",
   "execution_count": 1515,
   "metadata": {},
   "outputs": [
    {
     "data": {
      "text/plain": [
       "Hail                25\n",
       "Riyadh              25\n",
       "Al-Baha             25\n",
       "Al-Qaseem           25\n",
       "Tabouk              25\n",
       "Makkah              25\n",
       "Northern Boarder    25\n",
       "Assir               25\n",
       "Eastern             25\n",
       "Madinah             25\n",
       "Al-Jouf             25\n",
       "Najran              25\n",
       "Jazan               25\n",
       "Name: region, dtype: int64"
      ]
     },
     "execution_count": 1515,
     "metadata": {},
     "output_type": "execute_result"
    }
   ],
   "source": [
    "driving_license.region.value_counts()"
   ]
  },
  {
   "cell_type": "code",
   "execution_count": 1516,
   "metadata": {},
   "outputs": [
    {
     "data": {
      "text/plain": [
       "(325, 5)"
      ]
     },
     "execution_count": 1516,
     "metadata": {},
     "output_type": "execute_result"
    }
   ],
   "source": [
    "driving_license.shape"
   ]
  },
  {
   "cell_type": "code",
   "execution_count": 1517,
   "metadata": {},
   "outputs": [],
   "source": [
    "# traffic_accidents = traffic_accidents.set_index('year')"
   ]
  },
  {
   "cell_type": "code",
   "execution_count": 1518,
   "metadata": {},
   "outputs": [
    {
     "data": {
      "text/plain": [
       "(325, 5)"
      ]
     },
     "execution_count": 1518,
     "metadata": {},
     "output_type": "execute_result"
    }
   ],
   "source": [
    "driving_license.shape"
   ]
  },
  {
   "cell_type": "code",
   "execution_count": 1519,
   "metadata": {},
   "outputs": [
    {
     "name": "stdout",
     "output_type": "stream",
     "text": [
      "<class 'pandas.core.frame.DataFrame'>\n",
      "Index: 78 entries, 0 to 83\n",
      "Data columns (total 7 columns):\n",
      "year                     78 non-null int64\n",
      "region                   78 non-null object\n",
      "num_traffic_accidents    78 non-null int64\n",
      "latitude_accidents       78 non-null object\n",
      "longitude_accidents      78 non-null object\n",
      "num_accidents_result     78 non-null object\n",
      "accidents_result         78 non-null object\n",
      "dtypes: int64(2), object(5)\n",
      "memory usage: 4.9+ KB\n"
     ]
    }
   ],
   "source": [
    "traffic_accidents.info()"
   ]
  },
  {
   "cell_type": "code",
   "execution_count": 1520,
   "metadata": {},
   "outputs": [
    {
     "name": "stdout",
     "output_type": "stream",
     "text": [
      "<class 'pandas.core.frame.DataFrame'>\n",
      "Index: 325 entries, 0 to 349\n",
      "Data columns (total 5 columns):\n",
      "year                         325 non-null int64\n",
      "region                       325 non-null object\n",
      "driving_licenses             325 non-null int64\n",
      "latitude_driving_licenes     325 non-null object\n",
      "longitude_driving_licenes    325 non-null object\n",
      "dtypes: int64(2), object(3)\n",
      "memory usage: 15.2+ KB\n"
     ]
    }
   ],
   "source": [
    "driving_license.info()"
   ]
  },
  {
   "cell_type": "markdown",
   "metadata": {},
   "source": [
    "#### 10a. Data formats\n",
    "Is the License data in long or wide format? How about the Accident data? And why?"
   ]
  },
  {
   "cell_type": "code",
   "execution_count": 1521,
   "metadata": {},
   "outputs": [
    {
     "data": {
      "text/html": [
       "<div>\n",
       "<style scoped>\n",
       "    .dataframe tbody tr th:only-of-type {\n",
       "        vertical-align: middle;\n",
       "    }\n",
       "\n",
       "    .dataframe tbody tr th {\n",
       "        vertical-align: top;\n",
       "    }\n",
       "\n",
       "    .dataframe thead th {\n",
       "        text-align: right;\n",
       "    }\n",
       "</style>\n",
       "<table border=\"1\" class=\"dataframe\">\n",
       "  <thead>\n",
       "    <tr style=\"text-align: right;\">\n",
       "      <th></th>\n",
       "      <th>year</th>\n",
       "      <th>region</th>\n",
       "      <th>num_traffic_accidents</th>\n",
       "      <th>latitude_accidents</th>\n",
       "      <th>longitude_accidents</th>\n",
       "      <th>num_accidents_result</th>\n",
       "      <th>accidents_result</th>\n",
       "    </tr>\n",
       "  </thead>\n",
       "  <tbody>\n",
       "    <tr>\n",
       "      <th>0</th>\n",
       "      <td>2016</td>\n",
       "      <td>Makkah</td>\n",
       "      <td>12383</td>\n",
       "      <td>21.628962766</td>\n",
       "      <td>41.2636898334</td>\n",
       "      <td>No. of Casualties</td>\n",
       "      <td>Injured</td>\n",
       "    </tr>\n",
       "    <tr>\n",
       "      <th>1</th>\n",
       "      <td>2016</td>\n",
       "      <td>Eastern Region</td>\n",
       "      <td>1113</td>\n",
       "      <td>23.2883307307</td>\n",
       "      <td>50.1478302439</td>\n",
       "      <td>No. of Casualties</td>\n",
       "      <td>Dead</td>\n",
       "    </tr>\n",
       "    <tr>\n",
       "      <th>2</th>\n",
       "      <td>2016</td>\n",
       "      <td>Tabouk</td>\n",
       "      <td>434</td>\n",
       "      <td>27.90165499</td>\n",
       "      <td>37.2598581394</td>\n",
       "      <td>No. of Casualties</td>\n",
       "      <td>Dead</td>\n",
       "    </tr>\n",
       "    <tr>\n",
       "      <th>3</th>\n",
       "      <td>2016</td>\n",
       "      <td>Hail</td>\n",
       "      <td>299</td>\n",
       "      <td>27.400845724</td>\n",
       "      <td>41.4406960508</td>\n",
       "      <td>No. of Casualties</td>\n",
       "      <td>Dead</td>\n",
       "    </tr>\n",
       "    <tr>\n",
       "      <th>4</th>\n",
       "      <td>2016</td>\n",
       "      <td>Hail</td>\n",
       "      <td>10199</td>\n",
       "      <td>27.400845724</td>\n",
       "      <td>41.4406960508</td>\n",
       "      <td>No. of Accidents</td>\n",
       "      <td>not_Effict</td>\n",
       "    </tr>\n",
       "  </tbody>\n",
       "</table>\n",
       "</div>"
      ],
      "text/plain": [
       "   year          region  num_traffic_accidents latitude_accidents  \\\n",
       "0  2016          Makkah                  12383       21.628962766   \n",
       "1  2016  Eastern Region                   1113      23.2883307307   \n",
       "2  2016          Tabouk                    434        27.90165499   \n",
       "3  2016            Hail                    299       27.400845724   \n",
       "4  2016            Hail                  10199       27.400845724   \n",
       "\n",
       "  longitude_accidents num_accidents_result accidents_result  \n",
       "0       41.2636898334    No. of Casualties          Injured  \n",
       "1       50.1478302439    No. of Casualties             Dead  \n",
       "2       37.2598581394    No. of Casualties             Dead  \n",
       "3       41.4406960508    No. of Casualties             Dead  \n",
       "4       41.4406960508     No. of Accidents       not_Effict  "
      ]
     },
     "execution_count": 1521,
     "metadata": {},
     "output_type": "execute_result"
    }
   ],
   "source": [
    "#The traffic accident is long  \n",
    "# it's a long stacked, because the individual observations are stacked on top of each other.\n",
    "traffic_accidents.head()"
   ]
  },
  {
   "cell_type": "code",
   "execution_count": 1522,
   "metadata": {},
   "outputs": [
    {
     "data": {
      "text/html": [
       "<div>\n",
       "<style scoped>\n",
       "    .dataframe tbody tr th:only-of-type {\n",
       "        vertical-align: middle;\n",
       "    }\n",
       "\n",
       "    .dataframe tbody tr th {\n",
       "        vertical-align: top;\n",
       "    }\n",
       "\n",
       "    .dataframe thead th {\n",
       "        text-align: right;\n",
       "    }\n",
       "</style>\n",
       "<table border=\"1\" class=\"dataframe\">\n",
       "  <thead>\n",
       "    <tr style=\"text-align: right;\">\n",
       "      <th></th>\n",
       "      <th>year</th>\n",
       "      <th>region</th>\n",
       "      <th>driving_licenses</th>\n",
       "      <th>latitude_driving_licenes</th>\n",
       "      <th>longitude_driving_licenes</th>\n",
       "    </tr>\n",
       "  </thead>\n",
       "  <tbody>\n",
       "    <tr>\n",
       "      <th>0</th>\n",
       "      <td>2012</td>\n",
       "      <td>Makkah</td>\n",
       "      <td>143954</td>\n",
       "      <td>21.628962766</td>\n",
       "      <td>41.2636898334</td>\n",
       "    </tr>\n",
       "    <tr>\n",
       "      <th>1</th>\n",
       "      <td>1994</td>\n",
       "      <td>Makkah</td>\n",
       "      <td>75349</td>\n",
       "      <td>21.628962766</td>\n",
       "      <td>41.2636898334</td>\n",
       "    </tr>\n",
       "    <tr>\n",
       "      <th>2</th>\n",
       "      <td>1998</td>\n",
       "      <td>Makkah</td>\n",
       "      <td>86082</td>\n",
       "      <td>21.628962766</td>\n",
       "      <td>41.2636898334</td>\n",
       "    </tr>\n",
       "    <tr>\n",
       "      <th>3</th>\n",
       "      <td>2004</td>\n",
       "      <td>Makkah</td>\n",
       "      <td>86636</td>\n",
       "      <td>21.628962766</td>\n",
       "      <td>41.2636898334</td>\n",
       "    </tr>\n",
       "    <tr>\n",
       "      <th>4</th>\n",
       "      <td>2005</td>\n",
       "      <td>Makkah</td>\n",
       "      <td>65099</td>\n",
       "      <td>21.628962766</td>\n",
       "      <td>41.2636898334</td>\n",
       "    </tr>\n",
       "  </tbody>\n",
       "</table>\n",
       "</div>"
      ],
      "text/plain": [
       "   year  region  driving_licenses latitude_driving_licenes  \\\n",
       "0  2012  Makkah            143954             21.628962766   \n",
       "1  1994  Makkah             75349             21.628962766   \n",
       "2  1998  Makkah             86082             21.628962766   \n",
       "3  2004  Makkah             86636             21.628962766   \n",
       "4  2005  Makkah             65099             21.628962766   \n",
       "\n",
       "  longitude_driving_licenes  \n",
       "0             41.2636898334  \n",
       "1             41.2636898334  \n",
       "2             41.2636898334  \n",
       "3             41.2636898334  \n",
       "4             41.2636898334  "
      ]
     },
     "execution_count": 1522,
     "metadata": {},
     "output_type": "execute_result"
    }
   ],
   "source": [
    "# The driving licenses\n",
    "# it's a wide, because this format will be wide in the horizontal direction\n",
    "driving_license.head()"
   ]
  },
  {
   "cell_type": "markdown",
   "metadata": {},
   "source": [
    "#### 10b. Changing formats\n",
    "Which format would work best for both dataframes? Transform the datasets to the same format before merging in the next task."
   ]
  },
  {
   "cell_type": "code",
   "execution_count": 1523,
   "metadata": {},
   "outputs": [
    {
     "data": {
      "text/html": [
       "<div>\n",
       "<style scoped>\n",
       "    .dataframe tbody tr th:only-of-type {\n",
       "        vertical-align: middle;\n",
       "    }\n",
       "\n",
       "    .dataframe tbody tr th {\n",
       "        vertical-align: top;\n",
       "    }\n",
       "\n",
       "    .dataframe thead th {\n",
       "        text-align: right;\n",
       "    }\n",
       "</style>\n",
       "<table border=\"1\" class=\"dataframe\">\n",
       "  <thead>\n",
       "    <tr style=\"text-align: right;\">\n",
       "      <th></th>\n",
       "      <th>year</th>\n",
       "      <th>region</th>\n",
       "      <th>num_traffic_accidents</th>\n",
       "      <th>latitude_accidents</th>\n",
       "      <th>longitude_accidents</th>\n",
       "      <th>num_accidents_result</th>\n",
       "      <th>accidents_result</th>\n",
       "    </tr>\n",
       "  </thead>\n",
       "  <tbody>\n",
       "    <tr>\n",
       "      <th>0</th>\n",
       "      <td>2016</td>\n",
       "      <td>Makkah</td>\n",
       "      <td>12383</td>\n",
       "      <td>21.628962766</td>\n",
       "      <td>41.2636898334</td>\n",
       "      <td>No. of Casualties</td>\n",
       "      <td>Injured</td>\n",
       "    </tr>\n",
       "    <tr>\n",
       "      <th>1</th>\n",
       "      <td>2016</td>\n",
       "      <td>Eastern Region</td>\n",
       "      <td>1113</td>\n",
       "      <td>23.2883307307</td>\n",
       "      <td>50.1478302439</td>\n",
       "      <td>No. of Casualties</td>\n",
       "      <td>Dead</td>\n",
       "    </tr>\n",
       "    <tr>\n",
       "      <th>2</th>\n",
       "      <td>2016</td>\n",
       "      <td>Tabouk</td>\n",
       "      <td>434</td>\n",
       "      <td>27.90165499</td>\n",
       "      <td>37.2598581394</td>\n",
       "      <td>No. of Casualties</td>\n",
       "      <td>Dead</td>\n",
       "    </tr>\n",
       "    <tr>\n",
       "      <th>3</th>\n",
       "      <td>2016</td>\n",
       "      <td>Hail</td>\n",
       "      <td>299</td>\n",
       "      <td>27.400845724</td>\n",
       "      <td>41.4406960508</td>\n",
       "      <td>No. of Casualties</td>\n",
       "      <td>Dead</td>\n",
       "    </tr>\n",
       "    <tr>\n",
       "      <th>4</th>\n",
       "      <td>2016</td>\n",
       "      <td>Hail</td>\n",
       "      <td>10199</td>\n",
       "      <td>27.400845724</td>\n",
       "      <td>41.4406960508</td>\n",
       "      <td>No. of Accidents</td>\n",
       "      <td>not_Effict</td>\n",
       "    </tr>\n",
       "  </tbody>\n",
       "</table>\n",
       "</div>"
      ],
      "text/plain": [
       "   year          region  num_traffic_accidents latitude_accidents  \\\n",
       "0  2016          Makkah                  12383       21.628962766   \n",
       "1  2016  Eastern Region                   1113      23.2883307307   \n",
       "2  2016          Tabouk                    434        27.90165499   \n",
       "3  2016            Hail                    299       27.400845724   \n",
       "4  2016            Hail                  10199       27.400845724   \n",
       "\n",
       "  longitude_accidents num_accidents_result accidents_result  \n",
       "0       41.2636898334    No. of Casualties          Injured  \n",
       "1       50.1478302439    No. of Casualties             Dead  \n",
       "2       37.2598581394    No. of Casualties             Dead  \n",
       "3       41.4406960508    No. of Casualties             Dead  \n",
       "4       41.4406960508     No. of Accidents       not_Effict  "
      ]
     },
     "execution_count": 1523,
     "metadata": {},
     "output_type": "execute_result"
    }
   ],
   "source": [
    "traffic_accidents.head()"
   ]
  },
  {
   "cell_type": "code",
   "execution_count": 1524,
   "metadata": {},
   "outputs": [],
   "source": [
    "traffic_accidents_pivoting = traffic_accidents.pivot_table(index =['year', 'region'] , columns= 'accidents_result' , values='num_traffic_accidents') #we use pivot_table to avoid duplicate data "
   ]
  },
  {
   "cell_type": "code",
   "execution_count": 1525,
   "metadata": {},
   "outputs": [
    {
     "data": {
      "text/html": [
       "<div>\n",
       "<style scoped>\n",
       "    .dataframe tbody tr th:only-of-type {\n",
       "        vertical-align: middle;\n",
       "    }\n",
       "\n",
       "    .dataframe tbody tr th {\n",
       "        vertical-align: top;\n",
       "    }\n",
       "\n",
       "    .dataframe thead th {\n",
       "        text-align: right;\n",
       "    }\n",
       "</style>\n",
       "<table border=\"1\" class=\"dataframe\">\n",
       "  <thead>\n",
       "    <tr style=\"text-align: right;\">\n",
       "      <th></th>\n",
       "      <th>accidents_result</th>\n",
       "      <th>Dead</th>\n",
       "      <th>Injured</th>\n",
       "      <th>not_Effict</th>\n",
       "    </tr>\n",
       "    <tr>\n",
       "      <th>year</th>\n",
       "      <th>region</th>\n",
       "      <th></th>\n",
       "      <th></th>\n",
       "      <th></th>\n",
       "    </tr>\n",
       "  </thead>\n",
       "  <tbody>\n",
       "    <tr>\n",
       "      <th rowspan=\"13\" valign=\"top\">2016</th>\n",
       "      <th>Al-Baaha</th>\n",
       "      <td>185</td>\n",
       "      <td>1227</td>\n",
       "      <td>3618</td>\n",
       "    </tr>\n",
       "    <tr>\n",
       "      <th>Al-Jouf</th>\n",
       "      <td>245</td>\n",
       "      <td>920</td>\n",
       "      <td>10212</td>\n",
       "    </tr>\n",
       "    <tr>\n",
       "      <th>Asir</th>\n",
       "      <td>983</td>\n",
       "      <td>2541</td>\n",
       "      <td>32684</td>\n",
       "    </tr>\n",
       "    <tr>\n",
       "      <th>Eastern Region</th>\n",
       "      <td>1113</td>\n",
       "      <td>4893</td>\n",
       "      <td>101619</td>\n",
       "    </tr>\n",
       "    <tr>\n",
       "      <th>Hail</th>\n",
       "      <td>299</td>\n",
       "      <td>932</td>\n",
       "      <td>10199</td>\n",
       "    </tr>\n",
       "    <tr>\n",
       "      <th>Jazan</th>\n",
       "      <td>514</td>\n",
       "      <td>2259</td>\n",
       "      <td>25873</td>\n",
       "    </tr>\n",
       "    <tr>\n",
       "      <th>Madinah</th>\n",
       "      <td>822</td>\n",
       "      <td>4184</td>\n",
       "      <td>14475</td>\n",
       "    </tr>\n",
       "    <tr>\n",
       "      <th>Makkah</th>\n",
       "      <td>2243</td>\n",
       "      <td>12383</td>\n",
       "      <td>134838</td>\n",
       "    </tr>\n",
       "    <tr>\n",
       "      <th>Najran</th>\n",
       "      <td>173</td>\n",
       "      <td>706</td>\n",
       "      <td>3235</td>\n",
       "    </tr>\n",
       "    <tr>\n",
       "      <th>Northern Boarder</th>\n",
       "      <td>193</td>\n",
       "      <td>631</td>\n",
       "      <td>13196</td>\n",
       "    </tr>\n",
       "    <tr>\n",
       "      <th>Qassim</th>\n",
       "      <td>397</td>\n",
       "      <td>1513</td>\n",
       "      <td>25664</td>\n",
       "    </tr>\n",
       "    <tr>\n",
       "      <th>Riyadh</th>\n",
       "      <td>1430</td>\n",
       "      <td>4207</td>\n",
       "      <td>141736</td>\n",
       "    </tr>\n",
       "    <tr>\n",
       "      <th>Tabouk</th>\n",
       "      <td>434</td>\n",
       "      <td>1724</td>\n",
       "      <td>16031</td>\n",
       "    </tr>\n",
       "    <tr>\n",
       "      <th rowspan=\"13\" valign=\"top\">2017</th>\n",
       "      <th>Al-Baaha</th>\n",
       "      <td>134</td>\n",
       "      <td>1007</td>\n",
       "      <td>1414</td>\n",
       "    </tr>\n",
       "    <tr>\n",
       "      <th>Al-Jouf</th>\n",
       "      <td>240</td>\n",
       "      <td>862</td>\n",
       "      <td>10469</td>\n",
       "    </tr>\n",
       "    <tr>\n",
       "      <th>Asir</th>\n",
       "      <td>828</td>\n",
       "      <td>2368</td>\n",
       "      <td>25245</td>\n",
       "    </tr>\n",
       "    <tr>\n",
       "      <th>Eastern Region</th>\n",
       "      <td>963</td>\n",
       "      <td>4073</td>\n",
       "      <td>81433</td>\n",
       "    </tr>\n",
       "    <tr>\n",
       "      <th>Hail</th>\n",
       "      <td>265</td>\n",
       "      <td>773</td>\n",
       "      <td>9379</td>\n",
       "    </tr>\n",
       "    <tr>\n",
       "      <th>Jazan</th>\n",
       "      <td>466</td>\n",
       "      <td>2207</td>\n",
       "      <td>22161</td>\n",
       "    </tr>\n",
       "    <tr>\n",
       "      <th>Madinah</th>\n",
       "      <td>580</td>\n",
       "      <td>2917</td>\n",
       "      <td>16070</td>\n",
       "    </tr>\n",
       "    <tr>\n",
       "      <th>Makkah</th>\n",
       "      <td>1641</td>\n",
       "      <td>10623</td>\n",
       "      <td>145541</td>\n",
       "    </tr>\n",
       "    <tr>\n",
       "      <th>Najran</th>\n",
       "      <td>194</td>\n",
       "      <td>766</td>\n",
       "      <td>3193</td>\n",
       "    </tr>\n",
       "    <tr>\n",
       "      <th>Northern Boarder</th>\n",
       "      <td>112</td>\n",
       "      <td>374</td>\n",
       "      <td>11540</td>\n",
       "    </tr>\n",
       "    <tr>\n",
       "      <th>Qassim</th>\n",
       "      <td>319</td>\n",
       "      <td>1446</td>\n",
       "      <td>22405</td>\n",
       "    </tr>\n",
       "    <tr>\n",
       "      <th>Riyadh</th>\n",
       "      <td>1399</td>\n",
       "      <td>4540</td>\n",
       "      <td>99925</td>\n",
       "    </tr>\n",
       "    <tr>\n",
       "      <th>Tabouk</th>\n",
       "      <td>348</td>\n",
       "      <td>1243</td>\n",
       "      <td>11713</td>\n",
       "    </tr>\n",
       "  </tbody>\n",
       "</table>\n",
       "</div>"
      ],
      "text/plain": [
       "accidents_result       Dead  Injured  not_Effict\n",
       "year region                                     \n",
       "2016 Al-Baaha           185     1227        3618\n",
       "     Al-Jouf            245      920       10212\n",
       "     Asir               983     2541       32684\n",
       "     Eastern Region    1113     4893      101619\n",
       "     Hail               299      932       10199\n",
       "     Jazan              514     2259       25873\n",
       "     Madinah            822     4184       14475\n",
       "     Makkah            2243    12383      134838\n",
       "     Najran             173      706        3235\n",
       "     Northern Boarder   193      631       13196\n",
       "     Qassim             397     1513       25664\n",
       "     Riyadh            1430     4207      141736\n",
       "     Tabouk             434     1724       16031\n",
       "2017 Al-Baaha           134     1007        1414\n",
       "     Al-Jouf            240      862       10469\n",
       "     Asir               828     2368       25245\n",
       "     Eastern Region     963     4073       81433\n",
       "     Hail               265      773        9379\n",
       "     Jazan              466     2207       22161\n",
       "     Madinah            580     2917       16070\n",
       "     Makkah            1641    10623      145541\n",
       "     Najran             194      766        3193\n",
       "     Northern Boarder   112      374       11540\n",
       "     Qassim             319     1446       22405\n",
       "     Riyadh            1399     4540       99925\n",
       "     Tabouk             348     1243       11713"
      ]
     },
     "execution_count": 1525,
     "metadata": {},
     "output_type": "execute_result"
    }
   ],
   "source": [
    "traffic_accidents_pivoting"
   ]
  },
  {
   "cell_type": "code",
   "execution_count": 1526,
   "metadata": {},
   "outputs": [],
   "source": [
    "driving_license_pivoting = driving_license.pivot(index ='region' , columns= 'year', values=\"driving_licenses\")"
   ]
  },
  {
   "cell_type": "code",
   "execution_count": 1527,
   "metadata": {},
   "outputs": [
    {
     "data": {
      "text/html": [
       "<div>\n",
       "<style scoped>\n",
       "    .dataframe tbody tr th:only-of-type {\n",
       "        vertical-align: middle;\n",
       "    }\n",
       "\n",
       "    .dataframe tbody tr th {\n",
       "        vertical-align: top;\n",
       "    }\n",
       "\n",
       "    .dataframe thead th {\n",
       "        text-align: right;\n",
       "    }\n",
       "</style>\n",
       "<table border=\"1\" class=\"dataframe\">\n",
       "  <thead>\n",
       "    <tr style=\"text-align: right;\">\n",
       "      <th></th>\n",
       "      <th>year</th>\n",
       "      <th>region</th>\n",
       "      <th>driving_licenses</th>\n",
       "      <th>latitude_driving_licenes</th>\n",
       "      <th>longitude_driving_licenes</th>\n",
       "    </tr>\n",
       "  </thead>\n",
       "  <tbody>\n",
       "    <tr>\n",
       "      <th>0</th>\n",
       "      <td>2012</td>\n",
       "      <td>Makkah</td>\n",
       "      <td>143954</td>\n",
       "      <td>21.628962766</td>\n",
       "      <td>41.2636898334</td>\n",
       "    </tr>\n",
       "    <tr>\n",
       "      <th>1</th>\n",
       "      <td>1994</td>\n",
       "      <td>Makkah</td>\n",
       "      <td>75349</td>\n",
       "      <td>21.628962766</td>\n",
       "      <td>41.2636898334</td>\n",
       "    </tr>\n",
       "    <tr>\n",
       "      <th>2</th>\n",
       "      <td>1998</td>\n",
       "      <td>Makkah</td>\n",
       "      <td>86082</td>\n",
       "      <td>21.628962766</td>\n",
       "      <td>41.2636898334</td>\n",
       "    </tr>\n",
       "    <tr>\n",
       "      <th>3</th>\n",
       "      <td>2004</td>\n",
       "      <td>Makkah</td>\n",
       "      <td>86636</td>\n",
       "      <td>21.628962766</td>\n",
       "      <td>41.2636898334</td>\n",
       "    </tr>\n",
       "    <tr>\n",
       "      <th>4</th>\n",
       "      <td>2005</td>\n",
       "      <td>Makkah</td>\n",
       "      <td>65099</td>\n",
       "      <td>21.628962766</td>\n",
       "      <td>41.2636898334</td>\n",
       "    </tr>\n",
       "  </tbody>\n",
       "</table>\n",
       "</div>"
      ],
      "text/plain": [
       "   year  region  driving_licenses latitude_driving_licenes  \\\n",
       "0  2012  Makkah            143954             21.628962766   \n",
       "1  1994  Makkah             75349             21.628962766   \n",
       "2  1998  Makkah             86082             21.628962766   \n",
       "3  2004  Makkah             86636             21.628962766   \n",
       "4  2005  Makkah             65099             21.628962766   \n",
       "\n",
       "  longitude_driving_licenes  \n",
       "0             41.2636898334  \n",
       "1             41.2636898334  \n",
       "2             41.2636898334  \n",
       "3             41.2636898334  \n",
       "4             41.2636898334  "
      ]
     },
     "execution_count": 1527,
     "metadata": {},
     "output_type": "execute_result"
    }
   ],
   "source": [
    "driving_license.head()"
   ]
  },
  {
   "cell_type": "code",
   "execution_count": 1528,
   "metadata": {},
   "outputs": [
    {
     "data": {
      "text/html": [
       "<div>\n",
       "<style scoped>\n",
       "    .dataframe tbody tr th:only-of-type {\n",
       "        vertical-align: middle;\n",
       "    }\n",
       "\n",
       "    .dataframe tbody tr th {\n",
       "        vertical-align: top;\n",
       "    }\n",
       "\n",
       "    .dataframe thead th {\n",
       "        text-align: right;\n",
       "    }\n",
       "</style>\n",
       "<table border=\"1\" class=\"dataframe\">\n",
       "  <thead>\n",
       "    <tr style=\"text-align: right;\">\n",
       "      <th>year</th>\n",
       "      <th>1993</th>\n",
       "      <th>1994</th>\n",
       "      <th>1995</th>\n",
       "      <th>1996</th>\n",
       "      <th>1997</th>\n",
       "      <th>1998</th>\n",
       "      <th>1999</th>\n",
       "      <th>2000</th>\n",
       "      <th>2001</th>\n",
       "      <th>2002</th>\n",
       "      <th>...</th>\n",
       "      <th>2008</th>\n",
       "      <th>2009</th>\n",
       "      <th>2010</th>\n",
       "      <th>2011</th>\n",
       "      <th>2012</th>\n",
       "      <th>2013</th>\n",
       "      <th>2014</th>\n",
       "      <th>2015</th>\n",
       "      <th>2016</th>\n",
       "      <th>2017</th>\n",
       "    </tr>\n",
       "    <tr>\n",
       "      <th>region</th>\n",
       "      <th></th>\n",
       "      <th></th>\n",
       "      <th></th>\n",
       "      <th></th>\n",
       "      <th></th>\n",
       "      <th></th>\n",
       "      <th></th>\n",
       "      <th></th>\n",
       "      <th></th>\n",
       "      <th></th>\n",
       "      <th></th>\n",
       "      <th></th>\n",
       "      <th></th>\n",
       "      <th></th>\n",
       "      <th></th>\n",
       "      <th></th>\n",
       "      <th></th>\n",
       "      <th></th>\n",
       "      <th></th>\n",
       "      <th></th>\n",
       "      <th></th>\n",
       "    </tr>\n",
       "  </thead>\n",
       "  <tbody>\n",
       "    <tr>\n",
       "      <th>Al-Baha</th>\n",
       "      <td>3270</td>\n",
       "      <td>2729</td>\n",
       "      <td>2423</td>\n",
       "      <td>1468</td>\n",
       "      <td>3027</td>\n",
       "      <td>5110</td>\n",
       "      <td>4246</td>\n",
       "      <td>4832</td>\n",
       "      <td>7594</td>\n",
       "      <td>3335</td>\n",
       "      <td>...</td>\n",
       "      <td>5418</td>\n",
       "      <td>9815</td>\n",
       "      <td>7076</td>\n",
       "      <td>6450</td>\n",
       "      <td>7593</td>\n",
       "      <td>7482</td>\n",
       "      <td>7268</td>\n",
       "      <td>4856</td>\n",
       "      <td>4614</td>\n",
       "      <td>4131</td>\n",
       "    </tr>\n",
       "    <tr>\n",
       "      <th>Al-Jouf</th>\n",
       "      <td>2884</td>\n",
       "      <td>2535</td>\n",
       "      <td>2270</td>\n",
       "      <td>2518</td>\n",
       "      <td>3565</td>\n",
       "      <td>3476</td>\n",
       "      <td>3950</td>\n",
       "      <td>4666</td>\n",
       "      <td>4756</td>\n",
       "      <td>5940</td>\n",
       "      <td>...</td>\n",
       "      <td>10929</td>\n",
       "      <td>10567</td>\n",
       "      <td>10937</td>\n",
       "      <td>10180</td>\n",
       "      <td>10246</td>\n",
       "      <td>11602</td>\n",
       "      <td>9982</td>\n",
       "      <td>10233</td>\n",
       "      <td>9371</td>\n",
       "      <td>8091</td>\n",
       "    </tr>\n",
       "    <tr>\n",
       "      <th>Al-Qaseem</th>\n",
       "      <td>73618</td>\n",
       "      <td>68916</td>\n",
       "      <td>49690</td>\n",
       "      <td>42693</td>\n",
       "      <td>10092</td>\n",
       "      <td>11350</td>\n",
       "      <td>9983</td>\n",
       "      <td>12226</td>\n",
       "      <td>14718</td>\n",
       "      <td>16298</td>\n",
       "      <td>...</td>\n",
       "      <td>22236</td>\n",
       "      <td>27571</td>\n",
       "      <td>36737</td>\n",
       "      <td>10760</td>\n",
       "      <td>11421</td>\n",
       "      <td>17889</td>\n",
       "      <td>29113</td>\n",
       "      <td>13631</td>\n",
       "      <td>9180</td>\n",
       "      <td>6318</td>\n",
       "    </tr>\n",
       "    <tr>\n",
       "      <th>Assir</th>\n",
       "      <td>6226</td>\n",
       "      <td>5185</td>\n",
       "      <td>4889</td>\n",
       "      <td>3319</td>\n",
       "      <td>12204</td>\n",
       "      <td>13220</td>\n",
       "      <td>14625</td>\n",
       "      <td>18622</td>\n",
       "      <td>20321</td>\n",
       "      <td>20417</td>\n",
       "      <td>...</td>\n",
       "      <td>18800</td>\n",
       "      <td>21582</td>\n",
       "      <td>21835</td>\n",
       "      <td>24515</td>\n",
       "      <td>23136</td>\n",
       "      <td>29730</td>\n",
       "      <td>29552</td>\n",
       "      <td>38567</td>\n",
       "      <td>41367</td>\n",
       "      <td>39133</td>\n",
       "    </tr>\n",
       "    <tr>\n",
       "      <th>Eastern</th>\n",
       "      <td>9964</td>\n",
       "      <td>10918</td>\n",
       "      <td>7831</td>\n",
       "      <td>8461</td>\n",
       "      <td>58814</td>\n",
       "      <td>70650</td>\n",
       "      <td>64973</td>\n",
       "      <td>65767</td>\n",
       "      <td>74119</td>\n",
       "      <td>85035</td>\n",
       "      <td>...</td>\n",
       "      <td>104626</td>\n",
       "      <td>108544</td>\n",
       "      <td>110295</td>\n",
       "      <td>151087</td>\n",
       "      <td>129971</td>\n",
       "      <td>123325</td>\n",
       "      <td>121774</td>\n",
       "      <td>135752</td>\n",
       "      <td>142307</td>\n",
       "      <td>126816</td>\n",
       "    </tr>\n",
       "    <tr>\n",
       "      <th>Hail</th>\n",
       "      <td>10484</td>\n",
       "      <td>11131</td>\n",
       "      <td>9735</td>\n",
       "      <td>10267</td>\n",
       "      <td>6606</td>\n",
       "      <td>4708</td>\n",
       "      <td>3139</td>\n",
       "      <td>3215</td>\n",
       "      <td>6077</td>\n",
       "      <td>5070</td>\n",
       "      <td>...</td>\n",
       "      <td>7413</td>\n",
       "      <td>7282</td>\n",
       "      <td>7637</td>\n",
       "      <td>9123</td>\n",
       "      <td>11082</td>\n",
       "      <td>9731</td>\n",
       "      <td>10417</td>\n",
       "      <td>7172</td>\n",
       "      <td>54507</td>\n",
       "      <td>22035</td>\n",
       "    </tr>\n",
       "    <tr>\n",
       "      <th>Jazan</th>\n",
       "      <td>6009</td>\n",
       "      <td>3826</td>\n",
       "      <td>2284</td>\n",
       "      <td>2226</td>\n",
       "      <td>5695</td>\n",
       "      <td>2613</td>\n",
       "      <td>4792</td>\n",
       "      <td>5678</td>\n",
       "      <td>10631</td>\n",
       "      <td>5254</td>\n",
       "      <td>...</td>\n",
       "      <td>11346</td>\n",
       "      <td>9437</td>\n",
       "      <td>12270</td>\n",
       "      <td>10946</td>\n",
       "      <td>11156</td>\n",
       "      <td>14175</td>\n",
       "      <td>15621</td>\n",
       "      <td>13931</td>\n",
       "      <td>11504</td>\n",
       "      <td>18345</td>\n",
       "    </tr>\n",
       "    <tr>\n",
       "      <th>Madinah</th>\n",
       "      <td>4122</td>\n",
       "      <td>3767</td>\n",
       "      <td>4155</td>\n",
       "      <td>3425</td>\n",
       "      <td>10495</td>\n",
       "      <td>13020</td>\n",
       "      <td>11108</td>\n",
       "      <td>9562</td>\n",
       "      <td>13561</td>\n",
       "      <td>10494</td>\n",
       "      <td>...</td>\n",
       "      <td>9194</td>\n",
       "      <td>11574</td>\n",
       "      <td>15045</td>\n",
       "      <td>14630</td>\n",
       "      <td>14459</td>\n",
       "      <td>28513</td>\n",
       "      <td>31447</td>\n",
       "      <td>22744</td>\n",
       "      <td>24540</td>\n",
       "      <td>36165</td>\n",
       "    </tr>\n",
       "    <tr>\n",
       "      <th>Makkah</th>\n",
       "      <td>65977</td>\n",
       "      <td>75349</td>\n",
       "      <td>60356</td>\n",
       "      <td>46195</td>\n",
       "      <td>76623</td>\n",
       "      <td>86082</td>\n",
       "      <td>103535</td>\n",
       "      <td>87053</td>\n",
       "      <td>85593</td>\n",
       "      <td>88593</td>\n",
       "      <td>...</td>\n",
       "      <td>77013</td>\n",
       "      <td>112045</td>\n",
       "      <td>113531</td>\n",
       "      <td>110647</td>\n",
       "      <td>143954</td>\n",
       "      <td>131108</td>\n",
       "      <td>149234</td>\n",
       "      <td>157389</td>\n",
       "      <td>136055</td>\n",
       "      <td>142487</td>\n",
       "    </tr>\n",
       "    <tr>\n",
       "      <th>Najran</th>\n",
       "      <td>3769</td>\n",
       "      <td>3880</td>\n",
       "      <td>3268</td>\n",
       "      <td>3274</td>\n",
       "      <td>3073</td>\n",
       "      <td>4322</td>\n",
       "      <td>3959</td>\n",
       "      <td>4905</td>\n",
       "      <td>4950</td>\n",
       "      <td>5117</td>\n",
       "      <td>...</td>\n",
       "      <td>7938</td>\n",
       "      <td>6771</td>\n",
       "      <td>6360</td>\n",
       "      <td>7314</td>\n",
       "      <td>9201</td>\n",
       "      <td>8996</td>\n",
       "      <td>9601</td>\n",
       "      <td>1864</td>\n",
       "      <td>2153</td>\n",
       "      <td>13825</td>\n",
       "    </tr>\n",
       "    <tr>\n",
       "      <th>Northern Boarder</th>\n",
       "      <td>1510</td>\n",
       "      <td>1457</td>\n",
       "      <td>1318</td>\n",
       "      <td>1383</td>\n",
       "      <td>1531</td>\n",
       "      <td>2014</td>\n",
       "      <td>2311</td>\n",
       "      <td>2894</td>\n",
       "      <td>2971</td>\n",
       "      <td>2268</td>\n",
       "      <td>...</td>\n",
       "      <td>3519</td>\n",
       "      <td>3649</td>\n",
       "      <td>3064</td>\n",
       "      <td>4314</td>\n",
       "      <td>3706</td>\n",
       "      <td>3921</td>\n",
       "      <td>5009</td>\n",
       "      <td>3837</td>\n",
       "      <td>4958</td>\n",
       "      <td>5280</td>\n",
       "    </tr>\n",
       "    <tr>\n",
       "      <th>Riyadh</th>\n",
       "      <td>103886</td>\n",
       "      <td>110545</td>\n",
       "      <td>101608</td>\n",
       "      <td>110131</td>\n",
       "      <td>92145</td>\n",
       "      <td>114962</td>\n",
       "      <td>100291</td>\n",
       "      <td>45345</td>\n",
       "      <td>13090</td>\n",
       "      <td>25423</td>\n",
       "      <td>...</td>\n",
       "      <td>36798</td>\n",
       "      <td>38014</td>\n",
       "      <td>31378</td>\n",
       "      <td>27772</td>\n",
       "      <td>23888</td>\n",
       "      <td>165994</td>\n",
       "      <td>194208</td>\n",
       "      <td>24548</td>\n",
       "      <td>242851</td>\n",
       "      <td>495307</td>\n",
       "    </tr>\n",
       "    <tr>\n",
       "      <th>Tabouk</th>\n",
       "      <td>3174</td>\n",
       "      <td>3282</td>\n",
       "      <td>2051</td>\n",
       "      <td>2263</td>\n",
       "      <td>5426</td>\n",
       "      <td>6823</td>\n",
       "      <td>5298</td>\n",
       "      <td>8473</td>\n",
       "      <td>6344</td>\n",
       "      <td>8794</td>\n",
       "      <td>...</td>\n",
       "      <td>14928</td>\n",
       "      <td>9424</td>\n",
       "      <td>10345</td>\n",
       "      <td>12820</td>\n",
       "      <td>11391</td>\n",
       "      <td>12848</td>\n",
       "      <td>12188</td>\n",
       "      <td>915</td>\n",
       "      <td>13610</td>\n",
       "      <td>10232</td>\n",
       "    </tr>\n",
       "  </tbody>\n",
       "</table>\n",
       "<p>13 rows × 25 columns</p>\n",
       "</div>"
      ],
      "text/plain": [
       "year                1993    1994    1995    1996   1997    1998    1999  \\\n",
       "region                                                                    \n",
       "Al-Baha             3270    2729    2423    1468   3027    5110    4246   \n",
       "Al-Jouf             2884    2535    2270    2518   3565    3476    3950   \n",
       "Al-Qaseem          73618   68916   49690   42693  10092   11350    9983   \n",
       "Assir               6226    5185    4889    3319  12204   13220   14625   \n",
       "Eastern             9964   10918    7831    8461  58814   70650   64973   \n",
       "Hail               10484   11131    9735   10267   6606    4708    3139   \n",
       "Jazan               6009    3826    2284    2226   5695    2613    4792   \n",
       "Madinah             4122    3767    4155    3425  10495   13020   11108   \n",
       "Makkah             65977   75349   60356   46195  76623   86082  103535   \n",
       "Najran              3769    3880    3268    3274   3073    4322    3959   \n",
       "Northern Boarder    1510    1457    1318    1383   1531    2014    2311   \n",
       "Riyadh            103886  110545  101608  110131  92145  114962  100291   \n",
       "Tabouk              3174    3282    2051    2263   5426    6823    5298   \n",
       "\n",
       "year               2000   2001   2002  ...    2008    2009    2010    2011  \\\n",
       "region                                 ...                                   \n",
       "Al-Baha            4832   7594   3335  ...    5418    9815    7076    6450   \n",
       "Al-Jouf            4666   4756   5940  ...   10929   10567   10937   10180   \n",
       "Al-Qaseem         12226  14718  16298  ...   22236   27571   36737   10760   \n",
       "Assir             18622  20321  20417  ...   18800   21582   21835   24515   \n",
       "Eastern           65767  74119  85035  ...  104626  108544  110295  151087   \n",
       "Hail               3215   6077   5070  ...    7413    7282    7637    9123   \n",
       "Jazan              5678  10631   5254  ...   11346    9437   12270   10946   \n",
       "Madinah            9562  13561  10494  ...    9194   11574   15045   14630   \n",
       "Makkah            87053  85593  88593  ...   77013  112045  113531  110647   \n",
       "Najran             4905   4950   5117  ...    7938    6771    6360    7314   \n",
       "Northern Boarder   2894   2971   2268  ...    3519    3649    3064    4314   \n",
       "Riyadh            45345  13090  25423  ...   36798   38014   31378   27772   \n",
       "Tabouk             8473   6344   8794  ...   14928    9424   10345   12820   \n",
       "\n",
       "year                2012    2013    2014    2015    2016    2017  \n",
       "region                                                            \n",
       "Al-Baha             7593    7482    7268    4856    4614    4131  \n",
       "Al-Jouf            10246   11602    9982   10233    9371    8091  \n",
       "Al-Qaseem          11421   17889   29113   13631    9180    6318  \n",
       "Assir              23136   29730   29552   38567   41367   39133  \n",
       "Eastern           129971  123325  121774  135752  142307  126816  \n",
       "Hail               11082    9731   10417    7172   54507   22035  \n",
       "Jazan              11156   14175   15621   13931   11504   18345  \n",
       "Madinah            14459   28513   31447   22744   24540   36165  \n",
       "Makkah            143954  131108  149234  157389  136055  142487  \n",
       "Najran              9201    8996    9601    1864    2153   13825  \n",
       "Northern Boarder    3706    3921    5009    3837    4958    5280  \n",
       "Riyadh             23888  165994  194208   24548  242851  495307  \n",
       "Tabouk             11391   12848   12188     915   13610   10232  \n",
       "\n",
       "[13 rows x 25 columns]"
      ]
     },
     "execution_count": 1528,
     "metadata": {},
     "output_type": "execute_result"
    }
   ],
   "source": [
    "driving_license_pivoting"
   ]
  },
  {
   "cell_type": "markdown",
   "metadata": {},
   "source": [
    "#### 11. Merge dataframes\n",
    "\n",
    "Join the Driving Licenses & Traffic Accidents dataframes using the **region** and **year** in each dataframe as the key. Assign this to a new variable. Which join should you use to preserve the most data?"
   ]
  },
  {
   "cell_type": "code",
   "execution_count": 1529,
   "metadata": {},
   "outputs": [],
   "source": [
    "# i prefer use left merging but when go to viz section i saw it's better to use inner couse have the total of accidents number so i did it inner 😔\n",
    "# data_merging = pd.merge( traffic_accidents_pivoting,driving_license, on=['year', 'region'], how='left')\n",
    "dataset_merging = pd.merge( traffic_accidents,driving_license, on=['year', 'region'], how='inner')"
   ]
  },
  {
   "cell_type": "code",
   "execution_count": 1530,
   "metadata": {},
   "outputs": [
    {
     "data": {
      "text/html": [
       "<div>\n",
       "<style scoped>\n",
       "    .dataframe tbody tr th:only-of-type {\n",
       "        vertical-align: middle;\n",
       "    }\n",
       "\n",
       "    .dataframe tbody tr th {\n",
       "        vertical-align: top;\n",
       "    }\n",
       "\n",
       "    .dataframe thead th {\n",
       "        text-align: right;\n",
       "    }\n",
       "</style>\n",
       "<table border=\"1\" class=\"dataframe\">\n",
       "  <thead>\n",
       "    <tr style=\"text-align: right;\">\n",
       "      <th></th>\n",
       "      <th>year</th>\n",
       "      <th>region</th>\n",
       "      <th>num_traffic_accidents</th>\n",
       "      <th>latitude_accidents</th>\n",
       "      <th>longitude_accidents</th>\n",
       "      <th>num_accidents_result</th>\n",
       "      <th>accidents_result</th>\n",
       "      <th>driving_licenses</th>\n",
       "      <th>latitude_driving_licenes</th>\n",
       "      <th>longitude_driving_licenes</th>\n",
       "    </tr>\n",
       "  </thead>\n",
       "  <tbody>\n",
       "    <tr>\n",
       "      <th>0</th>\n",
       "      <td>2016</td>\n",
       "      <td>Makkah</td>\n",
       "      <td>12383</td>\n",
       "      <td>21.628962766</td>\n",
       "      <td>41.2636898334</td>\n",
       "      <td>No. of Casualties</td>\n",
       "      <td>Injured</td>\n",
       "      <td>136055</td>\n",
       "      <td>21.628962766</td>\n",
       "      <td>41.2636898334</td>\n",
       "    </tr>\n",
       "    <tr>\n",
       "      <th>1</th>\n",
       "      <td>2016</td>\n",
       "      <td>Makkah</td>\n",
       "      <td>134838</td>\n",
       "      <td>21.628962766</td>\n",
       "      <td>41.2636898334</td>\n",
       "      <td>No. of Accidents</td>\n",
       "      <td>not_Effict</td>\n",
       "      <td>136055</td>\n",
       "      <td>21.628962766</td>\n",
       "      <td>41.2636898334</td>\n",
       "    </tr>\n",
       "    <tr>\n",
       "      <th>2</th>\n",
       "      <td>2016</td>\n",
       "      <td>Makkah</td>\n",
       "      <td>2243</td>\n",
       "      <td>21.628962766</td>\n",
       "      <td>41.2636898334</td>\n",
       "      <td>No. of Casualties</td>\n",
       "      <td>Dead</td>\n",
       "      <td>136055</td>\n",
       "      <td>21.628962766</td>\n",
       "      <td>41.2636898334</td>\n",
       "    </tr>\n",
       "    <tr>\n",
       "      <th>3</th>\n",
       "      <td>2016</td>\n",
       "      <td>Tabouk</td>\n",
       "      <td>434</td>\n",
       "      <td>27.90165499</td>\n",
       "      <td>37.2598581394</td>\n",
       "      <td>No. of Casualties</td>\n",
       "      <td>Dead</td>\n",
       "      <td>13610</td>\n",
       "      <td>27.90165499</td>\n",
       "      <td>37.2598581394</td>\n",
       "    </tr>\n",
       "    <tr>\n",
       "      <th>4</th>\n",
       "      <td>2016</td>\n",
       "      <td>Tabouk</td>\n",
       "      <td>16031</td>\n",
       "      <td>27.90165499</td>\n",
       "      <td>37.2598581394</td>\n",
       "      <td>No. of Accidents</td>\n",
       "      <td>not_Effict</td>\n",
       "      <td>13610</td>\n",
       "      <td>27.90165499</td>\n",
       "      <td>37.2598581394</td>\n",
       "    </tr>\n",
       "    <tr>\n",
       "      <th>5</th>\n",
       "      <td>2016</td>\n",
       "      <td>Tabouk</td>\n",
       "      <td>1724</td>\n",
       "      <td>27.90165499</td>\n",
       "      <td>37.2598581394</td>\n",
       "      <td>No. of Casualties</td>\n",
       "      <td>Injured</td>\n",
       "      <td>13610</td>\n",
       "      <td>27.90165499</td>\n",
       "      <td>37.2598581394</td>\n",
       "    </tr>\n",
       "    <tr>\n",
       "      <th>6</th>\n",
       "      <td>2016</td>\n",
       "      <td>Hail</td>\n",
       "      <td>299</td>\n",
       "      <td>27.400845724</td>\n",
       "      <td>41.4406960508</td>\n",
       "      <td>No. of Casualties</td>\n",
       "      <td>Dead</td>\n",
       "      <td>54507</td>\n",
       "      <td>27.400845724</td>\n",
       "      <td>41.4406960508</td>\n",
       "    </tr>\n",
       "    <tr>\n",
       "      <th>7</th>\n",
       "      <td>2016</td>\n",
       "      <td>Hail</td>\n",
       "      <td>10199</td>\n",
       "      <td>27.400845724</td>\n",
       "      <td>41.4406960508</td>\n",
       "      <td>No. of Accidents</td>\n",
       "      <td>not_Effict</td>\n",
       "      <td>54507</td>\n",
       "      <td>27.400845724</td>\n",
       "      <td>41.4406960508</td>\n",
       "    </tr>\n",
       "    <tr>\n",
       "      <th>8</th>\n",
       "      <td>2016</td>\n",
       "      <td>Hail</td>\n",
       "      <td>932</td>\n",
       "      <td>27.400845724</td>\n",
       "      <td>41.4406960508</td>\n",
       "      <td>No. of Casualties</td>\n",
       "      <td>Injured</td>\n",
       "      <td>54507</td>\n",
       "      <td>27.400845724</td>\n",
       "      <td>41.4406960508</td>\n",
       "    </tr>\n",
       "    <tr>\n",
       "      <th>9</th>\n",
       "      <td>2016</td>\n",
       "      <td>Northern Boarder</td>\n",
       "      <td>193</td>\n",
       "      <td>30.197074783</td>\n",
       "      <td>41.8171186952</td>\n",
       "      <td>No. of Casualties</td>\n",
       "      <td>Dead</td>\n",
       "      <td>4958</td>\n",
       "      <td>30.197074783</td>\n",
       "      <td>41.8171186952</td>\n",
       "    </tr>\n",
       "    <tr>\n",
       "      <th>10</th>\n",
       "      <td>2016</td>\n",
       "      <td>Northern Boarder</td>\n",
       "      <td>631</td>\n",
       "      <td>30.197074783</td>\n",
       "      <td>41.8171186952</td>\n",
       "      <td>No. of Casualties</td>\n",
       "      <td>Injured</td>\n",
       "      <td>4958</td>\n",
       "      <td>30.197074783</td>\n",
       "      <td>41.8171186952</td>\n",
       "    </tr>\n",
       "    <tr>\n",
       "      <th>11</th>\n",
       "      <td>2016</td>\n",
       "      <td>Northern Boarder</td>\n",
       "      <td>13196</td>\n",
       "      <td>30.197074783</td>\n",
       "      <td>41.8171186952</td>\n",
       "      <td>No. of Accidents</td>\n",
       "      <td>not_Effict</td>\n",
       "      <td>4958</td>\n",
       "      <td>30.197074783</td>\n",
       "      <td>41.8171186952</td>\n",
       "    </tr>\n",
       "    <tr>\n",
       "      <th>12</th>\n",
       "      <td>2017</td>\n",
       "      <td>Jazan</td>\n",
       "      <td>22161</td>\n",
       "      <td>17.2072313962</td>\n",
       "      <td>42.6525807422</td>\n",
       "      <td>No. of Accidents</td>\n",
       "      <td>not_Effict</td>\n",
       "      <td>18345</td>\n",
       "      <td>17.2072313962</td>\n",
       "      <td>42.6525807422</td>\n",
       "    </tr>\n",
       "    <tr>\n",
       "      <th>13</th>\n",
       "      <td>2017</td>\n",
       "      <td>Jazan</td>\n",
       "      <td>466</td>\n",
       "      <td>17.2072313962</td>\n",
       "      <td>42.6525807422</td>\n",
       "      <td>No. of Casualties</td>\n",
       "      <td>Dead</td>\n",
       "      <td>18345</td>\n",
       "      <td>17.2072313962</td>\n",
       "      <td>42.6525807422</td>\n",
       "    </tr>\n",
       "    <tr>\n",
       "      <th>14</th>\n",
       "      <td>2017</td>\n",
       "      <td>Jazan</td>\n",
       "      <td>2207</td>\n",
       "      <td>17.2072313962</td>\n",
       "      <td>42.6525807422</td>\n",
       "      <td>No. of Casualties</td>\n",
       "      <td>Injured</td>\n",
       "      <td>18345</td>\n",
       "      <td>17.2072313962</td>\n",
       "      <td>42.6525807422</td>\n",
       "    </tr>\n",
       "    <tr>\n",
       "      <th>15</th>\n",
       "      <td>2017</td>\n",
       "      <td>Al-Jouf</td>\n",
       "      <td>10469</td>\n",
       "      <td>29.9677445762</td>\n",
       "      <td>39.5570371172</td>\n",
       "      <td>No. of Accidents</td>\n",
       "      <td>not_Effict</td>\n",
       "      <td>8091</td>\n",
       "      <td>29.9677445762</td>\n",
       "      <td>39.5570371172</td>\n",
       "    </tr>\n",
       "    <tr>\n",
       "      <th>16</th>\n",
       "      <td>2017</td>\n",
       "      <td>Al-Jouf</td>\n",
       "      <td>862</td>\n",
       "      <td>29.9677445762</td>\n",
       "      <td>39.5570371172</td>\n",
       "      <td>No. of Casualties</td>\n",
       "      <td>Injured</td>\n",
       "      <td>8091</td>\n",
       "      <td>29.9677445762</td>\n",
       "      <td>39.5570371172</td>\n",
       "    </tr>\n",
       "    <tr>\n",
       "      <th>17</th>\n",
       "      <td>2017</td>\n",
       "      <td>Al-Jouf</td>\n",
       "      <td>240</td>\n",
       "      <td>29.9677445762</td>\n",
       "      <td>39.5570371172</td>\n",
       "      <td>No. of Casualties</td>\n",
       "      <td>Dead</td>\n",
       "      <td>8091</td>\n",
       "      <td>29.9677445762</td>\n",
       "      <td>39.5570371172</td>\n",
       "    </tr>\n",
       "    <tr>\n",
       "      <th>18</th>\n",
       "      <td>2016</td>\n",
       "      <td>Jazan</td>\n",
       "      <td>514</td>\n",
       "      <td>17.2072313962</td>\n",
       "      <td>42.6525807422</td>\n",
       "      <td>No. of Casualties</td>\n",
       "      <td>Dead</td>\n",
       "      <td>11504</td>\n",
       "      <td>17.2072313962</td>\n",
       "      <td>42.6525807422</td>\n",
       "    </tr>\n",
       "    <tr>\n",
       "      <th>19</th>\n",
       "      <td>2016</td>\n",
       "      <td>Jazan</td>\n",
       "      <td>2259</td>\n",
       "      <td>17.2072313962</td>\n",
       "      <td>42.6525807422</td>\n",
       "      <td>No. of Casualties</td>\n",
       "      <td>Injured</td>\n",
       "      <td>11504</td>\n",
       "      <td>17.2072313962</td>\n",
       "      <td>42.6525807422</td>\n",
       "    </tr>\n",
       "    <tr>\n",
       "      <th>20</th>\n",
       "      <td>2016</td>\n",
       "      <td>Jazan</td>\n",
       "      <td>25873</td>\n",
       "      <td>17.2072313962</td>\n",
       "      <td>42.6525807422</td>\n",
       "      <td>No. of Accidents</td>\n",
       "      <td>not_Effict</td>\n",
       "      <td>11504</td>\n",
       "      <td>17.2072313962</td>\n",
       "      <td>42.6525807422</td>\n",
       "    </tr>\n",
       "    <tr>\n",
       "      <th>21</th>\n",
       "      <td>2016</td>\n",
       "      <td>Al-Jouf</td>\n",
       "      <td>920</td>\n",
       "      <td>29.9677445762</td>\n",
       "      <td>39.5570371172</td>\n",
       "      <td>No. of Casualties</td>\n",
       "      <td>Injured</td>\n",
       "      <td>9371</td>\n",
       "      <td>29.9677445762</td>\n",
       "      <td>39.5570371172</td>\n",
       "    </tr>\n",
       "    <tr>\n",
       "      <th>22</th>\n",
       "      <td>2016</td>\n",
       "      <td>Al-Jouf</td>\n",
       "      <td>10212</td>\n",
       "      <td>29.9677445762</td>\n",
       "      <td>39.5570371172</td>\n",
       "      <td>No. of Accidents</td>\n",
       "      <td>not_Effict</td>\n",
       "      <td>9371</td>\n",
       "      <td>29.9677445762</td>\n",
       "      <td>39.5570371172</td>\n",
       "    </tr>\n",
       "    <tr>\n",
       "      <th>23</th>\n",
       "      <td>2016</td>\n",
       "      <td>Al-Jouf</td>\n",
       "      <td>245</td>\n",
       "      <td>29.9677445762</td>\n",
       "      <td>39.5570371172</td>\n",
       "      <td>No. of Casualties</td>\n",
       "      <td>Dead</td>\n",
       "      <td>9371</td>\n",
       "      <td>29.9677445762</td>\n",
       "      <td>39.5570371172</td>\n",
       "    </tr>\n",
       "    <tr>\n",
       "      <th>24</th>\n",
       "      <td>2017</td>\n",
       "      <td>Riyadh</td>\n",
       "      <td>99925</td>\n",
       "      <td>23.0814341634</td>\n",
       "      <td>45.5857512766</td>\n",
       "      <td>No. of Accidents</td>\n",
       "      <td>not_Effict</td>\n",
       "      <td>495307</td>\n",
       "      <td>23.0814341634</td>\n",
       "      <td>45.5857512766</td>\n",
       "    </tr>\n",
       "    <tr>\n",
       "      <th>25</th>\n",
       "      <td>2017</td>\n",
       "      <td>Riyadh</td>\n",
       "      <td>4540</td>\n",
       "      <td>23.0814341634</td>\n",
       "      <td>45.5857512766</td>\n",
       "      <td>No. of Casualties</td>\n",
       "      <td>Injured</td>\n",
       "      <td>495307</td>\n",
       "      <td>23.0814341634</td>\n",
       "      <td>45.5857512766</td>\n",
       "    </tr>\n",
       "    <tr>\n",
       "      <th>26</th>\n",
       "      <td>2017</td>\n",
       "      <td>Riyadh</td>\n",
       "      <td>1399</td>\n",
       "      <td>23.0814341634</td>\n",
       "      <td>45.5857512766</td>\n",
       "      <td>No. of Casualties</td>\n",
       "      <td>Dead</td>\n",
       "      <td>495307</td>\n",
       "      <td>23.0814341634</td>\n",
       "      <td>45.5857512766</td>\n",
       "    </tr>\n",
       "    <tr>\n",
       "      <th>27</th>\n",
       "      <td>2017</td>\n",
       "      <td>Madinah</td>\n",
       "      <td>580</td>\n",
       "      <td>24.927534539</td>\n",
       "      <td>39.4918237173</td>\n",
       "      <td>No. of Casualties</td>\n",
       "      <td>Dead</td>\n",
       "      <td>36165</td>\n",
       "      <td>24.927534539</td>\n",
       "      <td>39.4918237173</td>\n",
       "    </tr>\n",
       "    <tr>\n",
       "      <th>28</th>\n",
       "      <td>2017</td>\n",
       "      <td>Madinah</td>\n",
       "      <td>2917</td>\n",
       "      <td>24.927534539</td>\n",
       "      <td>39.4918237173</td>\n",
       "      <td>No. of Casualties</td>\n",
       "      <td>Injured</td>\n",
       "      <td>36165</td>\n",
       "      <td>24.927534539</td>\n",
       "      <td>39.4918237173</td>\n",
       "    </tr>\n",
       "    <tr>\n",
       "      <th>29</th>\n",
       "      <td>2017</td>\n",
       "      <td>Madinah</td>\n",
       "      <td>16070</td>\n",
       "      <td>24.927534539</td>\n",
       "      <td>39.4918237173</td>\n",
       "      <td>No. of Accidents</td>\n",
       "      <td>not_Effict</td>\n",
       "      <td>36165</td>\n",
       "      <td>24.927534539</td>\n",
       "      <td>39.4918237173</td>\n",
       "    </tr>\n",
       "    <tr>\n",
       "      <th>30</th>\n",
       "      <td>2017</td>\n",
       "      <td>Tabouk</td>\n",
       "      <td>11713</td>\n",
       "      <td>27.90165499</td>\n",
       "      <td>37.2598581394</td>\n",
       "      <td>No. of Accidents</td>\n",
       "      <td>not_Effict</td>\n",
       "      <td>10232</td>\n",
       "      <td>27.90165499</td>\n",
       "      <td>37.2598581394</td>\n",
       "    </tr>\n",
       "    <tr>\n",
       "      <th>31</th>\n",
       "      <td>2017</td>\n",
       "      <td>Tabouk</td>\n",
       "      <td>1243</td>\n",
       "      <td>27.90165499</td>\n",
       "      <td>37.2598581394</td>\n",
       "      <td>No. of Casualties</td>\n",
       "      <td>Injured</td>\n",
       "      <td>10232</td>\n",
       "      <td>27.90165499</td>\n",
       "      <td>37.2598581394</td>\n",
       "    </tr>\n",
       "    <tr>\n",
       "      <th>32</th>\n",
       "      <td>2017</td>\n",
       "      <td>Tabouk</td>\n",
       "      <td>348</td>\n",
       "      <td>27.90165499</td>\n",
       "      <td>37.2598581394</td>\n",
       "      <td>No. of Casualties</td>\n",
       "      <td>Dead</td>\n",
       "      <td>10232</td>\n",
       "      <td>27.90165499</td>\n",
       "      <td>37.2598581394</td>\n",
       "    </tr>\n",
       "    <tr>\n",
       "      <th>33</th>\n",
       "      <td>2017</td>\n",
       "      <td>Northern Boarder</td>\n",
       "      <td>11540</td>\n",
       "      <td>30.197074783</td>\n",
       "      <td>41.8171186952</td>\n",
       "      <td>No. of Accidents</td>\n",
       "      <td>not_Effict</td>\n",
       "      <td>5280</td>\n",
       "      <td>30.197074783</td>\n",
       "      <td>41.8171186952</td>\n",
       "    </tr>\n",
       "    <tr>\n",
       "      <th>34</th>\n",
       "      <td>2017</td>\n",
       "      <td>Northern Boarder</td>\n",
       "      <td>112</td>\n",
       "      <td>30.197074783</td>\n",
       "      <td>41.8171186952</td>\n",
       "      <td>No. of Casualties</td>\n",
       "      <td>Dead</td>\n",
       "      <td>5280</td>\n",
       "      <td>30.197074783</td>\n",
       "      <td>41.8171186952</td>\n",
       "    </tr>\n",
       "    <tr>\n",
       "      <th>35</th>\n",
       "      <td>2017</td>\n",
       "      <td>Northern Boarder</td>\n",
       "      <td>374</td>\n",
       "      <td>30.197074783</td>\n",
       "      <td>41.8171186952</td>\n",
       "      <td>No. of Casualties</td>\n",
       "      <td>Injured</td>\n",
       "      <td>5280</td>\n",
       "      <td>30.197074783</td>\n",
       "      <td>41.8171186952</td>\n",
       "    </tr>\n",
       "    <tr>\n",
       "      <th>36</th>\n",
       "      <td>2017</td>\n",
       "      <td>Najran</td>\n",
       "      <td>194</td>\n",
       "      <td>18.4511003068</td>\n",
       "      <td>46.8688495726</td>\n",
       "      <td>No. of Casualties</td>\n",
       "      <td>Dead</td>\n",
       "      <td>13825</td>\n",
       "      <td>18.4511003068</td>\n",
       "      <td>46.8688495726</td>\n",
       "    </tr>\n",
       "    <tr>\n",
       "      <th>37</th>\n",
       "      <td>2017</td>\n",
       "      <td>Najran</td>\n",
       "      <td>3193</td>\n",
       "      <td>18.4511003068</td>\n",
       "      <td>46.8688495726</td>\n",
       "      <td>No. of Accidents</td>\n",
       "      <td>not_Effict</td>\n",
       "      <td>13825</td>\n",
       "      <td>18.4511003068</td>\n",
       "      <td>46.8688495726</td>\n",
       "    </tr>\n",
       "    <tr>\n",
       "      <th>38</th>\n",
       "      <td>2017</td>\n",
       "      <td>Najran</td>\n",
       "      <td>766</td>\n",
       "      <td>18.4511003068</td>\n",
       "      <td>46.8688495726</td>\n",
       "      <td>No. of Casualties</td>\n",
       "      <td>Injured</td>\n",
       "      <td>13825</td>\n",
       "      <td>18.4511003068</td>\n",
       "      <td>46.8688495726</td>\n",
       "    </tr>\n",
       "    <tr>\n",
       "      <th>39</th>\n",
       "      <td>2016</td>\n",
       "      <td>Madinah</td>\n",
       "      <td>822</td>\n",
       "      <td>24.927534539</td>\n",
       "      <td>39.4918237173</td>\n",
       "      <td>No. of Casualties</td>\n",
       "      <td>Dead</td>\n",
       "      <td>24540</td>\n",
       "      <td>24.927534539</td>\n",
       "      <td>39.4918237173</td>\n",
       "    </tr>\n",
       "    <tr>\n",
       "      <th>40</th>\n",
       "      <td>2016</td>\n",
       "      <td>Madinah</td>\n",
       "      <td>14475</td>\n",
       "      <td>24.927534539</td>\n",
       "      <td>39.4918237173</td>\n",
       "      <td>No. of Accidents</td>\n",
       "      <td>not_Effict</td>\n",
       "      <td>24540</td>\n",
       "      <td>24.927534539</td>\n",
       "      <td>39.4918237173</td>\n",
       "    </tr>\n",
       "    <tr>\n",
       "      <th>41</th>\n",
       "      <td>2016</td>\n",
       "      <td>Madinah</td>\n",
       "      <td>4184</td>\n",
       "      <td>24.927534539</td>\n",
       "      <td>39.4918237173</td>\n",
       "      <td>No. of Casualties</td>\n",
       "      <td>Injured</td>\n",
       "      <td>24540</td>\n",
       "      <td>24.927534539</td>\n",
       "      <td>39.4918237173</td>\n",
       "    </tr>\n",
       "    <tr>\n",
       "      <th>42</th>\n",
       "      <td>2016</td>\n",
       "      <td>Riyadh</td>\n",
       "      <td>1430</td>\n",
       "      <td>23.0814341634</td>\n",
       "      <td>45.5857512766</td>\n",
       "      <td>No. of Casualties</td>\n",
       "      <td>Dead</td>\n",
       "      <td>242851</td>\n",
       "      <td>23.0814341634</td>\n",
       "      <td>45.5857512766</td>\n",
       "    </tr>\n",
       "    <tr>\n",
       "      <th>43</th>\n",
       "      <td>2016</td>\n",
       "      <td>Riyadh</td>\n",
       "      <td>141736</td>\n",
       "      <td>23.0814341634</td>\n",
       "      <td>45.5857512766</td>\n",
       "      <td>No. of Accidents</td>\n",
       "      <td>not_Effict</td>\n",
       "      <td>242851</td>\n",
       "      <td>23.0814341634</td>\n",
       "      <td>45.5857512766</td>\n",
       "    </tr>\n",
       "    <tr>\n",
       "      <th>44</th>\n",
       "      <td>2016</td>\n",
       "      <td>Riyadh</td>\n",
       "      <td>4207</td>\n",
       "      <td>23.0814341634</td>\n",
       "      <td>45.5857512766</td>\n",
       "      <td>No. of Casualties</td>\n",
       "      <td>Injured</td>\n",
       "      <td>242851</td>\n",
       "      <td>23.0814341634</td>\n",
       "      <td>45.5857512766</td>\n",
       "    </tr>\n",
       "    <tr>\n",
       "      <th>45</th>\n",
       "      <td>2017</td>\n",
       "      <td>Makkah</td>\n",
       "      <td>10623</td>\n",
       "      <td>21.628962766</td>\n",
       "      <td>41.2636898334</td>\n",
       "      <td>No. of Casualties</td>\n",
       "      <td>Injured</td>\n",
       "      <td>142487</td>\n",
       "      <td>21.628962766</td>\n",
       "      <td>41.2636898334</td>\n",
       "    </tr>\n",
       "    <tr>\n",
       "      <th>46</th>\n",
       "      <td>2017</td>\n",
       "      <td>Makkah</td>\n",
       "      <td>1641</td>\n",
       "      <td>21.628962766</td>\n",
       "      <td>41.2636898334</td>\n",
       "      <td>No. of Casualties</td>\n",
       "      <td>Dead</td>\n",
       "      <td>142487</td>\n",
       "      <td>21.628962766</td>\n",
       "      <td>41.2636898334</td>\n",
       "    </tr>\n",
       "    <tr>\n",
       "      <th>47</th>\n",
       "      <td>2017</td>\n",
       "      <td>Makkah</td>\n",
       "      <td>145541</td>\n",
       "      <td>21.628962766</td>\n",
       "      <td>41.2636898334</td>\n",
       "      <td>No. of Accidents</td>\n",
       "      <td>not_Effict</td>\n",
       "      <td>142487</td>\n",
       "      <td>21.628962766</td>\n",
       "      <td>41.2636898334</td>\n",
       "    </tr>\n",
       "    <tr>\n",
       "      <th>48</th>\n",
       "      <td>2017</td>\n",
       "      <td>Hail</td>\n",
       "      <td>265</td>\n",
       "      <td>27.400845724</td>\n",
       "      <td>41.4406960508</td>\n",
       "      <td>No. of Casualties</td>\n",
       "      <td>Dead</td>\n",
       "      <td>22035</td>\n",
       "      <td>27.400845724</td>\n",
       "      <td>41.4406960508</td>\n",
       "    </tr>\n",
       "    <tr>\n",
       "      <th>49</th>\n",
       "      <td>2017</td>\n",
       "      <td>Hail</td>\n",
       "      <td>9379</td>\n",
       "      <td>27.400845724</td>\n",
       "      <td>41.4406960508</td>\n",
       "      <td>No. of Accidents</td>\n",
       "      <td>not_Effict</td>\n",
       "      <td>22035</td>\n",
       "      <td>27.400845724</td>\n",
       "      <td>41.4406960508</td>\n",
       "    </tr>\n",
       "    <tr>\n",
       "      <th>50</th>\n",
       "      <td>2017</td>\n",
       "      <td>Hail</td>\n",
       "      <td>773</td>\n",
       "      <td>27.400845724</td>\n",
       "      <td>41.4406960508</td>\n",
       "      <td>No. of Casualties</td>\n",
       "      <td>Injured</td>\n",
       "      <td>22035</td>\n",
       "      <td>27.400845724</td>\n",
       "      <td>41.4406960508</td>\n",
       "    </tr>\n",
       "    <tr>\n",
       "      <th>51</th>\n",
       "      <td>2016</td>\n",
       "      <td>Najran</td>\n",
       "      <td>3235</td>\n",
       "      <td>18.4511003068</td>\n",
       "      <td>46.8688495726</td>\n",
       "      <td>No. of Accidents</td>\n",
       "      <td>not_Effict</td>\n",
       "      <td>2153</td>\n",
       "      <td>18.4511003068</td>\n",
       "      <td>46.8688495726</td>\n",
       "    </tr>\n",
       "    <tr>\n",
       "      <th>52</th>\n",
       "      <td>2016</td>\n",
       "      <td>Najran</td>\n",
       "      <td>173</td>\n",
       "      <td>18.4511003068</td>\n",
       "      <td>46.8688495726</td>\n",
       "      <td>No. of Casualties</td>\n",
       "      <td>Dead</td>\n",
       "      <td>2153</td>\n",
       "      <td>18.4511003068</td>\n",
       "      <td>46.8688495726</td>\n",
       "    </tr>\n",
       "    <tr>\n",
       "      <th>53</th>\n",
       "      <td>2016</td>\n",
       "      <td>Najran</td>\n",
       "      <td>706</td>\n",
       "      <td>18.4511003068</td>\n",
       "      <td>46.8688495726</td>\n",
       "      <td>No. of Casualties</td>\n",
       "      <td>Injured</td>\n",
       "      <td>2153</td>\n",
       "      <td>18.4511003068</td>\n",
       "      <td>46.8688495726</td>\n",
       "    </tr>\n",
       "  </tbody>\n",
       "</table>\n",
       "</div>"
      ],
      "text/plain": [
       "    year            region  num_traffic_accidents latitude_accidents  \\\n",
       "0   2016            Makkah                  12383       21.628962766   \n",
       "1   2016            Makkah                 134838       21.628962766   \n",
       "2   2016            Makkah                   2243       21.628962766   \n",
       "3   2016            Tabouk                    434        27.90165499   \n",
       "4   2016            Tabouk                  16031        27.90165499   \n",
       "5   2016            Tabouk                   1724        27.90165499   \n",
       "6   2016              Hail                    299       27.400845724   \n",
       "7   2016              Hail                  10199       27.400845724   \n",
       "8   2016              Hail                    932       27.400845724   \n",
       "9   2016  Northern Boarder                    193       30.197074783   \n",
       "10  2016  Northern Boarder                    631       30.197074783   \n",
       "11  2016  Northern Boarder                  13196       30.197074783   \n",
       "12  2017             Jazan                  22161      17.2072313962   \n",
       "13  2017             Jazan                    466      17.2072313962   \n",
       "14  2017             Jazan                   2207      17.2072313962   \n",
       "15  2017           Al-Jouf                  10469      29.9677445762   \n",
       "16  2017           Al-Jouf                    862      29.9677445762   \n",
       "17  2017           Al-Jouf                    240      29.9677445762   \n",
       "18  2016             Jazan                    514      17.2072313962   \n",
       "19  2016             Jazan                   2259      17.2072313962   \n",
       "20  2016             Jazan                  25873      17.2072313962   \n",
       "21  2016           Al-Jouf                    920      29.9677445762   \n",
       "22  2016           Al-Jouf                  10212      29.9677445762   \n",
       "23  2016           Al-Jouf                    245      29.9677445762   \n",
       "24  2017            Riyadh                  99925      23.0814341634   \n",
       "25  2017            Riyadh                   4540      23.0814341634   \n",
       "26  2017            Riyadh                   1399      23.0814341634   \n",
       "27  2017           Madinah                    580       24.927534539   \n",
       "28  2017           Madinah                   2917       24.927534539   \n",
       "29  2017           Madinah                  16070       24.927534539   \n",
       "30  2017            Tabouk                  11713        27.90165499   \n",
       "31  2017            Tabouk                   1243        27.90165499   \n",
       "32  2017            Tabouk                    348        27.90165499   \n",
       "33  2017  Northern Boarder                  11540       30.197074783   \n",
       "34  2017  Northern Boarder                    112       30.197074783   \n",
       "35  2017  Northern Boarder                    374       30.197074783   \n",
       "36  2017            Najran                    194      18.4511003068   \n",
       "37  2017            Najran                   3193      18.4511003068   \n",
       "38  2017            Najran                    766      18.4511003068   \n",
       "39  2016           Madinah                    822       24.927534539   \n",
       "40  2016           Madinah                  14475       24.927534539   \n",
       "41  2016           Madinah                   4184       24.927534539   \n",
       "42  2016            Riyadh                   1430      23.0814341634   \n",
       "43  2016            Riyadh                 141736      23.0814341634   \n",
       "44  2016            Riyadh                   4207      23.0814341634   \n",
       "45  2017            Makkah                  10623       21.628962766   \n",
       "46  2017            Makkah                   1641       21.628962766   \n",
       "47  2017            Makkah                 145541       21.628962766   \n",
       "48  2017              Hail                    265       27.400845724   \n",
       "49  2017              Hail                   9379       27.400845724   \n",
       "50  2017              Hail                    773       27.400845724   \n",
       "51  2016            Najran                   3235      18.4511003068   \n",
       "52  2016            Najran                    173      18.4511003068   \n",
       "53  2016            Najran                    706      18.4511003068   \n",
       "\n",
       "   longitude_accidents num_accidents_result accidents_result  \\\n",
       "0        41.2636898334    No. of Casualties          Injured   \n",
       "1        41.2636898334     No. of Accidents       not_Effict   \n",
       "2        41.2636898334    No. of Casualties             Dead   \n",
       "3        37.2598581394    No. of Casualties             Dead   \n",
       "4        37.2598581394     No. of Accidents       not_Effict   \n",
       "5        37.2598581394    No. of Casualties          Injured   \n",
       "6        41.4406960508    No. of Casualties             Dead   \n",
       "7        41.4406960508     No. of Accidents       not_Effict   \n",
       "8        41.4406960508    No. of Casualties          Injured   \n",
       "9        41.8171186952    No. of Casualties             Dead   \n",
       "10       41.8171186952    No. of Casualties          Injured   \n",
       "11       41.8171186952     No. of Accidents       not_Effict   \n",
       "12       42.6525807422     No. of Accidents       not_Effict   \n",
       "13       42.6525807422    No. of Casualties             Dead   \n",
       "14       42.6525807422    No. of Casualties          Injured   \n",
       "15       39.5570371172     No. of Accidents       not_Effict   \n",
       "16       39.5570371172    No. of Casualties          Injured   \n",
       "17       39.5570371172    No. of Casualties             Dead   \n",
       "18       42.6525807422    No. of Casualties             Dead   \n",
       "19       42.6525807422    No. of Casualties          Injured   \n",
       "20       42.6525807422     No. of Accidents       not_Effict   \n",
       "21       39.5570371172    No. of Casualties          Injured   \n",
       "22       39.5570371172     No. of Accidents       not_Effict   \n",
       "23       39.5570371172    No. of Casualties             Dead   \n",
       "24       45.5857512766     No. of Accidents       not_Effict   \n",
       "25       45.5857512766    No. of Casualties          Injured   \n",
       "26       45.5857512766    No. of Casualties             Dead   \n",
       "27       39.4918237173    No. of Casualties             Dead   \n",
       "28       39.4918237173    No. of Casualties          Injured   \n",
       "29       39.4918237173     No. of Accidents       not_Effict   \n",
       "30       37.2598581394     No. of Accidents       not_Effict   \n",
       "31       37.2598581394    No. of Casualties          Injured   \n",
       "32       37.2598581394    No. of Casualties             Dead   \n",
       "33       41.8171186952     No. of Accidents       not_Effict   \n",
       "34       41.8171186952    No. of Casualties             Dead   \n",
       "35       41.8171186952    No. of Casualties          Injured   \n",
       "36       46.8688495726    No. of Casualties             Dead   \n",
       "37       46.8688495726     No. of Accidents       not_Effict   \n",
       "38       46.8688495726    No. of Casualties          Injured   \n",
       "39       39.4918237173    No. of Casualties             Dead   \n",
       "40       39.4918237173     No. of Accidents       not_Effict   \n",
       "41       39.4918237173    No. of Casualties          Injured   \n",
       "42       45.5857512766    No. of Casualties             Dead   \n",
       "43       45.5857512766     No. of Accidents       not_Effict   \n",
       "44       45.5857512766    No. of Casualties          Injured   \n",
       "45       41.2636898334    No. of Casualties          Injured   \n",
       "46       41.2636898334    No. of Casualties             Dead   \n",
       "47       41.2636898334     No. of Accidents       not_Effict   \n",
       "48       41.4406960508    No. of Casualties             Dead   \n",
       "49       41.4406960508     No. of Accidents       not_Effict   \n",
       "50       41.4406960508    No. of Casualties          Injured   \n",
       "51       46.8688495726     No. of Accidents       not_Effict   \n",
       "52       46.8688495726    No. of Casualties             Dead   \n",
       "53       46.8688495726    No. of Casualties          Injured   \n",
       "\n",
       "    driving_licenses latitude_driving_licenes longitude_driving_licenes  \n",
       "0             136055             21.628962766             41.2636898334  \n",
       "1             136055             21.628962766             41.2636898334  \n",
       "2             136055             21.628962766             41.2636898334  \n",
       "3              13610              27.90165499             37.2598581394  \n",
       "4              13610              27.90165499             37.2598581394  \n",
       "5              13610              27.90165499             37.2598581394  \n",
       "6              54507             27.400845724             41.4406960508  \n",
       "7              54507             27.400845724             41.4406960508  \n",
       "8              54507             27.400845724             41.4406960508  \n",
       "9               4958             30.197074783             41.8171186952  \n",
       "10              4958             30.197074783             41.8171186952  \n",
       "11              4958             30.197074783             41.8171186952  \n",
       "12             18345            17.2072313962             42.6525807422  \n",
       "13             18345            17.2072313962             42.6525807422  \n",
       "14             18345            17.2072313962             42.6525807422  \n",
       "15              8091            29.9677445762             39.5570371172  \n",
       "16              8091            29.9677445762             39.5570371172  \n",
       "17              8091            29.9677445762             39.5570371172  \n",
       "18             11504            17.2072313962             42.6525807422  \n",
       "19             11504            17.2072313962             42.6525807422  \n",
       "20             11504            17.2072313962             42.6525807422  \n",
       "21              9371            29.9677445762             39.5570371172  \n",
       "22              9371            29.9677445762             39.5570371172  \n",
       "23              9371            29.9677445762             39.5570371172  \n",
       "24            495307            23.0814341634             45.5857512766  \n",
       "25            495307            23.0814341634             45.5857512766  \n",
       "26            495307            23.0814341634             45.5857512766  \n",
       "27             36165             24.927534539             39.4918237173  \n",
       "28             36165             24.927534539             39.4918237173  \n",
       "29             36165             24.927534539             39.4918237173  \n",
       "30             10232              27.90165499             37.2598581394  \n",
       "31             10232              27.90165499             37.2598581394  \n",
       "32             10232              27.90165499             37.2598581394  \n",
       "33              5280             30.197074783             41.8171186952  \n",
       "34              5280             30.197074783             41.8171186952  \n",
       "35              5280             30.197074783             41.8171186952  \n",
       "36             13825            18.4511003068             46.8688495726  \n",
       "37             13825            18.4511003068             46.8688495726  \n",
       "38             13825            18.4511003068             46.8688495726  \n",
       "39             24540             24.927534539             39.4918237173  \n",
       "40             24540             24.927534539             39.4918237173  \n",
       "41             24540             24.927534539             39.4918237173  \n",
       "42            242851            23.0814341634             45.5857512766  \n",
       "43            242851            23.0814341634             45.5857512766  \n",
       "44            242851            23.0814341634             45.5857512766  \n",
       "45            142487             21.628962766             41.2636898334  \n",
       "46            142487             21.628962766             41.2636898334  \n",
       "47            142487             21.628962766             41.2636898334  \n",
       "48             22035             27.400845724             41.4406960508  \n",
       "49             22035             27.400845724             41.4406960508  \n",
       "50             22035             27.400845724             41.4406960508  \n",
       "51              2153            18.4511003068             46.8688495726  \n",
       "52              2153            18.4511003068             46.8688495726  \n",
       "53              2153            18.4511003068             46.8688495726  "
      ]
     },
     "execution_count": 1530,
     "metadata": {},
     "output_type": "execute_result"
    }
   ],
   "source": [
    "dataset_merging"
   ]
  },
  {
   "cell_type": "markdown",
   "metadata": {},
   "source": [
    "#### 12. Save your cleaned, merged dataframe\n",
    "\n",
    "Use a relative path to save out your data as `combined_datasets.csv`."
   ]
  },
  {
   "cell_type": "code",
   "execution_count": 1582,
   "metadata": {},
   "outputs": [],
   "source": [
    "dataset_merging.to_csv('../data/combined_datasets.csv')"
   ]
  },
  {
   "cell_type": "markdown",
   "metadata": {},
   "source": [
    "## Exploratory Data Analysis\n",
    "\n",
    "\n",
    "### Summary Statistics\n",
    "Transpose the output of pandas `describe` method to create a quick overview of each numeric feature."
   ]
  },
  {
   "cell_type": "code",
   "execution_count": 1532,
   "metadata": {},
   "outputs": [
    {
     "data": {
      "text/html": [
       "<div>\n",
       "<style scoped>\n",
       "    .dataframe tbody tr th:only-of-type {\n",
       "        vertical-align: middle;\n",
       "    }\n",
       "\n",
       "    .dataframe tbody tr th {\n",
       "        vertical-align: top;\n",
       "    }\n",
       "\n",
       "    .dataframe thead th {\n",
       "        text-align: right;\n",
       "    }\n",
       "</style>\n",
       "<table border=\"1\" class=\"dataframe\">\n",
       "  <thead>\n",
       "    <tr style=\"text-align: right;\">\n",
       "      <th></th>\n",
       "      <th>count</th>\n",
       "      <th>mean</th>\n",
       "      <th>std</th>\n",
       "      <th>min</th>\n",
       "      <th>25%</th>\n",
       "      <th>50%</th>\n",
       "      <th>75%</th>\n",
       "      <th>max</th>\n",
       "    </tr>\n",
       "  </thead>\n",
       "  <tbody>\n",
       "    <tr>\n",
       "      <th>year</th>\n",
       "      <td>54.0</td>\n",
       "      <td>2016.500000</td>\n",
       "      <td>0.504695</td>\n",
       "      <td>2016.0</td>\n",
       "      <td>2016.00</td>\n",
       "      <td>2016.5</td>\n",
       "      <td>2017.0</td>\n",
       "      <td>2017.0</td>\n",
       "    </tr>\n",
       "    <tr>\n",
       "      <th>num_traffic_accidents</th>\n",
       "      <td>54.0</td>\n",
       "      <td>14141.388889</td>\n",
       "      <td>34135.863621</td>\n",
       "      <td>112.0</td>\n",
       "      <td>592.75</td>\n",
       "      <td>1965.5</td>\n",
       "      <td>10584.5</td>\n",
       "      <td>145541.0</td>\n",
       "    </tr>\n",
       "    <tr>\n",
       "      <th>driving_licenses</th>\n",
       "      <td>54.0</td>\n",
       "      <td>69517.555556</td>\n",
       "      <td>121932.017236</td>\n",
       "      <td>2153.0</td>\n",
       "      <td>9371.00</td>\n",
       "      <td>16085.0</td>\n",
       "      <td>54507.0</td>\n",
       "      <td>495307.0</td>\n",
       "    </tr>\n",
       "  </tbody>\n",
       "</table>\n",
       "</div>"
      ],
      "text/plain": [
       "                       count          mean            std     min      25%  \\\n",
       "year                    54.0   2016.500000       0.504695  2016.0  2016.00   \n",
       "num_traffic_accidents   54.0  14141.388889   34135.863621   112.0   592.75   \n",
       "driving_licenses        54.0  69517.555556  121932.017236  2153.0  9371.00   \n",
       "\n",
       "                           50%      75%       max  \n",
       "year                    2016.5   2017.0    2017.0  \n",
       "num_traffic_accidents   1965.5  10584.5  145541.0  \n",
       "driving_licenses       16085.0  54507.0  495307.0  "
      ]
     },
     "execution_count": 1532,
     "metadata": {},
     "output_type": "execute_result"
    }
   ],
   "source": [
    "dataset_merging.describe().T # T is transpose"
   ]
  },
  {
   "cell_type": "code",
   "execution_count": 1533,
   "metadata": {},
   "outputs": [
    {
     "data": {
      "text/html": [
       "<div>\n",
       "<style scoped>\n",
       "    .dataframe tbody tr th:only-of-type {\n",
       "        vertical-align: middle;\n",
       "    }\n",
       "\n",
       "    .dataframe tbody tr th {\n",
       "        vertical-align: top;\n",
       "    }\n",
       "\n",
       "    .dataframe thead th {\n",
       "        text-align: right;\n",
       "    }\n",
       "</style>\n",
       "<table border=\"1\" class=\"dataframe\">\n",
       "  <thead>\n",
       "    <tr style=\"text-align: right;\">\n",
       "      <th></th>\n",
       "      <th>count</th>\n",
       "      <th>mean</th>\n",
       "      <th>std</th>\n",
       "      <th>min</th>\n",
       "      <th>25%</th>\n",
       "      <th>50%</th>\n",
       "      <th>75%</th>\n",
       "      <th>max</th>\n",
       "    </tr>\n",
       "  </thead>\n",
       "  <tbody>\n",
       "    <tr>\n",
       "      <th>year</th>\n",
       "      <td>78.0</td>\n",
       "      <td>2016.500000</td>\n",
       "      <td>0.503236</td>\n",
       "      <td>2016.0</td>\n",
       "      <td>2016.0</td>\n",
       "      <td>2016.5</td>\n",
       "      <td>2017.0</td>\n",
       "      <td>2017.0</td>\n",
       "    </tr>\n",
       "    <tr>\n",
       "      <th>num_traffic_accidents</th>\n",
       "      <td>78.0</td>\n",
       "      <td>13868.038462</td>\n",
       "      <td>31716.885363</td>\n",
       "      <td>112.0</td>\n",
       "      <td>721.0</td>\n",
       "      <td>1682.5</td>\n",
       "      <td>10584.5</td>\n",
       "      <td>145541.0</td>\n",
       "    </tr>\n",
       "  </tbody>\n",
       "</table>\n",
       "</div>"
      ],
      "text/plain": [
       "                       count          mean           std     min     25%  \\\n",
       "year                    78.0   2016.500000      0.503236  2016.0  2016.0   \n",
       "num_traffic_accidents   78.0  13868.038462  31716.885363   112.0   721.0   \n",
       "\n",
       "                          50%      75%       max  \n",
       "year                   2016.5   2017.0    2017.0  \n",
       "num_traffic_accidents  1682.5  10584.5  145541.0  "
      ]
     },
     "execution_count": 1533,
     "metadata": {},
     "output_type": "execute_result"
    }
   ],
   "source": [
    "traffic_accidents.describe().T"
   ]
  },
  {
   "cell_type": "code",
   "execution_count": 1534,
   "metadata": {},
   "outputs": [
    {
     "data": {
      "text/html": [
       "<div>\n",
       "<style scoped>\n",
       "    .dataframe tbody tr th:only-of-type {\n",
       "        vertical-align: middle;\n",
       "    }\n",
       "\n",
       "    .dataframe tbody tr th {\n",
       "        vertical-align: top;\n",
       "    }\n",
       "\n",
       "    .dataframe thead th {\n",
       "        text-align: right;\n",
       "    }\n",
       "</style>\n",
       "<table border=\"1\" class=\"dataframe\">\n",
       "  <thead>\n",
       "    <tr style=\"text-align: right;\">\n",
       "      <th></th>\n",
       "      <th>count</th>\n",
       "      <th>mean</th>\n",
       "      <th>std</th>\n",
       "      <th>min</th>\n",
       "      <th>25%</th>\n",
       "      <th>50%</th>\n",
       "      <th>75%</th>\n",
       "      <th>max</th>\n",
       "    </tr>\n",
       "  </thead>\n",
       "  <tbody>\n",
       "    <tr>\n",
       "      <th>year</th>\n",
       "      <td>325.0</td>\n",
       "      <td>2005.000000</td>\n",
       "      <td>7.222222</td>\n",
       "      <td>1993.0</td>\n",
       "      <td>1999.0</td>\n",
       "      <td>2005.0</td>\n",
       "      <td>2011.0</td>\n",
       "      <td>2017.0</td>\n",
       "    </tr>\n",
       "    <tr>\n",
       "      <th>driving_licenses</th>\n",
       "      <td>325.0</td>\n",
       "      <td>28915.347692</td>\n",
       "      <td>47419.058819</td>\n",
       "      <td>915.0</td>\n",
       "      <td>4846.0</td>\n",
       "      <td>10267.0</td>\n",
       "      <td>25423.0</td>\n",
       "      <td>495307.0</td>\n",
       "    </tr>\n",
       "  </tbody>\n",
       "</table>\n",
       "</div>"
      ],
      "text/plain": [
       "                  count          mean           std     min     25%      50%  \\\n",
       "year              325.0   2005.000000      7.222222  1993.0  1999.0   2005.0   \n",
       "driving_licenses  325.0  28915.347692  47419.058819   915.0  4846.0  10267.0   \n",
       "\n",
       "                      75%       max  \n",
       "year               2011.0    2017.0  \n",
       "driving_licenses  25423.0  495307.0  "
      ]
     },
     "execution_count": 1534,
     "metadata": {},
     "output_type": "execute_result"
    }
   ],
   "source": [
    "driving_license.describe().T"
   ]
  },
  {
   "cell_type": "markdown",
   "metadata": {},
   "source": [
    "#### Manually calculate standard deviation\n",
    "\n",
    "$$\\sigma = \\sqrt{\\frac{1}{n}\\sum_{i=1}^n(x_i - \\mu)^2}$$\n",
    "\n",
    "- Write a function to calculate standard deviation using the formula above"
   ]
  },
  {
   "cell_type": "code",
   "execution_count": 1535,
   "metadata": {},
   "outputs": [],
   "source": [
    "def std_man(list_items):\n",
    "    # calculate mean\n",
    "    total = 0\n",
    "    for num in list_items:\n",
    "        total = total + num\n",
    "    mean = total / len(list_items)\n",
    "    # adding the numbers in the list\n",
    "    diff_list = []\n",
    "    sum_diff = 0\n",
    "    for num in list_items:\n",
    "        diff_num = num - mean\n",
    "        diff_num = diff_num * diff_num\n",
    "        diff_list.append(diff_num)\n",
    "         \n",
    "        sum_diff = sum_diff + diff_num\n",
    "    result = sum_diff / (len(list_items) - 1)\n",
    "    return sqrt(result)"
   ]
  },
  {
   "cell_type": "markdown",
   "metadata": {},
   "source": [
    "- Use a **dictionary comprehension** to apply your standard deviation function to each numeric column in the dataframe.  **No loops**  \n",
    "- Assign the output to variable `sd` as a dictionary where: \n",
    "    - Each column name is now a key \n",
    "    - That standard deviation of the column is the value \n",
    "     \n",
    "*Example Output :* `{'Driving_Licenses_x': 120, 'Traffic_Accidents_x': 120, ...}`"
   ]
  },
  {
   "cell_type": "code",
   "execution_count": 1536,
   "metadata": {},
   "outputs": [],
   "source": [
    "# apply the std function on my merge dataset\n",
    "sd_dataset_merging = { key: std_man(dataset_merging[key].values) for key in dataset_merging.columns if key in ['year','num_traffic_accidents',\n",
    "                                                                                                               'driving_licenses']}"
   ]
  },
  {
   "cell_type": "code",
   "execution_count": 1537,
   "metadata": {},
   "outputs": [
    {
     "name": "stdout",
     "output_type": "stream",
     "text": [
      "{'year': 0.5046949386828399, 'num_traffic_accidents': 34135.86362094562, 'driving_licenses': 121932.0172358145}\n"
     ]
    }
   ],
   "source": [
    "print(sd_dataset_merging)"
   ]
  },
  {
   "cell_type": "code",
   "execution_count": 1538,
   "metadata": {},
   "outputs": [],
   "source": [
    "# apply the std function on traffic_accidents\n",
    "sd_traffic_accidents = { key: std_man(traffic_accidents[key].values) for key in traffic_accidents.columns if key in ['year','num_traffic_accidents']}"
   ]
  },
  {
   "cell_type": "code",
   "execution_count": 1539,
   "metadata": {},
   "outputs": [
    {
     "name": "stdout",
     "output_type": "stream",
     "text": [
      "{'year': 0.5032362797401965, 'num_traffic_accidents': 31716.88536256985}\n"
     ]
    }
   ],
   "source": [
    "print(sd_traffic_accidents)"
   ]
  },
  {
   "cell_type": "code",
   "execution_count": 1540,
   "metadata": {},
   "outputs": [],
   "source": [
    "# apply the std function on traffic_accidents\n",
    "sd_driving_license = { key: std_man(driving_license[key].values) for key in driving_license.columns if key in ['year','driving_licenses']}"
   ]
  },
  {
   "cell_type": "code",
   "execution_count": 1541,
   "metadata": {},
   "outputs": [
    {
     "name": "stdout",
     "output_type": "stream",
     "text": [
      "{'year': 7.222222222222222, 'driving_licenses': 47419.05881935999}\n"
     ]
    }
   ],
   "source": [
    "print(sd_driving_license)"
   ]
  },
  {
   "cell_type": "markdown",
   "metadata": {},
   "source": [
    "Do your manually calculated standard deviations match up with the output from pandas `describe`? What about numpy's `std` method?"
   ]
  },
  {
   "cell_type": "code",
   "execution_count": 1542,
   "metadata": {},
   "outputs": [
    {
     "data": {
      "text/plain": [
       "year                          0.500000\n",
       "num_traffic_accidents     33818.313802\n",
       "driving_licenses         120797.741259\n",
       "dtype: float64"
      ]
     },
     "execution_count": 1542,
     "metadata": {},
     "output_type": "execute_result"
    }
   ],
   "source": [
    "np.std(dataset_merging)"
   ]
  },
  {
   "cell_type": "markdown",
   "metadata": {},
   "source": [
    "Answer: np.std use N-1 instead of N in the denominator of the standard deviation formula."
   ]
  },
  {
   "cell_type": "markdown",
   "metadata": {},
   "source": [
    "#### Investigate trends in the data\n",
    "Using sorting and/or masking (along with the `.head` method to not print our entire dataframe), consider the following questions:\n",
    "\n",
    "- Which regions have the highest and lowest Driving Licenses based on years (1993 - 2017)\n",
    "- Which regions have the highest and lowest Traffic Accidents numbers for years (2016 - 2017)\n",
    "- What are the regions that have more Driving Licenses issued in each year than the year average?\n",
    "- What are the regions that have more Traffic Accidents happened in each year than the year average?\n",
    "\n",
    "Based on what you've just observed, have you identified any regions that you're especially interested in? **Make a note of these and state *why* you think they're interesting**.\n",
    "\n",
    "**You should comment on your findings at each step in a markdown cell below your code block**. Make sure you include at least one example of sorting your dataframe by a column, and one example of using boolean filtering (i.e., masking) to select a subset of the dataframe."
   ]
  },
  {
   "cell_type": "code",
   "execution_count": 1543,
   "metadata": {},
   "outputs": [],
   "source": [
    "# Which regions have the highest and lowest Driving Licenses based on years (1993 - 2017)\n",
    "driving_license_h_l = driving_license.groupby(['year','region']).agg({'driving_licenses':sum})"
   ]
  },
  {
   "cell_type": "code",
   "execution_count": 1544,
   "metadata": {},
   "outputs": [],
   "source": [
    "driving_license_h_l = driving_license_h_l['driving_licenses'].groupby(level=0, group_keys=False)"
   ]
  },
  {
   "cell_type": "code",
   "execution_count": 1545,
   "metadata": {},
   "outputs": [
    {
     "data": {
      "text/plain": [
       "year  region \n",
       "1993  Riyadh     103886\n",
       "1994  Riyadh     110545\n",
       "1995  Riyadh     101608\n",
       "1996  Riyadh     110131\n",
       "1997  Riyadh      92145\n",
       "1998  Riyadh     114962\n",
       "1999  Makkah     103535\n",
       "2000  Makkah      87053\n",
       "2001  Makkah      85593\n",
       "2002  Makkah      88593\n",
       "2003  Eastern     82697\n",
       "2004  Makkah      86636\n",
       "2005  Eastern     82505\n",
       "2006  Eastern     79517\n",
       "2007  Eastern    106511\n",
       "2008  Eastern    104626\n",
       "2009  Makkah     112045\n",
       "2010  Makkah     113531\n",
       "2011  Eastern    151087\n",
       "2012  Makkah     143954\n",
       "2013  Riyadh     165994\n",
       "2014  Riyadh     194208\n",
       "2015  Makkah     157389\n",
       "2016  Riyadh     242851\n",
       "2017  Riyadh     495307\n",
       "Name: driving_licenses, dtype: int64"
      ]
     },
     "execution_count": 1545,
     "metadata": {},
     "output_type": "execute_result"
    }
   ],
   "source": [
    "driving_license_h_l.nlargest(1) # highest Driving Licenses "
   ]
  },
  {
   "cell_type": "code",
   "execution_count": 1546,
   "metadata": {},
   "outputs": [
    {
     "data": {
      "text/plain": [
       "year  region          \n",
       "1993  Northern Boarder    1510\n",
       "1994  Northern Boarder    1457\n",
       "1995  Northern Boarder    1318\n",
       "1996  Northern Boarder    1383\n",
       "1997  Northern Boarder    1531\n",
       "1998  Northern Boarder    2014\n",
       "1999  Northern Boarder    2311\n",
       "2000  Northern Boarder    2894\n",
       "2001  Northern Boarder    2971\n",
       "2002  Northern Boarder    2268\n",
       "2003  Northern Boarder    1705\n",
       "2004  Northern Boarder    1922\n",
       "2005  Northern Boarder    1804\n",
       "2006  Northern Boarder    2573\n",
       "2007  Al-Baha              997\n",
       "2008  Northern Boarder    3519\n",
       "2009  Northern Boarder    3649\n",
       "2010  Northern Boarder    3064\n",
       "2011  Northern Boarder    4314\n",
       "2012  Northern Boarder    3706\n",
       "2013  Northern Boarder    3921\n",
       "2014  Northern Boarder    5009\n",
       "2015  Tabouk               915\n",
       "2016  Najran              2153\n",
       "2017  Al-Baha             4131\n",
       "Name: driving_licenses, dtype: int64"
      ]
     },
     "execution_count": 1546,
     "metadata": {},
     "output_type": "execute_result"
    }
   ],
   "source": [
    "driving_license_h_l.nsmallest(1) #lowest Driving Licenses "
   ]
  },
  {
   "cell_type": "code",
   "execution_count": 1547,
   "metadata": {},
   "outputs": [],
   "source": [
    "#- Which regions have the highest and lowest Traffic Accidents numbers for years (2016 - 2017)\n",
    "traffic_accidents_h_l = traffic_accidents.groupby(['year','region']).agg({'num_traffic_accidents':sum})"
   ]
  },
  {
   "cell_type": "code",
   "execution_count": 1548,
   "metadata": {},
   "outputs": [],
   "source": [
    "traffic_accidents_h_l = traffic_accidents_h_l['num_traffic_accidents'].groupby(level=0, group_keys=False)"
   ]
  },
  {
   "cell_type": "code",
   "execution_count": 1549,
   "metadata": {},
   "outputs": [
    {
     "data": {
      "text/plain": [
       "year  region\n",
       "2016  Makkah    149464\n",
       "2017  Makkah    157805\n",
       "Name: num_traffic_accidents, dtype: int64"
      ]
     },
     "execution_count": 1549,
     "metadata": {},
     "output_type": "execute_result"
    }
   ],
   "source": [
    "traffic_accidents_h_l.nlargest(1) #highest Traffic Accidents numbers"
   ]
  },
  {
   "cell_type": "code",
   "execution_count": 1550,
   "metadata": {},
   "outputs": [
    {
     "data": {
      "text/plain": [
       "year  region  \n",
       "2016  Najran      4114\n",
       "2017  Al-Baaha    2555\n",
       "Name: num_traffic_accidents, dtype: int64"
      ]
     },
     "execution_count": 1550,
     "metadata": {},
     "output_type": "execute_result"
    }
   ],
   "source": [
    "traffic_accidents_h_l.nsmallest(1) #lowest Traffic Accidents numbers"
   ]
  },
  {
   "cell_type": "code",
   "execution_count": 1551,
   "metadata": {},
   "outputs": [],
   "source": [
    "# - What are the regions that have more Driving Licenses issued in each year than the year average?\n",
    "driving_license.sort_values('year')\n",
    "driving_license_mean = driving_license.year.map(dict(enumerate(driving_license.groupby('year').mean().driving_licenses.values,\n",
    "                                                             driving_license.year.iloc[0])))\n",
    "driving_license_mean = driving_license[driving_license.driving_licenses > driving_license_mean]"
   ]
  },
  {
   "cell_type": "code",
   "execution_count": 1552,
   "metadata": {},
   "outputs": [
    {
     "data": {
      "text/html": [
       "<div>\n",
       "<style scoped>\n",
       "    .dataframe tbody tr th:only-of-type {\n",
       "        vertical-align: middle;\n",
       "    }\n",
       "\n",
       "    .dataframe tbody tr th {\n",
       "        vertical-align: top;\n",
       "    }\n",
       "\n",
       "    .dataframe thead th {\n",
       "        text-align: right;\n",
       "    }\n",
       "</style>\n",
       "<table border=\"1\" class=\"dataframe\">\n",
       "  <thead>\n",
       "    <tr style=\"text-align: right;\">\n",
       "      <th></th>\n",
       "      <th>year</th>\n",
       "      <th>region</th>\n",
       "      <th>driving_licenses</th>\n",
       "      <th>latitude_driving_licenes</th>\n",
       "      <th>longitude_driving_licenes</th>\n",
       "    </tr>\n",
       "  </thead>\n",
       "  <tbody>\n",
       "    <tr>\n",
       "      <th>0</th>\n",
       "      <td>2012</td>\n",
       "      <td>Makkah</td>\n",
       "      <td>143954</td>\n",
       "      <td>21.628962766</td>\n",
       "      <td>41.2636898334</td>\n",
       "    </tr>\n",
       "    <tr>\n",
       "      <th>96</th>\n",
       "      <td>2012</td>\n",
       "      <td>Eastern</td>\n",
       "      <td>129971</td>\n",
       "      <td>23.2883307307</td>\n",
       "      <td>50.1478302439</td>\n",
       "    </tr>\n",
       "    <tr>\n",
       "      <th>97</th>\n",
       "      <td>2012</td>\n",
       "      <td>Assir</td>\n",
       "      <td>23136</td>\n",
       "      <td>19.1387847401</td>\n",
       "      <td>42.941470036</td>\n",
       "    </tr>\n",
       "    <tr>\n",
       "      <th>151</th>\n",
       "      <td>2012</td>\n",
       "      <td>Riyadh</td>\n",
       "      <td>23888</td>\n",
       "      <td>23.0814341634</td>\n",
       "      <td>45.5857512766</td>\n",
       "    </tr>\n",
       "    <tr>\n",
       "      <th>7</th>\n",
       "      <td>2013</td>\n",
       "      <td>Madinah</td>\n",
       "      <td>28513</td>\n",
       "      <td>24.927534539</td>\n",
       "      <td>39.4918237173</td>\n",
       "    </tr>\n",
       "    <tr>\n",
       "      <th>265</th>\n",
       "      <td>2013</td>\n",
       "      <td>Assir</td>\n",
       "      <td>29730</td>\n",
       "      <td>19.1387847401</td>\n",
       "      <td>42.941470036</td>\n",
       "    </tr>\n",
       "    <tr>\n",
       "      <th>65</th>\n",
       "      <td>2013</td>\n",
       "      <td>Riyadh</td>\n",
       "      <td>165994</td>\n",
       "      <td>23.0814341634</td>\n",
       "      <td>45.5857512766</td>\n",
       "    </tr>\n",
       "    <tr>\n",
       "      <th>69</th>\n",
       "      <td>2013</td>\n",
       "      <td>Makkah</td>\n",
       "      <td>131108</td>\n",
       "      <td>21.628962766</td>\n",
       "      <td>41.2636898334</td>\n",
       "    </tr>\n",
       "    <tr>\n",
       "      <th>195</th>\n",
       "      <td>2013</td>\n",
       "      <td>Eastern</td>\n",
       "      <td>123325</td>\n",
       "      <td>23.2883307307</td>\n",
       "      <td>50.1478302439</td>\n",
       "    </tr>\n",
       "    <tr>\n",
       "      <th>6</th>\n",
       "      <td>2014</td>\n",
       "      <td>Madinah</td>\n",
       "      <td>31447</td>\n",
       "      <td>24.927534539</td>\n",
       "      <td>39.4918237173</td>\n",
       "    </tr>\n",
       "    <tr>\n",
       "      <th>255</th>\n",
       "      <td>2014</td>\n",
       "      <td>Eastern</td>\n",
       "      <td>121774</td>\n",
       "      <td>23.2883307307</td>\n",
       "      <td>50.1478302439</td>\n",
       "    </tr>\n",
       "    <tr>\n",
       "      <th>72</th>\n",
       "      <td>2014</td>\n",
       "      <td>Makkah</td>\n",
       "      <td>149234</td>\n",
       "      <td>21.628962766</td>\n",
       "      <td>41.2636898334</td>\n",
       "    </tr>\n",
       "    <tr>\n",
       "      <th>85</th>\n",
       "      <td>2014</td>\n",
       "      <td>Al-Qaseem</td>\n",
       "      <td>29113</td>\n",
       "      <td>26.1967063704</td>\n",
       "      <td>43.3429998455</td>\n",
       "    </tr>\n",
       "    <tr>\n",
       "      <th>203</th>\n",
       "      <td>2014</td>\n",
       "      <td>Assir</td>\n",
       "      <td>29552</td>\n",
       "      <td>19.1387847401</td>\n",
       "      <td>42.941470036</td>\n",
       "    </tr>\n",
       "    <tr>\n",
       "      <th>155</th>\n",
       "      <td>2014</td>\n",
       "      <td>Riyadh</td>\n",
       "      <td>194208</td>\n",
       "      <td>23.0814341634</td>\n",
       "      <td>45.5857512766</td>\n",
       "    </tr>\n",
       "    <tr>\n",
       "      <th>291</th>\n",
       "      <td>2015</td>\n",
       "      <td>Riyadh</td>\n",
       "      <td>24548</td>\n",
       "      <td>23.0814341634</td>\n",
       "      <td>45.5857512766</td>\n",
       "    </tr>\n",
       "    <tr>\n",
       "      <th>321</th>\n",
       "      <td>2015</td>\n",
       "      <td>Madinah</td>\n",
       "      <td>22744</td>\n",
       "      <td>24.927534539</td>\n",
       "      <td>39.4918237173</td>\n",
       "    </tr>\n",
       "    <tr>\n",
       "      <th>68</th>\n",
       "      <td>2015</td>\n",
       "      <td>Makkah</td>\n",
       "      <td>157389</td>\n",
       "      <td>21.628962766</td>\n",
       "      <td>41.2636898334</td>\n",
       "    </tr>\n",
       "    <tr>\n",
       "      <th>17</th>\n",
       "      <td>2015</td>\n",
       "      <td>Assir</td>\n",
       "      <td>38567</td>\n",
       "      <td>19.1387847401</td>\n",
       "      <td>42.941470036</td>\n",
       "    </tr>\n",
       "    <tr>\n",
       "      <th>16</th>\n",
       "      <td>2015</td>\n",
       "      <td>Eastern</td>\n",
       "      <td>135752</td>\n",
       "      <td>23.2883307307</td>\n",
       "      <td>50.1478302439</td>\n",
       "    </tr>\n",
       "    <tr>\n",
       "      <th>189</th>\n",
       "      <td>2016</td>\n",
       "      <td>Madinah</td>\n",
       "      <td>24540</td>\n",
       "      <td>24.927534539</td>\n",
       "      <td>39.4918237173</td>\n",
       "    </tr>\n",
       "    <tr>\n",
       "      <th>293</th>\n",
       "      <td>2016</td>\n",
       "      <td>Riyadh</td>\n",
       "      <td>242851</td>\n",
       "      <td>23.0814341634</td>\n",
       "      <td>45.5857512766</td>\n",
       "    </tr>\n",
       "    <tr>\n",
       "      <th>215</th>\n",
       "      <td>2016</td>\n",
       "      <td>Hail</td>\n",
       "      <td>54507</td>\n",
       "      <td>27.400845724</td>\n",
       "      <td>41.4406960508</td>\n",
       "    </tr>\n",
       "    <tr>\n",
       "      <th>256</th>\n",
       "      <td>2016</td>\n",
       "      <td>Eastern</td>\n",
       "      <td>142307</td>\n",
       "      <td>23.2883307307</td>\n",
       "      <td>50.1478302439</td>\n",
       "    </tr>\n",
       "    <tr>\n",
       "      <th>264</th>\n",
       "      <td>2016</td>\n",
       "      <td>Assir</td>\n",
       "      <td>41367</td>\n",
       "      <td>19.1387847401</td>\n",
       "      <td>42.941470036</td>\n",
       "    </tr>\n",
       "    <tr>\n",
       "      <th>158</th>\n",
       "      <td>2016</td>\n",
       "      <td>Makkah</td>\n",
       "      <td>136055</td>\n",
       "      <td>21.628962766</td>\n",
       "      <td>41.2636898334</td>\n",
       "    </tr>\n",
       "    <tr>\n",
       "      <th>94</th>\n",
       "      <td>2017</td>\n",
       "      <td>Eastern</td>\n",
       "      <td>126816</td>\n",
       "      <td>23.2883307307</td>\n",
       "      <td>50.1478302439</td>\n",
       "    </tr>\n",
       "    <tr>\n",
       "      <th>247</th>\n",
       "      <td>2017</td>\n",
       "      <td>Madinah</td>\n",
       "      <td>36165</td>\n",
       "      <td>24.927534539</td>\n",
       "      <td>39.4918237173</td>\n",
       "    </tr>\n",
       "    <tr>\n",
       "      <th>263</th>\n",
       "      <td>2017</td>\n",
       "      <td>Assir</td>\n",
       "      <td>39133</td>\n",
       "      <td>19.1387847401</td>\n",
       "      <td>42.941470036</td>\n",
       "    </tr>\n",
       "    <tr>\n",
       "      <th>292</th>\n",
       "      <td>2017</td>\n",
       "      <td>Riyadh</td>\n",
       "      <td>495307</td>\n",
       "      <td>23.0814341634</td>\n",
       "      <td>45.5857512766</td>\n",
       "    </tr>\n",
       "    <tr>\n",
       "      <th>157</th>\n",
       "      <td>2017</td>\n",
       "      <td>Makkah</td>\n",
       "      <td>142487</td>\n",
       "      <td>21.628962766</td>\n",
       "      <td>41.2636898334</td>\n",
       "    </tr>\n",
       "  </tbody>\n",
       "</table>\n",
       "</div>"
      ],
      "text/plain": [
       "     year     region  driving_licenses latitude_driving_licenes  \\\n",
       "0    2012     Makkah            143954             21.628962766   \n",
       "96   2012    Eastern            129971            23.2883307307   \n",
       "97   2012      Assir             23136            19.1387847401   \n",
       "151  2012     Riyadh             23888            23.0814341634   \n",
       "7    2013    Madinah             28513             24.927534539   \n",
       "265  2013      Assir             29730            19.1387847401   \n",
       "65   2013     Riyadh            165994            23.0814341634   \n",
       "69   2013     Makkah            131108             21.628962766   \n",
       "195  2013    Eastern            123325            23.2883307307   \n",
       "6    2014    Madinah             31447             24.927534539   \n",
       "255  2014    Eastern            121774            23.2883307307   \n",
       "72   2014     Makkah            149234             21.628962766   \n",
       "85   2014  Al-Qaseem             29113            26.1967063704   \n",
       "203  2014      Assir             29552            19.1387847401   \n",
       "155  2014     Riyadh            194208            23.0814341634   \n",
       "291  2015     Riyadh             24548            23.0814341634   \n",
       "321  2015    Madinah             22744             24.927534539   \n",
       "68   2015     Makkah            157389             21.628962766   \n",
       "17   2015      Assir             38567            19.1387847401   \n",
       "16   2015    Eastern            135752            23.2883307307   \n",
       "189  2016    Madinah             24540             24.927534539   \n",
       "293  2016     Riyadh            242851            23.0814341634   \n",
       "215  2016       Hail             54507             27.400845724   \n",
       "256  2016    Eastern            142307            23.2883307307   \n",
       "264  2016      Assir             41367            19.1387847401   \n",
       "158  2016     Makkah            136055             21.628962766   \n",
       "94   2017    Eastern            126816            23.2883307307   \n",
       "247  2017    Madinah             36165             24.927534539   \n",
       "263  2017      Assir             39133            19.1387847401   \n",
       "292  2017     Riyadh            495307            23.0814341634   \n",
       "157  2017     Makkah            142487             21.628962766   \n",
       "\n",
       "    longitude_driving_licenes  \n",
       "0               41.2636898334  \n",
       "96              50.1478302439  \n",
       "97               42.941470036  \n",
       "151             45.5857512766  \n",
       "7               39.4918237173  \n",
       "265              42.941470036  \n",
       "65              45.5857512766  \n",
       "69              41.2636898334  \n",
       "195             50.1478302439  \n",
       "6               39.4918237173  \n",
       "255             50.1478302439  \n",
       "72              41.2636898334  \n",
       "85              43.3429998455  \n",
       "203              42.941470036  \n",
       "155             45.5857512766  \n",
       "291             45.5857512766  \n",
       "321             39.4918237173  \n",
       "68              41.2636898334  \n",
       "17               42.941470036  \n",
       "16              50.1478302439  \n",
       "189             39.4918237173  \n",
       "293             45.5857512766  \n",
       "215             41.4406960508  \n",
       "256             50.1478302439  \n",
       "264              42.941470036  \n",
       "158             41.2636898334  \n",
       "94              50.1478302439  \n",
       "247             39.4918237173  \n",
       "263              42.941470036  \n",
       "292             45.5857512766  \n",
       "157             41.2636898334  "
      ]
     },
     "execution_count": 1552,
     "metadata": {},
     "output_type": "execute_result"
    }
   ],
   "source": [
    "driving_license_mean.sort_values('year')"
   ]
  },
  {
   "cell_type": "code",
   "execution_count": 1553,
   "metadata": {},
   "outputs": [],
   "source": [
    "# - What are the regions that have more Traffic Accidents happened in each year than the year average?\n",
    "traffic_accidents.sort_values('year')\n",
    "traffic_accidents_mean = traffic_accidents.year.map(dict(enumerate(traffic_accidents.groupby('year').mean().num_traffic_accidents.values, \n",
    "                                                                   traffic_accidents.year.iloc[0])))\n",
    "traffic_accidents_mean = traffic_accidents[traffic_accidents.num_traffic_accidents > traffic_accidents_mean] "
   ]
  },
  {
   "cell_type": "code",
   "execution_count": 1554,
   "metadata": {},
   "outputs": [
    {
     "data": {
      "text/html": [
       "<div>\n",
       "<style scoped>\n",
       "    .dataframe tbody tr th:only-of-type {\n",
       "        vertical-align: middle;\n",
       "    }\n",
       "\n",
       "    .dataframe tbody tr th {\n",
       "        vertical-align: top;\n",
       "    }\n",
       "\n",
       "    .dataframe thead th {\n",
       "        text-align: right;\n",
       "    }\n",
       "</style>\n",
       "<table border=\"1\" class=\"dataframe\">\n",
       "  <thead>\n",
       "    <tr style=\"text-align: right;\">\n",
       "      <th></th>\n",
       "      <th>year</th>\n",
       "      <th>region</th>\n",
       "      <th>num_traffic_accidents</th>\n",
       "      <th>latitude_accidents</th>\n",
       "      <th>longitude_accidents</th>\n",
       "      <th>num_accidents_result</th>\n",
       "      <th>accidents_result</th>\n",
       "    </tr>\n",
       "  </thead>\n",
       "  <tbody>\n",
       "    <tr>\n",
       "      <th>25</th>\n",
       "      <td>2016</td>\n",
       "      <td>Eastern Region</td>\n",
       "      <td>101619</td>\n",
       "      <td>23.2883307307</td>\n",
       "      <td>50.1478302439</td>\n",
       "      <td>No. of Accidents</td>\n",
       "      <td>not_Effict</td>\n",
       "    </tr>\n",
       "    <tr>\n",
       "      <th>36</th>\n",
       "      <td>2016</td>\n",
       "      <td>Riyadh</td>\n",
       "      <td>141736</td>\n",
       "      <td>23.0814341634</td>\n",
       "      <td>45.5857512766</td>\n",
       "      <td>No. of Accidents</td>\n",
       "      <td>not_Effict</td>\n",
       "    </tr>\n",
       "    <tr>\n",
       "      <th>37</th>\n",
       "      <td>2016</td>\n",
       "      <td>Makkah</td>\n",
       "      <td>134838</td>\n",
       "      <td>21.628962766</td>\n",
       "      <td>41.2636898334</td>\n",
       "      <td>No. of Accidents</td>\n",
       "      <td>not_Effict</td>\n",
       "    </tr>\n",
       "    <tr>\n",
       "      <th>39</th>\n",
       "      <td>2016</td>\n",
       "      <td>Qassim</td>\n",
       "      <td>25664</td>\n",
       "      <td>26.1967063704</td>\n",
       "      <td>43.3429998455</td>\n",
       "      <td>No. of Accidents</td>\n",
       "      <td>not_Effict</td>\n",
       "    </tr>\n",
       "    <tr>\n",
       "      <th>41</th>\n",
       "      <td>2016</td>\n",
       "      <td>Tabouk</td>\n",
       "      <td>16031</td>\n",
       "      <td>27.90165499</td>\n",
       "      <td>37.2598581394</td>\n",
       "      <td>No. of Accidents</td>\n",
       "      <td>not_Effict</td>\n",
       "    </tr>\n",
       "    <tr>\n",
       "      <th>56</th>\n",
       "      <td>2016</td>\n",
       "      <td>Asir</td>\n",
       "      <td>32684</td>\n",
       "      <td>19.1387847401</td>\n",
       "      <td>42.941470036</td>\n",
       "      <td>No. of Accidents</td>\n",
       "      <td>not_Effict</td>\n",
       "    </tr>\n",
       "    <tr>\n",
       "      <th>59</th>\n",
       "      <td>2016</td>\n",
       "      <td>Jazan</td>\n",
       "      <td>25873</td>\n",
       "      <td>17.2072313962</td>\n",
       "      <td>42.6525807422</td>\n",
       "      <td>No. of Accidents</td>\n",
       "      <td>not_Effict</td>\n",
       "    </tr>\n",
       "    <tr>\n",
       "      <th>6</th>\n",
       "      <td>2017</td>\n",
       "      <td>Jazan</td>\n",
       "      <td>22161</td>\n",
       "      <td>17.2072313962</td>\n",
       "      <td>42.6525807422</td>\n",
       "      <td>No. of Accidents</td>\n",
       "      <td>not_Effict</td>\n",
       "    </tr>\n",
       "    <tr>\n",
       "      <th>13</th>\n",
       "      <td>2017</td>\n",
       "      <td>Riyadh</td>\n",
       "      <td>99925</td>\n",
       "      <td>23.0814341634</td>\n",
       "      <td>45.5857512766</td>\n",
       "      <td>No. of Accidents</td>\n",
       "      <td>not_Effict</td>\n",
       "    </tr>\n",
       "    <tr>\n",
       "      <th>16</th>\n",
       "      <td>2017</td>\n",
       "      <td>Qassim</td>\n",
       "      <td>22405</td>\n",
       "      <td>26.1967063704</td>\n",
       "      <td>43.3429998455</td>\n",
       "      <td>No. of Accidents</td>\n",
       "      <td>not_Effict</td>\n",
       "    </tr>\n",
       "    <tr>\n",
       "      <th>17</th>\n",
       "      <td>2017</td>\n",
       "      <td>Eastern Region</td>\n",
       "      <td>81433</td>\n",
       "      <td>23.2883307307</td>\n",
       "      <td>50.1478302439</td>\n",
       "      <td>No. of Accidents</td>\n",
       "      <td>not_Effict</td>\n",
       "    </tr>\n",
       "    <tr>\n",
       "      <th>48</th>\n",
       "      <td>2017</td>\n",
       "      <td>Asir</td>\n",
       "      <td>25245</td>\n",
       "      <td>19.1387847401</td>\n",
       "      <td>42.941470036</td>\n",
       "      <td>No. of Accidents</td>\n",
       "      <td>not_Effict</td>\n",
       "    </tr>\n",
       "    <tr>\n",
       "      <th>61</th>\n",
       "      <td>2017</td>\n",
       "      <td>Madinah</td>\n",
       "      <td>16070</td>\n",
       "      <td>24.927534539</td>\n",
       "      <td>39.4918237173</td>\n",
       "      <td>No. of Accidents</td>\n",
       "      <td>not_Effict</td>\n",
       "    </tr>\n",
       "    <tr>\n",
       "      <th>78</th>\n",
       "      <td>2017</td>\n",
       "      <td>Makkah</td>\n",
       "      <td>145541</td>\n",
       "      <td>21.628962766</td>\n",
       "      <td>41.2636898334</td>\n",
       "      <td>No. of Accidents</td>\n",
       "      <td>not_Effict</td>\n",
       "    </tr>\n",
       "  </tbody>\n",
       "</table>\n",
       "</div>"
      ],
      "text/plain": [
       "    year          region  num_traffic_accidents latitude_accidents  \\\n",
       "25  2016  Eastern Region                 101619      23.2883307307   \n",
       "36  2016          Riyadh                 141736      23.0814341634   \n",
       "37  2016          Makkah                 134838       21.628962766   \n",
       "39  2016          Qassim                  25664      26.1967063704   \n",
       "41  2016          Tabouk                  16031        27.90165499   \n",
       "56  2016            Asir                  32684      19.1387847401   \n",
       "59  2016           Jazan                  25873      17.2072313962   \n",
       "6   2017           Jazan                  22161      17.2072313962   \n",
       "13  2017          Riyadh                  99925      23.0814341634   \n",
       "16  2017          Qassim                  22405      26.1967063704   \n",
       "17  2017  Eastern Region                  81433      23.2883307307   \n",
       "48  2017            Asir                  25245      19.1387847401   \n",
       "61  2017         Madinah                  16070       24.927534539   \n",
       "78  2017          Makkah                 145541       21.628962766   \n",
       "\n",
       "   longitude_accidents num_accidents_result accidents_result  \n",
       "25       50.1478302439     No. of Accidents       not_Effict  \n",
       "36       45.5857512766     No. of Accidents       not_Effict  \n",
       "37       41.2636898334     No. of Accidents       not_Effict  \n",
       "39       43.3429998455     No. of Accidents       not_Effict  \n",
       "41       37.2598581394     No. of Accidents       not_Effict  \n",
       "56        42.941470036     No. of Accidents       not_Effict  \n",
       "59       42.6525807422     No. of Accidents       not_Effict  \n",
       "6        42.6525807422     No. of Accidents       not_Effict  \n",
       "13       45.5857512766     No. of Accidents       not_Effict  \n",
       "16       43.3429998455     No. of Accidents       not_Effict  \n",
       "17       50.1478302439     No. of Accidents       not_Effict  \n",
       "48        42.941470036     No. of Accidents       not_Effict  \n",
       "61       39.4918237173     No. of Accidents       not_Effict  \n",
       "78       41.2636898334     No. of Accidents       not_Effict  "
      ]
     },
     "execution_count": 1554,
     "metadata": {},
     "output_type": "execute_result"
    }
   ],
   "source": [
    "traffic_accidents_mean.sort_values('year')"
   ]
  },
  {
   "cell_type": "markdown",
   "metadata": {},
   "source": [
    "## Visualize the data\n",
    "\n",
    "There's not a magic bullet recommendation for the right number of plots to understand a given dataset, but visualizing your data is *always* a good idea. Not only does it allow you to quickly convey your findings (even if you have a non-technical audience), it will often reveal trends in your data that escaped you when you were looking only at numbers.\n",
    "\n",
    "Some recommendations on plotting:\n",
    "- Plots have titles\n",
    "- Plots have axis labels\n",
    "- Plots have appropriate tick labels\n",
    "- All text is legible in a plot\n",
    "- Plots demonstrate meaningful and valid relationships\n",
    "- Plots are interpreted to aid understanding\n",
    "\n",
    "There is such a thing as too many plots, and there are a *lot* of bad plots. You might make some! (But hopefully not with the guided prompts below)."
   ]
  },
  {
   "cell_type": "markdown",
   "metadata": {},
   "source": [
    "#### Use Seaborn's heatmap with pandas `.corr()` to visualize correlations between all numeric features\n",
    "\n",
    "Heatmaps are generally not appropriate for presentations, and should often be excluded from reports as they can be visually overwhelming. **However**, they can be extremely useful in identify relationships of potential interest (as well as identifying potential collinearity before modeling).\n",
    "\n",
    "*example*:\n",
    "```python\n",
    "sns.heatmap(df.corr())\n",
    "```\n",
    "\n",
    "Please take time to format your output, adding a title. Look through some of the additional arguments and options. (Axis labels aren't really necessary, as long as the title is informative)."
   ]
  },
  {
   "cell_type": "code",
   "execution_count": 1555,
   "metadata": {},
   "outputs": [],
   "source": [
    "data_merging = pd.merge( traffic_accidents_pivoting,driving_license, on=['year', 'region'], how='left')"
   ]
  },
  {
   "cell_type": "code",
   "execution_count": 1556,
   "metadata": {},
   "outputs": [
    {
     "data": {
      "text/plain": [
       "Text(0.5, 1.0, 'Heatmap correlation all numeric features on Traffic accident & Driving_license dataset')"
      ]
     },
     "execution_count": 1556,
     "metadata": {},
     "output_type": "execute_result"
    },
    {
     "data": {
      "image/png": "[encoded data removed]",
      "text/plain": [
       "<Figure size 720x576 with 2 Axes>"
      ]
     },
     "metadata": {
      "needs_background": "light"
     },
     "output_type": "display_data"
    }
   ],
   "source": [
    "plt.figure(figsize=(10,8)) # control the size of our fig\n",
    "sns.heatmap(data_merging.corr() , annot=True, annot_kws={\"size\": 7}, cmap='BuPu', center=0);\n",
    "plt.title('Heatmap correlation all numeric features on Traffic accident & Driving_license dataset')\n",
    "# sns.heatmap(dataset_merging.corr(), annot=True,mask=dataset_merging.corr()<0, cmap='BuPu'); # mask tell what we don't value to display"
   ]
  },
  {
   "cell_type": "markdown",
   "metadata": {},
   "source": [
    "#### Define a custom function to subplot histograms\n",
    "\n",
    "We should write a function that will take the names of 2+ columns and subplot histograms. While you can use pandas plotting or Seaborn here, matplotlib gives you greater control over all aspects of your plots.\n",
    "\n",
    "[Helpful Link for Plotting Multiple Figures](https://matplotlib.org/users/pyplot_tutorial.html#working-with-multiple-figures-and-axes)\n",
    "\n",
    "Here's some starter code:"
   ]
  },
  {
   "cell_type": "code",
   "execution_count": 1557,
   "metadata": {},
   "outputs": [],
   "source": [
    "def subplot_histograms(dataframe, list_of_columns, list_of_titles, list_of_xlabels):\n",
    "    nrows = int(np.ceil(len(list_of_columns)/2)) # Makes sure you have enough rows\n",
    "    fig, ax = plt.subplots(nrows=nrows, ncols=2, figsize=(14,10)) # You'll want to specify your figsize\n",
    "    ax = ax.ravel() # Ravel turns a matrix into a vector, which is easier to iterate\n",
    "    for i, column in enumerate(list_of_columns): # Gives us an index value to get into all our lists\n",
    "        ax[i].hist(dataframe[column]) # feel free to add more settings\n",
    "        # Set titles, labels, etc here for each subplot\n",
    "        ax[i].set_title(f'Histogram of {column}')\n",
    "        ax[i].set_xlabel"
   ]
  },
  {
   "cell_type": "markdown",
   "metadata": {},
   "source": [
    "#### Plot and interpret histograms \n",
    "For each of the following:\n",
    "- Driving Licenses number\n",
    "- Traffic Accidents number\n",
    "\n",
    "Please plot two additional histograms that will help with your understanding of the data"
   ]
  },
  {
   "cell_type": "code",
   "execution_count": 1558,
   "metadata": {},
   "outputs": [
    {
     "name": "stderr",
     "output_type": "stream",
     "text": [
      "/Users/aseel/anaconda3/lib/python3.6/site-packages/numpy/lib/histograms.py:754: RuntimeWarning: invalid value encountered in greater_equal\n",
      "  keep = (tmp_a >= first_edge)\n",
      "/Users/aseel/anaconda3/lib/python3.6/site-packages/numpy/lib/histograms.py:755: RuntimeWarning: invalid value encountered in less_equal\n",
      "  keep &= (tmp_a <= last_edge)\n"
     ]
    },
    {
     "data": {
      "image/png": "[encoded data removed]",
      "text/plain": [
       "<Figure size 1008x720 with 4 Axes>"
      ]
     },
     "metadata": {
      "needs_background": "light"
     },
     "output_type": "display_data"
    }
   ],
   "source": [
    "dataset_merging_columns = data_merging.columns[2:6]\n",
    "list_of_xlabels = data_merging.columns[2:6]\n",
    "subplot_histograms(data_merging, dataset_merging_columns, list_of_titles, list_of_xlabels)"
   ]
  },
  {
   "cell_type": "code",
   "execution_count": 1559,
   "metadata": {},
   "outputs": [
    {
     "data": {
      "image/png": "[encoded data removed]",
      "text/plain": [
       "<Figure size 432x288 with 1 Axes>"
      ]
     },
     "metadata": {
      "needs_background": "light"
     },
     "output_type": "display_data"
    }
   ],
   "source": [
    "y = driving_license.driving_licenses\n",
    "x = driving_license.year\n",
    "driving_license.driving_licenses.plot.hist(bins=50,alpha=0.5);\n",
    "plt.title('Driving Licenses Issued')\n",
    "plt.xlabel('Driving Licenses number');"
   ]
  },
  {
   "cell_type": "code",
   "execution_count": 1560,
   "metadata": {},
   "outputs": [
    {
     "data": {
      "text/plain": [
       "Text(0.5, 0, 'Traffic Accidents number')"
      ]
     },
     "execution_count": 1560,
     "metadata": {},
     "output_type": "execute_result"
    },
    {
     "data": {
      "image/png": "[encoded data removed]",
      "text/plain": [
       "<Figure size 432x288 with 1 Axes>"
      ]
     },
     "metadata": {
      "needs_background": "light"
     },
     "output_type": "display_data"
    }
   ],
   "source": [
    "y = traffic_accidents.num_traffic_accidents\n",
    "x = traffic_accidents.year\n",
    "traffic_accidents.num_traffic_accidents.plot.hist(bins=50,alpha=0.5);\n",
    "plt.title('Traffic Accidents happend')\n",
    "plt.xlabel('Traffic Accidents number', fontsize=15)"
   ]
  },
  {
   "cell_type": "markdown",
   "metadata": {},
   "source": [
    "#### Plot and interpret scatter plots\n",
    "\n",
    "For each of the following:\n",
    "- Driving Licenses vs. Traffic Accidents for 2017\n",
    "- Driving Licenses vs. Traffic Accidents for 2016\n",
    "- Driving Licenses for 2016 vs 2017\n",
    "- Traffic Accidents for 2016 vs 2017\n",
    "\n",
    "Plot the two variables against each other using matplotlib or Seaborn\n",
    "\n",
    "Your plots should show:\n",
    "- Two clearly labeled axes\n",
    "- A proper title\n",
    "- Using colors and symbols that are clear and unmistakable\n",
    "\n",
    "**Feel free to write a custom function, and subplot if you'd like.** Functions save both time and space.\n"
   ]
  },
  {
   "cell_type": "code",
   "execution_count": 1561,
   "metadata": {},
   "outputs": [],
   "source": [
    "def scatterplot(x, y, title, xlabel, ylabel,df):\n",
    "    plt.figure(figsize=(12,4))\n",
    "    x = df[x]\n",
    "    y = df[y]\n",
    "    sns.scatterplot(x,y) \n",
    "    sns.regplot(x,y)\n",
    "    plt.title(title)\n",
    "    plt.xlabel(xlabel)\n",
    "    plt.ylabel(ylabel)"
   ]
  },
  {
   "cell_type": "code",
   "execution_count": 1562,
   "metadata": {},
   "outputs": [],
   "source": [
    "dataset_merging_2016 = dataset_merging.set_index('year').loc[2016,:].reset_index()\n",
    "dataset_merging_2017 = dataset_merging.set_index('year').loc[2017,:].reset_index()"
   ]
  },
  {
   "cell_type": "code",
   "execution_count": 1563,
   "metadata": {},
   "outputs": [
    {
     "data": {
      "image/png": "[encoded data removed]",
      "text/plain": [
       "<Figure size 864x288 with 1 Axes>"
      ]
     },
     "metadata": {
      "needs_background": "light"
     },
     "output_type": "display_data"
    }
   ],
   "source": [
    "# Driving Licenses vs. Traffic Accidents for 2017\n",
    "scatterplot('num_traffic_accidents',\n",
    "            'driving_licenses',\n",
    "            'Driving Licenses vs.Traffic Accidents for 2017',\n",
    "            'Number traffic accident',\n",
    "            'Driving licenses', dataset_merging_2017)"
   ]
  },
  {
   "cell_type": "code",
   "execution_count": 1564,
   "metadata": {},
   "outputs": [
    {
     "data": {
      "image/png": "[encoded data removed]",
      "text/plain": [
       "<Figure size 864x288 with 1 Axes>"
      ]
     },
     "metadata": {
      "needs_background": "light"
     },
     "output_type": "display_data"
    }
   ],
   "source": [
    "# Driving Licenses vs. Traffic Accidents for 2016\n",
    "scatterplot('num_traffic_accidents',\n",
    "            'driving_licenses',\n",
    "            'Driving Licenses vs.Traffic Accidents for 2016',\n",
    "            'Number traffic accident',\n",
    "            'Driving licenses', dataset_merging_2016)"
   ]
  },
  {
   "cell_type": "code",
   "execution_count": 1565,
   "metadata": {},
   "outputs": [],
   "source": [
    "# Driving Licenses for 2016 vs 2017\n",
    "driving_license_vs = driving_license.set_index('year').loc[[2016,2017]].reset_index()\n",
    "# driving_license_2017 = driving_license.set_index('year').loc[2017,:].reset_index()"
   ]
  },
  {
   "cell_type": "code",
   "execution_count": 1566,
   "metadata": {},
   "outputs": [
    {
     "data": {
      "image/png": "[encoded data removed]",
      "text/plain": [
       "<Figure size 864x288 with 1 Axes>"
      ]
     },
     "metadata": {
      "needs_background": "light"
     },
     "output_type": "display_data"
    }
   ],
   "source": [
    "scatterplot('year',\n",
    "            'driving_licenses',\n",
    "            'Driving Licenses for 2016 vs 2017',\n",
    "            'Driving Licenses for 2016 ',\n",
    "            'Driving Licenses for 2017', driving_license_vs)"
   ]
  },
  {
   "cell_type": "code",
   "execution_count": 1567,
   "metadata": {},
   "outputs": [
    {
     "data": {
      "image/png": "[encoded data removed]",
      "text/plain": [
       "<Figure size 864x288 with 1 Axes>"
      ]
     },
     "metadata": {
      "needs_background": "light"
     },
     "output_type": "display_data"
    }
   ],
   "source": [
    "# Traffic Accidents for 2016 vs 2017\n",
    "scatterplot('year',\n",
    "            'num_traffic_accidents',\n",
    "            'Traffic Accidents for 2016 vs 2017',\n",
    "            'Traffic Accidents for 2016  ',\n",
    "            'Traffic Accidents for 2017', traffic_accidents)"
   ]
  },
  {
   "cell_type": "markdown",
   "metadata": {},
   "source": [
    "#### Plot and interpret boxplots\n",
    "\n",
    "For each numeric variable in the dataframe create a boxplot using Seaborn. Boxplots demonstrate central tendency and spread in variables. In a certain sense, these are somewhat redundant with histograms, but you may be better able to identify clear outliers or differences in IQR, etc.\n",
    "\n",
    "Multiple values can be plotted to a single boxplot as long as they are of the same relative scale (meaning they have similar min/max values).\n",
    "\n",
    "Each boxplot should:\n",
    "- Only include variables of a similar scale\n",
    "- Have clear labels for each variable\n",
    "- Have appropriate titles and labels"
   ]
  },
  {
   "cell_type": "code",
   "execution_count": 1568,
   "metadata": {},
   "outputs": [],
   "source": [
    "#normalizaion ( scale data to range [0,1])\n",
    "def normalize(*args): \n",
    "    return (x - x.min())/(x.max() - x.min())"
   ]
  },
  {
   "cell_type": "code",
   "execution_count": 1571,
   "metadata": {},
   "outputs": [
    {
     "name": "stdout",
     "output_type": "stream",
     "text": [
      "<class 'pandas.core.frame.DataFrame'>\n",
      "Int64Index: 54 entries, 0 to 53\n",
      "Data columns (total 10 columns):\n",
      "year                         54 non-null int64\n",
      "region                       54 non-null object\n",
      "num_traffic_accidents        54 non-null int64\n",
      "latitude_accidents           54 non-null object\n",
      "longitude_accidents          54 non-null object\n",
      "num_accidents_result         54 non-null object\n",
      "accidents_result             54 non-null object\n",
      "driving_licenses             54 non-null int64\n",
      "latitude_driving_licenes     54 non-null object\n",
      "longitude_driving_licenes    54 non-null object\n",
      "dtypes: int64(3), object(7)\n",
      "memory usage: 4.6+ KB\n"
     ]
    }
   ],
   "source": [
    "dataset_merging_scaled = normalize(dataset_merging.columns[1:3])\n",
    "dataset_merging.info()\n"
   ]
  },
  {
   "cell_type": "code",
   "execution_count": 1579,
   "metadata": {},
   "outputs": [],
   "source": [
    "dropped_datasets = dataset_merging.drop(['region', 'latitude_accidents', 'longitude_accidents', 'latitude_driving_licenes', 'longitude_driving_licenes'], axis=1) # just try to chan the display\n",
    "dataset_merging_scaled = normalize(dropped_datasets)"
   ]
  },
  {
   "cell_type": "code",
   "execution_count": 1581,
   "metadata": {},
   "outputs": [
    {
     "data": {
      "image/png": "[encoded data removed]",
      "text/plain": [
       "<Figure size 432x288 with 1 Axes>"
      ]
     },
     "metadata": {
      "needs_background": "light"
     },
     "output_type": "display_data"
    }
   ],
   "source": [
    "sns.boxenplot(data= dataset_merging_scaled);"
   ]
  },
  {
   "cell_type": "code",
   "execution_count": 1425,
   "metadata": {},
   "outputs": [
    {
     "data": {
      "image/png": "[encoded data removed]",
      "text/plain": [
       "<Figure size 432x288 with 1 Axes>"
      ]
     },
     "metadata": {
      "needs_background": "light"
     },
     "output_type": "display_data"
    }
   ],
   "source": [
    "sns.boxenplot(data= dataset_merging.drop(['region',\n",
    "                                         'latitude_accidents',\n",
    "                                         'longitude_accidents',\n",
    "                                         'latitude_driving_licenes',\n",
    "                                         'longitude_driving_licenes'], axis=1));"
   ]
  },
  {
   "cell_type": "code",
   "execution_count": 1426,
   "metadata": {},
   "outputs": [
    {
     "data": {
      "image/png": "[encoded data removed]",
      "text/plain": [
       "<Figure size 432x288 with 1 Axes>"
      ]
     },
     "metadata": {
      "needs_background": "light"
     },
     "output_type": "display_data"
    }
   ],
   "source": [
    "# Code\n",
    "sns.boxplot(['year','num_traffic_accidents'], data=dataset_merging,orient ='v');\n",
    "sns.boxplot(data=dataset_merging.drop(['region',\n",
    "                                         'latitude_accidents',\n",
    "                                         'longitude_accidents',\n",
    "                                         'latitude_driving_licenes',\n",
    "                                         'longitude_driving_licenes'],\n",
    "                                        axis=1)); # just try to chan the display\n"
   ]
  },
  {
   "cell_type": "code",
   "execution_count": 1427,
   "metadata": {},
   "outputs": [],
   "source": [
    "def boxplot(numeric_var):\n",
    "    sns.boxplot(dataset_merging[numeric_var])\n",
    "    plt.title(f'Box plot of {numeric_var}')\n",
    "    plt.axvline(dataset_merging[numeric_var].mean(),\n",
    "                c='g')\n",
    "    print(f'skew: {dataset_merging[numeric_var].skew()}')"
   ]
  },
  {
   "cell_type": "code",
   "execution_count": 1428,
   "metadata": {},
   "outputs": [
    {
     "name": "stdout",
     "output_type": "stream",
     "text": [
      "skew: 3.2802597225206642\n"
     ]
    },
    {
     "data": {
      "image/png": "[encoded data removed]",
      "text/plain": [
       "<Figure size 432x288 with 1 Axes>"
      ]
     },
     "metadata": {
      "needs_background": "light"
     },
     "output_type": "display_data"
    }
   ],
   "source": [
    "boxplot('num_traffic_accidents')"
   ]
  },
  {
   "cell_type": "code",
   "execution_count": 1429,
   "metadata": {},
   "outputs": [
    {
     "name": "stdout",
     "output_type": "stream",
     "text": [
      "skew: 2.615810221431933\n"
     ]
    },
    {
     "data": {
      "image/png": "[encoded data removed]",
      "text/plain": [
       "<Figure size 432x288 with 1 Axes>"
      ]
     },
     "metadata": {
      "needs_background": "light"
     },
     "output_type": "display_data"
    }
   ],
   "source": [
    "boxplot('driving_licenses')"
   ]
  },
  {
   "cell_type": "markdown",
   "metadata": {},
   "source": [
    "It's all value have a right skewd i think that related on the region that have Population density"
   ]
  },
  {
   "cell_type": "markdown",
   "metadata": {},
   "source": [
    "#### Feel free to do additional plots below\n",
    "*(do research and choose your own chart types & variables)*\n",
    "\n",
    "Are there any additional trends or relationships you haven't explored? Was there something interesting you saw that you'd like to dive further into? It's likely that there are a few more plots you might want to generate to support your narrative and recommendations that you are building toward. **As always, make sure you're interpreting your plots as you go**."
   ]
  },
  {
   "cell_type": "code",
   "execution_count": null,
   "metadata": {},
   "outputs": [],
   "source": []
  },
  {
   "cell_type": "markdown",
   "metadata": {},
   "source": [
    "## Descriptive and Inferential Statistics"
   ]
  },
  {
   "cell_type": "markdown",
   "metadata": {},
   "source": [
    "#### Summarizing Distributions\n",
    "\n",
    "Above, we used pandas `describe` to provide quick summary statistics of our numeric columns. We also demonstrated many visual relationships.\n",
    "\n",
    "As data scientists, having a complete understanding of data is imperative prior to modeling.\n",
    "\n",
    "While we will continue to build our analytic tools, we know that measures of *central tendency*, *spread*, and *shape/skewness* provide a quick summary of distributions.\n",
    "\n",
    "For each variable in your data, summarize the underlying distributions (in words & statistics)\n",
    " - Be thorough in your verbal description of these distributions.\n",
    " - Be sure to back up these summaries with statistics."
   ]
  },
  {
   "cell_type": "markdown",
   "metadata": {},
   "source": [
    "Answers:"
   ]
  },
  {
   "cell_type": "code",
   "execution_count": 1430,
   "metadata": {},
   "outputs": [
    {
     "data": {
      "text/html": [
       "<div>\n",
       "<style scoped>\n",
       "    .dataframe tbody tr th:only-of-type {\n",
       "        vertical-align: middle;\n",
       "    }\n",
       "\n",
       "    .dataframe tbody tr th {\n",
       "        vertical-align: top;\n",
       "    }\n",
       "\n",
       "    .dataframe thead th {\n",
       "        text-align: right;\n",
       "    }\n",
       "</style>\n",
       "<table border=\"1\" class=\"dataframe\">\n",
       "  <thead>\n",
       "    <tr style=\"text-align: right;\">\n",
       "      <th></th>\n",
       "      <th>year</th>\n",
       "      <th>num_traffic_accidents</th>\n",
       "      <th>driving_licenses</th>\n",
       "    </tr>\n",
       "  </thead>\n",
       "  <tbody>\n",
       "    <tr>\n",
       "      <th>count</th>\n",
       "      <td>54.000000</td>\n",
       "      <td>54.000000</td>\n",
       "      <td>54.000000</td>\n",
       "    </tr>\n",
       "    <tr>\n",
       "      <th>mean</th>\n",
       "      <td>2016.500000</td>\n",
       "      <td>14141.388889</td>\n",
       "      <td>69517.555556</td>\n",
       "    </tr>\n",
       "    <tr>\n",
       "      <th>std</th>\n",
       "      <td>0.504695</td>\n",
       "      <td>34135.863621</td>\n",
       "      <td>121932.017236</td>\n",
       "    </tr>\n",
       "    <tr>\n",
       "      <th>min</th>\n",
       "      <td>2016.000000</td>\n",
       "      <td>112.000000</td>\n",
       "      <td>2153.000000</td>\n",
       "    </tr>\n",
       "    <tr>\n",
       "      <th>25%</th>\n",
       "      <td>2016.000000</td>\n",
       "      <td>592.750000</td>\n",
       "      <td>9371.000000</td>\n",
       "    </tr>\n",
       "    <tr>\n",
       "      <th>50%</th>\n",
       "      <td>2016.500000</td>\n",
       "      <td>1965.500000</td>\n",
       "      <td>16085.000000</td>\n",
       "    </tr>\n",
       "    <tr>\n",
       "      <th>75%</th>\n",
       "      <td>2017.000000</td>\n",
       "      <td>10584.500000</td>\n",
       "      <td>54507.000000</td>\n",
       "    </tr>\n",
       "    <tr>\n",
       "      <th>max</th>\n",
       "      <td>2017.000000</td>\n",
       "      <td>145541.000000</td>\n",
       "      <td>495307.000000</td>\n",
       "    </tr>\n",
       "  </tbody>\n",
       "</table>\n",
       "</div>"
      ],
      "text/plain": [
       "              year  num_traffic_accidents  driving_licenses\n",
       "count    54.000000              54.000000         54.000000\n",
       "mean   2016.500000           14141.388889      69517.555556\n",
       "std       0.504695           34135.863621     121932.017236\n",
       "min    2016.000000             112.000000       2153.000000\n",
       "25%    2016.000000             592.750000       9371.000000\n",
       "50%    2016.500000            1965.500000      16085.000000\n",
       "75%    2017.000000           10584.500000      54507.000000\n",
       "max    2017.000000          145541.000000     495307.000000"
      ]
     },
     "execution_count": 1430,
     "metadata": {},
     "output_type": "execute_result"
    }
   ],
   "source": [
    "dataset_merging.describe()"
   ]
  },
  {
   "cell_type": "markdown",
   "metadata": {},
   "source": [
    "#### We generally assuming that data we sample from a population will be normally distributed. Do we observe this trend?"
   ]
  },
  {
   "cell_type": "markdown",
   "metadata": {},
   "source": [
    "Answer: normal distribution is defined by two metrics, a mean and a standard deviation i observe we have mean and std positive value "
   ]
  },
  {
   "cell_type": "markdown",
   "metadata": {},
   "source": [
    "Does This Assumption Hold for:\n",
    "    - Driving Licenses\n",
    "    - Traffic Accidents\n",
    "Explain your answers for each distribution and how you think this will affect estimates made from these data."
   ]
  },
  {
   "cell_type": "markdown",
   "metadata": {},
   "source": [
    "Answer:"
   ]
  },
  {
   "cell_type": "markdown",
   "metadata": {},
   "source": [
    "#### Statistical Evaluation of Distributions \n",
    "\n",
    "**If you feel it's appropriate**, using methods we discussed in class, run hypothesis tests to compare variables of interest in our dataset. "
   ]
  },
  {
   "cell_type": "code",
   "execution_count": 923,
   "metadata": {},
   "outputs": [
    {
     "name": "stdout",
     "output_type": "stream",
     "text": [
      "<class 'pandas.core.frame.DataFrame'>\n",
      "Index: 325 entries, 0 to 349\n",
      "Data columns (total 5 columns):\n",
      "year                         325 non-null int64\n",
      "region                       325 non-null object\n",
      "driving_licenses             325 non-null int64\n",
      "latitude_driving_licenes     325 non-null object\n",
      "longitude_driving_licenes    325 non-null object\n",
      "dtypes: int64(2), object(3)\n",
      "memory usage: 25.2+ KB\n"
     ]
    }
   ],
   "source": [
    "driving_license.info()"
   ]
  },
  {
   "cell_type": "code",
   "execution_count": 925,
   "metadata": {},
   "outputs": [
    {
     "data": {
      "text/plain": [
       "(-2.6619591612798374, 0.008081129424577869)"
      ]
     },
     "execution_count": 925,
     "metadata": {},
     "output_type": "execute_result"
    }
   ],
   "source": [
    "# fast way with scipy.stats\n",
    "t_test_result = stats.ttest_ind(traffic_accidents['num_traffic_accidents'], driving_license['driving_licenses'])\n",
    "t_test_result.statistic, t_test_result.pvalue"
   ]
  },
  {
   "cell_type": "code",
   "execution_count": 926,
   "metadata": {},
   "outputs": [],
   "source": [
    "# let's visualize t-stat\n",
    "xpts = np.linspace(-4, 4, 500)\n",
    "ypts = stats.t.pdf(xpts, len(traffic_accidents) + len(driving_license) - 2, 0, 1)"
   ]
  },
  {
   "cell_type": "code",
   "execution_count": 930,
   "metadata": {},
   "outputs": [
    {
     "data": {
      "image/png": "[encoded data removed]",
      "text/plain": [
       "<Figure size 576x360 with 1 Axes>"
      ]
     },
     "metadata": {
      "needs_background": "light"
     },
     "output_type": "display_data"
    }
   ],
   "source": [
    "# plot the t-distribution\n",
    "fig = plt.figure(figsize=(8, 5)) \n",
    "ax = fig.gca() \n",
    "ax.plot(xpts, ypts, linewidth=3, color='green')\n",
    "ax.axvline(t_test_result.statistic, color='red', lw=5, linestyle='--')\n",
    "plt.show()\n"
   ]
  },
  {
   "cell_type": "markdown",
   "metadata": {},
   "source": [
    "## Outside Research"
   ]
  },
  {
   "cell_type": "markdown",
   "metadata": {},
   "source": [
    "Based upon your observations, choose **three** regions that demonstrate interesting trends in the number of driving licenses and traffic accidents. Spend some time doing outside research on provincial and central policies that might influence these rates, and summarize your findings below. **Feel free to go back and create new plots that highlight these states of interest**. If you bring in any outside tables or charts, make sure you are explicit about having borrowed them. If you quote any text, make sure that it renders as being quoted. (Make sure that you cite your sources -- check with you local instructor for citation preferences)."
   ]
  },
  {
   "cell_type": "markdown",
   "metadata": {},
   "source": [
    "Answer:"
   ]
  },
  {
   "cell_type": "code",
   "execution_count": null,
   "metadata": {},
   "outputs": [],
   "source": []
  },
  {
   "cell_type": "markdown",
   "metadata": {},
   "source": [
    "## Conclusions and Recommendations"
   ]
  },
  {
   "cell_type": "markdown",
   "metadata": {},
   "source": [
    "- Based on your exploration of the data, what are you key takeaways and recommendations?\n",
    "- Are there additional data you desire that would better inform your investigations?"
   ]
  },
  {
   "cell_type": "markdown",
   "metadata": {},
   "source": [
    "Answer:"
   ]
  }
 ],
 "metadata": {
  "anaconda-cloud": {},
  "kernelspec": {
   "display_name": "Python 3",
   "language": "python",
   "name": "python3"
  },
  "language_info": {
   "codemirror_mode": {
    "name": "ipython",
    "version": 3
   },
   "file_extension": ".py",
   "mimetype": "text/x-python",
   "name": "python",
   "nbconvert_exporter": "python",
   "pygments_lexer": "ipython3",
   "version": "3.6.8"
  }
 },
 "nbformat": 4,
 "nbformat_minor": 2
}
